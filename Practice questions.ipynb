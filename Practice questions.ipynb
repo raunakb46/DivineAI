{
 "cells": [
  {
   "cell_type": "code",
   "execution_count": 1,
   "id": "cfae8695",
   "metadata": {},
   "outputs": [
    {
     "name": "stdout",
     "output_type": "stream",
     "text": [
      "Enter distance in Kilometer:1\n",
      "Distance in Miles: 0.6215040397762586\n"
     ]
    }
   ],
   "source": [
    "#Python Program to Convert Kilometers to Miles\n",
    "\n",
    "dist = int(input(\"Enter distance in Kilometer:\"))\n",
    "print (\"Distance in Miles:\", dist / 1.609)"
   ]
  },
  {
   "cell_type": "code",
   "execution_count": 2,
   "id": "e6801d04",
   "metadata": {},
   "outputs": [
    {
     "name": "stdout",
     "output_type": "stream",
     "text": [
      "Enter temperature in Celsius:5\n",
      "Temperature in Fahrenheit: 41.0\n"
     ]
    }
   ],
   "source": [
    "#Python Program to Convert Celsius To Fahrenheit\n",
    "\n",
    "cel = int(input(\"Enter temperature in Celsius:\"))\n",
    "print (\"Temperature in Fahrenheit:\", (cel * 1.8) + 32)"
   ]
  },
  {
   "cell_type": "code",
   "execution_count": 3,
   "id": "6350d30c",
   "metadata": {},
   "outputs": [
    {
     "name": "stdout",
     "output_type": "stream",
     "text": [
      "Enter a number:-10\n",
      "Number is negative\n"
     ]
    }
   ],
   "source": [
    "#Python Program to Check if a Number is Positive, Negative or 0\n",
    "\n",
    "num = int(input(\"Enter a number:\"))\n",
    "if (num > 0):\n",
    "    print (\"Number is positive\")\n",
    "elif (num == 0):\n",
    "    print (\"Number is 0\")\n",
    "else:\n",
    "    print (\"Number is negative\")"
   ]
  },
  {
   "cell_type": "code",
   "execution_count": 4,
   "id": "355e16be",
   "metadata": {},
   "outputs": [
    {
     "name": "stdout",
     "output_type": "stream",
     "text": [
      "Enter a number:114\n",
      "114 is even\n"
     ]
    }
   ],
   "source": [
    "#Python Program to Check if a Number is Odd or Even\n",
    "\n",
    "num = int(input(\"Enter a number:\"))\n",
    "if (num % 2 == 0):\n",
    "    print (\"{} is even\".format(num))\n",
    "else:\n",
    "    print (\"{} is odd\".format(num))"
   ]
  },
  {
   "cell_type": "code",
   "execution_count": 8,
   "id": "b7f57367",
   "metadata": {},
   "outputs": [
    {
     "name": "stdout",
     "output_type": "stream",
     "text": [
      "Enter an year:1804\n",
      "1804 is a leap year\n"
     ]
    }
   ],
   "source": [
    "#Python Program to Check Leap Year\n",
    "\n",
    "year = int(input(\"Enter an year:\"))\n",
    "if (year % 4 == 0):\n",
    "    if (year % 100 == 0):\n",
    "        if (year % 400 == 0):\n",
    "            print (\"{} is a leap year\".format(year))\n",
    "        else:\n",
    "            print (\"{} is not a leap year\".format(year))\n",
    "    else:\n",
    "         print (\"{} is a leap year\".format(year))\n",
    "else:\n",
    "     print (\"{} is not a leap year\".format(year))"
   ]
  },
  {
   "cell_type": "code",
   "execution_count": 9,
   "id": "f5dc98fe",
   "metadata": {},
   "outputs": [
    {
     "name": "stdout",
     "output_type": "stream",
     "text": [
      "Enter num 1:12\n",
      "Enter num 2:17\n",
      "Enter num 3:11\n",
      "17 is greatest\n"
     ]
    }
   ],
   "source": [
    "#Python Program to Find the Largest Among Three Numbers\n",
    "\n",
    "a = int(input(\"Enter num 1:\"))\n",
    "b = int(input(\"Enter num 2:\"))\n",
    "c = int(input(\"Enter num 3:\"))\n",
    "if (a > b and a > c):\n",
    "    print(\"{} is greatest\".format(a))\n",
    "elif (b > a and b > c):\n",
    "    print (\"{} is greatest\".format(b))\n",
    "else:\n",
    "    print (\"{} is greatest\".format(c))"
   ]
  },
  {
   "cell_type": "code",
   "execution_count": 14,
   "id": "246fa9e5",
   "metadata": {},
   "outputs": [
    {
     "name": "stdout",
     "output_type": "stream",
     "text": [
      "Enter a number:3\n",
      "3 is a prime number\n"
     ]
    }
   ],
   "source": [
    "#Write a Python Program to check if a number is prime or not\n",
    "\n",
    "num = int(input(\"Enter a number:\"))\n",
    "flag = 0\n",
    "for i in range (2, num):\n",
    "    if (num % i == 0):\n",
    "        flag = 1\n",
    "        \n",
    "if (flag == 1):\n",
    "    print (\"{} is not prime\".format(num))\n",
    "else:\n",
    "    print (\"{} is a prime number\".format(num))"
   ]
  },
  {
   "cell_type": "code",
   "execution_count": 30,
   "id": "fa588451",
   "metadata": {},
   "outputs": [
    {
     "name": "stdout",
     "output_type": "stream",
     "text": [
      "Enter lower limit of the range:11\n",
      "Enter upper limit of the range:20\n",
      "List of prime numbers between 11 and 20 are --\n",
      "11\n",
      "13\n",
      "17\n",
      "19\n"
     ]
    }
   ],
   "source": [
    "#Python program to display all the prime numbers within an interval\n",
    "\n",
    "low = int(input(\"Enter lower limit of the range:\"))\n",
    "up = int(input(\"Enter upper limit of the range:\"))\n",
    "print (\"List of prime numbers between {} and {} are --\".format(low, up))\n",
    "for i in range (low, up + 1):\n",
    "    for j in range(2, i):\n",
    "        if (i > 1):\n",
    "            if (i % j == 0):\n",
    "                 break\n",
    "    else:\n",
    "        print(i)"
   ]
  },
  {
   "cell_type": "code",
   "execution_count": 36,
   "id": "7ad49621",
   "metadata": {},
   "outputs": [
    {
     "name": "stdout",
     "output_type": "stream",
     "text": [
      "Enter a number:6\n",
      "Factorial: 720\n"
     ]
    }
   ],
   "source": [
    "#Python program to find the factorial of a number\n",
    "\n",
    "num = int(input(\"Enter a number:\"))\n",
    "fact = 1\n",
    "if (num == 0):\n",
    "    print (\"Factorial: 0\")\n",
    "elif (num == 1):\n",
    "    print (\"Factorial: 1\")\n",
    "else:\n",
    "    for i in range (num, 0, -1):\n",
    "        fact = fact * i\n",
    "print (\"Factorial:\", fact)"
   ]
  },
  {
   "cell_type": "code",
   "execution_count": 37,
   "id": "f43f3d59",
   "metadata": {},
   "outputs": [
    {
     "name": "stdout",
     "output_type": "stream",
     "text": [
      "Enter a number:4\n",
      "Multiplication table of 4 --\n",
      "4 x 1 = 4\n",
      "4 x 2 = 8\n",
      "4 x 3 = 12\n",
      "4 x 4 = 16\n",
      "4 x 5 = 20\n",
      "4 x 6 = 24\n",
      "4 x 7 = 28\n",
      "4 x 8 = 32\n",
      "4 x 9 = 36\n",
      "4 x 10 = 40\n"
     ]
    }
   ],
   "source": [
    "#Python Program to Display the multiplication Table\n",
    "\n",
    "num = int(input(\"Enter a number:\"))\n",
    "print (\"Multiplication table of {} --\".format(num))\n",
    "for i in range (1, 11):\n",
    "    print (num, \"x\", i, \"=\", num * i)"
   ]
  },
  {
   "cell_type": "code",
   "execution_count": 39,
   "id": "42a00e5a",
   "metadata": {},
   "outputs": [
    {
     "name": "stdout",
     "output_type": "stream",
     "text": [
      "Enter a number:5\n",
      "Fibonacci series for 5 --\n",
      "0\n",
      "1\n",
      "1\n",
      "2\n",
      "3\n",
      "5\n"
     ]
    }
   ],
   "source": [
    "#Python Program to Print the Fibonacci sequence\n",
    "\n",
    "num = int(input(\"Enter a number:\"))\n",
    "a = 0\n",
    "b = 1\n",
    "print (\"Fibonacci series for {} --\".format(num))\n",
    "if num == 0:\n",
    "    print (a)\n",
    "elif num == 1:\n",
    "    print (b)\n",
    "else:\n",
    "    print (a)\n",
    "    print (b)\n",
    "    for i in range(2, num + 1):\n",
    "        c = a + b\n",
    "        a, b = b, c\n",
    "        print (c)"
   ]
  },
  {
   "cell_type": "code",
   "execution_count": 2,
   "id": "9d86c6c0",
   "metadata": {},
   "outputs": [
    {
     "name": "stdout",
     "output_type": "stream",
     "text": [
      "Enter a number:153\n",
      "153 is an Armstrong number\n"
     ]
    }
   ],
   "source": [
    "#Python Program to Check Armstrong Number (for 3 digits)\n",
    "\n",
    "num = int(input(\"Enter a number:\"))\n",
    "l = len(str(num))\n",
    "check = 0\n",
    "temp = num\n",
    "while (temp > 0):\n",
    "    d = temp % 10\n",
    "    check += d ** l\n",
    "    temp //= 10\n",
    "    \n",
    "if (check == num):\n",
    "    print (\"{} is an Armstrong number\".format(num))\n",
    "else:\n",
    "    print (\"{} is not an Armstrong number\".format(num))\n",
    "    "
   ]
  },
  {
   "cell_type": "code",
   "execution_count": null,
   "id": "3350f75d",
   "metadata": {},
   "outputs": [],
   "source": []
  }
 ],
 "metadata": {
  "kernelspec": {
   "display_name": "Python 3",
   "language": "python",
   "name": "python3"
  },
  "language_info": {
   "codemirror_mode": {
    "name": "ipython",
    "version": 3
   },
   "file_extension": ".py",
   "mimetype": "text/x-python",
   "name": "python",
   "nbconvert_exporter": "python",
   "pygments_lexer": "ipython3",
   "version": "3.9.1"
  }
 },
 "nbformat": 4,
 "nbformat_minor": 5
}
