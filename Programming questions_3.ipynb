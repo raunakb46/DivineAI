{
 "cells": [
  {
   "cell_type": "code",
   "execution_count": 2,
   "id": "fb0693b2",
   "metadata": {},
   "outputs": [
    {
     "name": "stdout",
     "output_type": "stream",
     "text": [
      "Enter length :25\n",
      "Enter breadth :35\n",
      "It is a rectangle\n"
     ]
    }
   ],
   "source": [
    "# Check if it is a square or rectangle by taking length and breadth from the user\n",
    "\n",
    "l = int(input(\"Enter length :\"))\n",
    "b = int(input(\"Enter breadth :\"))\n",
    "if (l == b):\n",
    "    print (\"It is a sqaure\")\n",
    "else:\n",
    "    print (\"It is a rectangle\")"
   ]
  },
  {
   "cell_type": "code",
   "execution_count": 12,
   "id": "e341cc7b",
   "metadata": {},
   "outputs": [
    {
     "name": "stdout",
     "output_type": "stream",
     "text": [
      "B\n"
     ]
    }
   ],
   "source": [
    "# Short hand if & if..else\n",
    "a =2\n",
    "b = 330\n",
    "print (\"A\") if a > b else print (\"B\")"
   ]
  },
  {
   "cell_type": "code",
   "execution_count": 14,
   "id": "f27c288d",
   "metadata": {},
   "outputs": [
    {
     "name": "stdout",
     "output_type": "stream",
     "text": [
      "Enter a :12\n",
      "Enter b:12\n",
      "Equal\n"
     ]
    }
   ],
   "source": [
    "# Take 2 integer values and check whether it is greater, smaller or equal using short hand if & if..else\n",
    "\n",
    "a = int(input(\"Enter a :\"))\n",
    "b = int(input(\"Enter b:\"))\n",
    "print (\"a is greater\") if a > b else print (\"b is greater\") if b > a else print (\"Equal\") "
   ]
  },
  {
   "cell_type": "code",
   "execution_count": 16,
   "id": "33264ede",
   "metadata": {},
   "outputs": [
    {
     "name": "stdout",
     "output_type": "stream",
     "text": [
      "Enter a number:5\n",
      "Sum of all the numbers from 1 to 5: 15\n"
     ]
    }
   ],
   "source": [
    "# Calculate sum of all the numbers from 1 to n, where n is user defined number\n",
    "\n",
    "n = int(input(\"Enter a number:\"))\n",
    "sum_1 = 0\n",
    "for i in range (1, n+1):\n",
    "    sum_1 = sum_1 + i\n",
    "print (\"Sum of all the numbers from 1 to {}:\".format(n), sum_1)"
   ]
  },
  {
   "cell_type": "code",
   "execution_count": 18,
   "id": "d4161bf0",
   "metadata": {},
   "outputs": [
    {
     "name": "stdout",
     "output_type": "stream",
     "text": [
      "Enter a number:5\n",
      "15\n"
     ]
    }
   ],
   "source": [
    "# Calculate sum of all the numbers from 1 to n, where n is user defined number, using while loop\n",
    "\n",
    "n = int(input(\"Enter a number:\"))\n",
    "sum_1 = 0\n",
    "i = 0\n",
    "while i <= n:\n",
    "    sum_1 = sum_1 + i\n",
    "    i = i + 1\n",
    "print (sum_1)"
   ]
  },
  {
   "cell_type": "code",
   "execution_count": 24,
   "id": "8841913e",
   "metadata": {},
   "outputs": [
    {
     "name": "stdout",
     "output_type": "stream",
     "text": [
      "Enter size of the list:5\n",
      "Enter elements :A\n",
      "Enter elements :109\n",
      "Enter elements :Function\n",
      "Enter elements :True\n",
      "Enter elements :0\n",
      "['A', '109', 'Function', 'True', '0']\n",
      "Sorted in ascending order : ['0', '109', 'A', 'Function', 'True']\n",
      "Sorted in descending order : ['True', 'Function', 'A', '109', '0']\n"
     ]
    }
   ],
   "source": [
    "# Take user defined list which contains all types of data and print the list in ascending and descending order\n",
    "\n",
    "l = []\n",
    "n = int(input(\"Enter size of the list:\"))\n",
    "for i in range (n):\n",
    "    a = str(input(\"Enter elements :\")) \n",
    "    l.append (a)\n",
    "print (l)\n",
    "l.sort()\n",
    "print (\"Sorted in ascending order :\", l)\n",
    "l.sort(reverse = True)\n",
    "print (\"Sorted in descending order :\", l)"
   ]
  },
  {
   "cell_type": "code",
   "execution_count": 29,
   "id": "665a422c",
   "metadata": {},
   "outputs": [
    {
     "name": "stdout",
     "output_type": "stream",
     "text": [
      "[0, 1, 2, 3, 4]\n"
     ]
    }
   ],
   "source": [
    "# Print a list with numbers less than 5 using list comprehension\n",
    "\n",
    "newlist = [i for i in range(20) if i < 5]\n",
    "print (newlist)"
   ]
  },
  {
   "cell_type": "code",
   "execution_count": null,
   "id": "61bee04a",
   "metadata": {},
   "outputs": [],
   "source": []
  }
 ],
 "metadata": {
  "kernelspec": {
   "display_name": "Python 3",
   "language": "python",
   "name": "python3"
  },
  "language_info": {
   "codemirror_mode": {
    "name": "ipython",
    "version": 3
   },
   "file_extension": ".py",
   "mimetype": "text/x-python",
   "name": "python",
   "nbconvert_exporter": "python",
   "pygments_lexer": "ipython3",
   "version": "3.9.1"
  }
 },
 "nbformat": 4,
 "nbformat_minor": 5
}
