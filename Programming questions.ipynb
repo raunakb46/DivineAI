{
 "cells": [
  {
   "cell_type": "code",
   "execution_count": 1,
   "id": "1076da25",
   "metadata": {},
   "outputs": [
    {
     "name": "stdout",
     "output_type": "stream",
     "text": [
      "Enter a number:4\n",
      "4 x 1 = 4\n",
      "4 x 2 = 8\n",
      "4 x 3 = 12\n",
      "4 x 4 = 16\n",
      "4 x 5 = 20\n",
      "4 x 6 = 24\n",
      "4 x 7 = 28\n",
      "4 x 8 = 32\n",
      "4 x 9 = 36\n",
      "4 x 10 = 40\n"
     ]
    }
   ],
   "source": [
    "# WAP to print table of n, where n is entered by the user\n",
    "\n",
    "n = int(input(\"Enter a number:\"))\n",
    "for i in range (1, 11):\n",
    "    print (n, \"x\", i, \"=\", n * i)"
   ]
  },
  {
   "cell_type": "code",
   "execution_count": 7,
   "id": "e3f7a29a",
   "metadata": {},
   "outputs": [
    {
     "name": "stdout",
     "output_type": "stream",
     "text": [
      "Enter a number:5\n",
      "Sum of 5 natural numbers is: 15\n"
     ]
    }
   ],
   "source": [
    "# WAP to print sum of n natural numbers, where n is entered by the user\n",
    "\n",
    "n = int(input(\"Enter a number:\"))\n",
    "sum_1 = 0\n",
    "for i in range (1, n+1):\n",
    "    sum_1 = sum_1 + i\n",
    "print (\"Sum of {} natural numbers is:\".format(n), sum_1)\n",
    "    "
   ]
  },
  {
   "cell_type": "code",
   "execution_count": 10,
   "id": "1eb00e71",
   "metadata": {},
   "outputs": [
    {
     "name": "stdout",
     "output_type": "stream",
     "text": [
      "Enter a number:5\n",
      "Factorial is : 120\n"
     ]
    }
   ],
   "source": [
    "# WAP to print the factorial of the given number, where number is entered by the user\n",
    "\n",
    "n = int(input(\"Enter a number:\"))\n",
    "fact = 1\n",
    "if (n == 0):\n",
    "    print (\"Factorial is: 0\")\n",
    "elif (n == 1):\n",
    "    print (\"Factorial is: 1\")\n",
    "else:\n",
    "    for i in range (1, n+1):\n",
    "        fact = fact * i\n",
    "    print (\"Factorial is :\", fact)"
   ]
  },
  {
   "cell_type": "code",
   "execution_count": 17,
   "id": "744346cb",
   "metadata": {},
   "outputs": [
    {
     "name": "stdout",
     "output_type": "stream",
     "text": [
      "Enter number of days in the month:6\n",
      "Enter sales of day 1 :21\n",
      "Enter sales of day 2 :34\n",
      "Enter sales of day 3 :56\n",
      "Enter sales of day 4 :34\n",
      "Enter sales of day 5 :89\n",
      "Enter sales of day 6 :57\n",
      "Average sales of the month: 48.5\n"
     ]
    }
   ],
   "source": [
    "# WAP to input sales of the month and calculate the average sales of that month\n",
    "\n",
    "n = int(input(\"Enter number of days in the month:\"))\n",
    "l = []\n",
    "\n",
    "for i in range (1, n+1):\n",
    "    sale = int(input(\"Enter sales of day {} :\".format(i)))\n",
    "    l.append(sale)\n",
    "sum_1 = sum(l)\n",
    "avg = sum_1 / n\n",
    "print (\"Average sales of the month:\", avg)"
   ]
  },
  {
   "cell_type": "code",
   "execution_count": 20,
   "id": "ee279276",
   "metadata": {},
   "outputs": [
    {
     "name": "stdout",
     "output_type": "stream",
     "text": [
      "Enter the lower limit:2\n",
      "Enter the upper limit:15\n",
      "2\n",
      "3\n",
      "5\n",
      "7\n",
      "11\n",
      "13\n"
     ]
    }
   ],
   "source": [
    "# Print all the prime numbers within a user defined range\n",
    "\n",
    "low = int(input(\"Enter the lower limit:\"))\n",
    "up = int(input(\"Enter the upper limit:\"))\n",
    "for num in range (low, up+1):\n",
    "    if (num > 1):\n",
    "        for i in range (2, num):\n",
    "            if (num % i == 0):\n",
    "                break\n",
    "        else:\n",
    "            print (num)"
   ]
  },
  {
   "cell_type": "code",
   "execution_count": null,
   "id": "04e2afa2",
   "metadata": {},
   "outputs": [],
   "source": []
  }
 ],
 "metadata": {
  "kernelspec": {
   "display_name": "Python 3",
   "language": "python",
   "name": "python3"
  },
  "language_info": {
   "codemirror_mode": {
    "name": "ipython",
    "version": 3
   },
   "file_extension": ".py",
   "mimetype": "text/x-python",
   "name": "python",
   "nbconvert_exporter": "python",
   "pygments_lexer": "ipython3",
   "version": "3.9.1"
  }
 },
 "nbformat": 4,
 "nbformat_minor": 5
}
