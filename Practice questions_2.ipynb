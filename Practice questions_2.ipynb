{
 "cells": [
  {
   "cell_type": "code",
   "execution_count": null,
   "id": "46d87446",
   "metadata": {},
   "outputs": [],
   "source": [
    "#Python Program to Display Fibonacci Sequence Using Recursion\n",
    "#Python Program to Find Sum of Natural Numbers Using Recursion\n",
    "#Python Program to Find Factorial of Number Using Recursion\n",
    "#Python Program to Add Two Matrices\n",
    "#Python Program to Add Two Matrices using Nested List Comprehension\n",
    "#Python Program to Transpose a Matrix using Nested Loop\n",
    "#Python Program to Transpose a Matrix using Nested List Comprehension\n",
    "#Python Program to Multiply Two Matrices using Nested Loop\n",
    "#Python Program to Multiply Two Matrices using Nested List Comprehension\n",
    "#Python Program to Remove Punctuations From a String\n",
    "#Python Program to Sort Words in Alphabetic Order\n",
    "#Python Program to Illustrate Different Set Operations\n",
    "#Python Program to Count the Number of Each Vowel \n",
    "#Python Program to Count the Number of Each Vowel Using a list and a dictionary comprehension\n",
    "#Python Program Given a string, find the length of the longest substring without repeating characters.\n",
    "#Python Program Given an array of integers, return indices of the two numbers such that they add up to a specific target.\n",
    "#Python Program Given a sorted integer array without duplicates, return the summary of its ranges.\n",
    "#Python Program to Rotate an array of n elements to the right by k steps.\n",
    "#Python Program to Consider an array of non-negative integers. A second array is formed by shuffling the elements of the first array and deleting a random element. Given these two arrays, #Python Program Given a collection of intervals which are already sorted by start number, merge all overlapping intervals.\n",
    "#Python Program Given a list slice it into a 3 equal chunks and revert each list\n",
    "#write a program to calculate exponents of an input\n",
    "#write a program to multiply two Matrix "
   ]
  },
  {
   "cell_type": "code",
   "execution_count": 1,
   "id": "430c817b",
   "metadata": {},
   "outputs": [
    {
     "name": "stdout",
     "output_type": "stream",
     "text": [
      "Enter a number:153\n",
      "Sum of cube of each digit : 153\n"
     ]
    }
   ],
   "source": [
    "# Find the sum of the cube of each digit\n",
    "\n",
    "num = int(input(\"Enter a number:\"))\n",
    "sum_1 = 0\n",
    "while num > 0:\n",
    "    d = num % 10\n",
    "    sum_1 = sum_1 + d ** 3\n",
    "    num //= 10\n",
    "print (\"Sum of cube of each digit :\", sum_1)"
   ]
  },
  {
   "cell_type": "code",
   "execution_count": 5,
   "id": "beb2b6d0",
   "metadata": {},
   "outputs": [
    {
     "name": "stdout",
     "output_type": "stream",
     "text": [
      "Enter lower limit:1\n",
      "Enter upper limit:1000\n",
      "1\n",
      "2\n",
      "3\n",
      "4\n",
      "5\n",
      "6\n",
      "7\n",
      "8\n",
      "9\n",
      "153\n",
      "370\n",
      "371\n",
      "407\n"
     ]
    }
   ],
   "source": [
    "#Python Program to Find Armstrong Number in an Interval\n",
    "\n",
    "low = int(input(\"Enter lower limit:\"))\n",
    "up = int(input(\"Enter upper limit:\"))\n",
    "for i in range(low, up+1):\n",
    "    temp = i\n",
    "    l = len(str(i))\n",
    "    check = 0\n",
    "    while temp > 0:\n",
    "        d = temp % 10\n",
    "        check = check + d ** l\n",
    "        temp //= 10\n",
    "    if (check == i):\n",
    "        print (i)"
   ]
  },
  {
   "cell_type": "code",
   "execution_count": 8,
   "id": "55f995a4",
   "metadata": {},
   "outputs": [
    {
     "name": "stdout",
     "output_type": "stream",
     "text": [
      "Enter the number upto which you want the sum:20\n",
      "Sum: 210\n"
     ]
    }
   ],
   "source": [
    "#Python Program to Find the Sum of Natural Numbers\n",
    "\n",
    "num = int(input(\"Enter the number upto which you want the sum:\"))\n",
    "sum_1 = 0\n",
    "for i in range (1, num+1):\n",
    "    sum_1 = sum_1 + i\n",
    "print (\"Sum:\", sum_1)"
   ]
  },
  {
   "cell_type": "code",
   "execution_count": 13,
   "id": "a5617bb5",
   "metadata": {},
   "outputs": [
    {
     "name": "stdout",
     "output_type": "stream",
     "text": [
      "Power of 2:\n",
      "[2, 4, 8, 16, 32]\n"
     ]
    }
   ],
   "source": [
    "#Python Program To Display Powers of 2 Using Anonymous Function\n",
    "\n",
    "power = [1, 2, 3, 4, 5]\n",
    "print (\"Power of 2:\")\n",
    "print(list(map(lambda n: 2 ** n, power)))"
   ]
  },
  {
   "cell_type": "code",
   "execution_count": 14,
   "id": "bc734c3b",
   "metadata": {},
   "outputs": [
    {
     "name": "stdout",
     "output_type": "stream",
     "text": [
      "[1, 2, 3, 4, 5, 6, 7, 8, 9, 10, 11, 12, 13, 14, 15]\n",
      "Enter a number:3\n",
      "Numbers divisible by 3 are --\n",
      "3\n",
      "6\n",
      "9\n",
      "12\n",
      "15\n"
     ]
    }
   ],
   "source": [
    "#Python Program to Find Numbers Divisible by Another Number\n",
    "\n",
    "l = [1, 2, 3, 4, 5, 6, 7, 8, 9, 10, 11, 12, 13, 14, 15]\n",
    "print (l)\n",
    "num = int(input(\"Enter a number:\"))\n",
    "print (\"Numbers divisible by {} are --\".format(num))\n",
    "for i in l:\n",
    "    if (i % num == 0):\n",
    "        print (i)"
   ]
  },
  {
   "cell_type": "code",
   "execution_count": 17,
   "id": "16b62875",
   "metadata": {},
   "outputs": [
    {
     "name": "stdout",
     "output_type": "stream",
     "text": [
      "Enter a decimal number:10\n",
      "Binary representation of 10 is:  1010\n"
     ]
    }
   ],
   "source": [
    "#Python Program to Convert Decimal to Binary\n",
    "\n",
    "num = int(input(\"Enter a decimal number:\"))\n",
    "print (\"Binary representation of {} is:\".format(num), bin(num).replace(\"0b\", \" \"))"
   ]
  },
  {
   "cell_type": "code",
   "execution_count": 25,
   "id": "5845aede",
   "metadata": {},
   "outputs": [
    {
     "name": "stdout",
     "output_type": "stream",
     "text": [
      "Enter a decimal number:11\n",
      "Hexadecimal representation of 11 is: B\n"
     ]
    }
   ],
   "source": [
    "#Python Program to Convert Decimal to Hexadecimal\n",
    "\n",
    "num = int(input(\"Enter a decimal number:\"))\n",
    "print (\"Hexadecimal representation of {} is:\".format(num), hex(num).replace(\"0x\", \"\").upper())"
   ]
  },
  {
   "cell_type": "code",
   "execution_count": 29,
   "id": "dc6f18d8",
   "metadata": {},
   "outputs": [
    {
     "name": "stdout",
     "output_type": "stream",
     "text": [
      "Enter a character:V\n",
      "ASCII value of V is: 86\n"
     ]
    }
   ],
   "source": [
    "#Python Program to Find ASCII Value of Character\n",
    "\n",
    "val = input(\"Enter a character:\")\n",
    "print (\"ASCII value of {} is:\".format(val), ord(val))"
   ]
  },
  {
   "cell_type": "code",
   "execution_count": 31,
   "id": "695dd860",
   "metadata": {},
   "outputs": [
    {
     "name": "stdout",
     "output_type": "stream",
     "text": [
      "Enter a number:153\n",
      "Sum of the digits of 153 is: 9\n"
     ]
    }
   ],
   "source": [
    "#Python program to compute sum of digits in number\n",
    "\n",
    "num = int(input(\"Enter a number:\"))\n",
    "temp = num\n",
    "sum_1 = 0\n",
    "while num > 0:\n",
    "    d = num % 10\n",
    "    sum_1 = sum_1 + d\n",
    "    num //= 10\n",
    "print (\"Sum of the digits of {} is:\".format(temp), sum_1)"
   ]
  },
  {
   "cell_type": "code",
   "execution_count": 33,
   "id": "4a11e481",
   "metadata": {},
   "outputs": [
    {
     "name": "stdout",
     "output_type": "stream",
     "text": [
      "Enter first number:134\n",
      "Enter second number:35\n",
      "Remainder when 134 is divided by 35: 29\n"
     ]
    }
   ],
   "source": [
    "#write a program to find and print the remainder of two number\n",
    "\n",
    "num1 = int(input(\"Enter first number:\"))\n",
    "num2 = int(input(\"Enter second number:\"))\n",
    "print (\"Remainder when {} is divided by {}:\".format(num1, num2), num1 % num2)"
   ]
  },
  {
   "cell_type": "code",
   "execution_count": 38,
   "id": "0fa4332a",
   "metadata": {},
   "outputs": [
    {
     "name": "stdout",
     "output_type": "stream",
     "text": [
      "List before sorting: ['Apple', 'Cat', 'Zero', 'Rain', 'Joke', 'Mail']\n",
      "List after sorting: ['Apple', 'Cat', 'Joke', 'Mail', 'Rain', 'Zero']\n"
     ]
    }
   ],
   "source": [
    "#Python program to Sort the list in ascending order\n",
    "\n",
    "l = [\"Apple\", \"Cat\", \"Zero\", \"Rain\", \"Joke\", \"Mail\"]\n",
    "print (\"List before sorting:\", l)\n",
    "l.sort()\n",
    "print (\"List after sorting:\", l)"
   ]
  },
  {
   "cell_type": "code",
   "execution_count": 39,
   "id": "5771d980",
   "metadata": {},
   "outputs": [
    {
     "name": "stdout",
     "output_type": "stream",
     "text": [
      "List before sorting: ['Apple', 'Cat', 'Zero', 'Rain', 'Joke', 'Mail']\n",
      "List after sorting: ['Zero', 'Rain', 'Mail', 'Joke', 'Cat', 'Apple']\n"
     ]
    }
   ],
   "source": [
    "#Python program to Sort the list in descending order\n",
    "\n",
    "l = [\"Apple\", \"Cat\", \"Zero\", \"Rain\", \"Joke\", \"Mail\"]\n",
    "print (\"List before sorting:\", l)\n",
    "l.sort(reverse = True)\n",
    "print (\"List after sorting:\", l)"
   ]
  },
  {
   "cell_type": "code",
   "execution_count": 40,
   "id": "2cd49641",
   "metadata": {},
   "outputs": [
    {
     "name": "stdout",
     "output_type": "stream",
     "text": [
      "['Apple', 'Cat', 'Zero', 'Rain', 'Joke', 'Mail']\n",
      "Enter the index number of the element you want to remove:2\n",
      "Item to remove: Zero\n",
      "List after removal of item: ['Apple', 'Cat', 'Rain', 'Joke', 'Mail']\n"
     ]
    }
   ],
   "source": [
    "#Removes the item at the given index from the list and returns the removed item\n",
    "\n",
    "l = [\"Apple\", \"Cat\", \"Zero\", \"Rain\", \"Joke\", \"Mail\"]\n",
    "print (l)\n",
    "index = int(input(\"Enter the index number of the element you want to remove:\"))\n",
    "print (\"Item to remove:\", l[index])\n",
    "del l[index]\n",
    "print (\"List after removal of item:\", l)"
   ]
  },
  {
   "cell_type": "code",
   "execution_count": 47,
   "id": "a6c05a69",
   "metadata": {},
   "outputs": [
    {
     "name": "stdout",
     "output_type": "stream",
     "text": [
      "Enter the element you want to count:Apple\n",
      "Number of times Apple appeared in the list: 2\n"
     ]
    }
   ],
   "source": [
    "#Returns the number of times the specified element appears in the list\n",
    "\n",
    "l = [\"Apple\", \"Cat\", \"Zero\", \"Rain\", \"Joke\", \"Mail\", \"Apple\", \"Joke\"]\n",
    "ele = input(\"Enter the element you want to count:\")\n",
    "print (\"Number of times {} appeared in the list:\".format(ele), l.count(ele))"
   ]
  },
  {
   "cell_type": "code",
   "execution_count": 49,
   "id": "439b8d7f",
   "metadata": {},
   "outputs": [
    {
     "name": "stdout",
     "output_type": "stream",
     "text": [
      "Enter a string:Python\n",
      "First character of string: P\n"
     ]
    }
   ],
   "source": [
    "#Access first characters in a string\n",
    "\n",
    "ele = input(\"Enter a string:\")\n",
    "print (\"First character of string:\", ele[0])"
   ]
  },
  {
   "cell_type": "code",
   "execution_count": 50,
   "id": "23efc768",
   "metadata": {},
   "outputs": [
    {
     "name": "stdout",
     "output_type": "stream",
     "text": [
      "Enter a string:Python\n",
      "First character of string: n\n"
     ]
    }
   ],
   "source": [
    "#Access Last characters in a string\n",
    "\n",
    "ele = input(\"Enter a string:\")\n",
    "print (\"First character of string:\", ele[-1])"
   ]
  },
  {
   "cell_type": "code",
   "execution_count": 51,
   "id": "520be9f9",
   "metadata": {},
   "outputs": [
    {
     "name": "stdout",
     "output_type": "stream",
     "text": [
      "[0, 1, 2, 3, 4]\n"
     ]
    }
   ],
   "source": [
    "# Generate a list by list comprehension\n",
    "\n",
    "new = [i for i in range(5)]\n",
    "print (new)"
   ]
  },
  {
   "cell_type": "code",
   "execution_count": 2,
   "id": "5710c464",
   "metadata": {},
   "outputs": [
    {
     "name": "stdout",
     "output_type": "stream",
     "text": [
      "Provided list: ['Apple', 'Cat', 'Zero', 'Rain', 'Joke', 'Mail']\n",
      "List in upper case: ['APPLE', 'CAT', 'ZERO', 'RAIN', 'JOKE', 'MAIL']\n"
     ]
    }
   ],
   "source": [
    "# Set the values in the new list to upper case\n",
    "\n",
    "l = [\"Apple\", \"Cat\", \"Zero\", \"Rain\", \"Joke\", \"Mail\"]\n",
    "m = []\n",
    "print (\"Provided list:\", l)\n",
    "for i in l:\n",
    "    m.append(i.upper())\n",
    "print (\"List in upper case:\", m)"
   ]
  },
  {
   "cell_type": "code",
   "execution_count": 3,
   "id": "ac7dd0a1",
   "metadata": {},
   "outputs": [
    {
     "name": "stdout",
     "output_type": "stream",
     "text": [
      "List before sorting: ['Apple', 'Cat', 'Zero', 'Rain', 'Joke', 'Mail']\n",
      "List after sorting: ['Apple', 'Cat', 'Joke', 'Mail', 'Rain', 'Zero']\n"
     ]
    }
   ],
   "source": [
    "# Sort the string list alphabetically\n",
    "\n",
    "l = [\"Apple\", \"Cat\", \"Zero\", \"Rain\", \"Joke\", \"Mail\"]\n",
    "print (\"List before sorting:\", l)\n",
    "l.sort()\n",
    "print (\"List after sorting:\", l)"
   ]
  },
  {
   "cell_type": "code",
   "execution_count": 11,
   "id": "6f32fbd6",
   "metadata": {},
   "outputs": [
    {
     "name": "stdout",
     "output_type": "stream",
     "text": [
      "Set 1: {1, 2, 4, 5, 6}\n",
      "Set 2: {8, 9, 7}\n",
      "Joining both the lists: {1, 2, 4, 5, 6, 7, 8, 9}\n"
     ]
    }
   ],
   "source": [
    "# Join Two Sets\n",
    "\n",
    "s1 = {1, 2, 4, 5, 6}\n",
    "s2 = {7, 8, 9}\n",
    "print (\"Set 1:\", s1)\n",
    "print (\"Set 2:\", s2)\n",
    "print (\"Joining both the lists:\", s1.union(s2))"
   ]
  },
  {
   "cell_type": "code",
   "execution_count": 12,
   "id": "bff9de2f",
   "metadata": {},
   "outputs": [
    {
     "name": "stdout",
     "output_type": "stream",
     "text": [
      "Set 1: {1, 2, 4, 5, 6}\n",
      "Set 2: {5, 6, 7, 8, 9}\n",
      "Joining both the lists: {5, 6}\n"
     ]
    }
   ],
   "source": [
    "#Keep only the items that are present in both sets\n",
    "\n",
    "s1 = {1, 2, 4, 5, 6}\n",
    "s2 = {7, 8, 9, 5, 6}\n",
    "print (\"Set 1:\", s1)\n",
    "print (\"Set 2:\", s2)\n",
    "print (\"Joining both the lists:\", s1.intersection(s2))"
   ]
  },
  {
   "cell_type": "code",
   "execution_count": 14,
   "id": "69cf938f",
   "metadata": {},
   "outputs": [
    {
     "name": "stdout",
     "output_type": "stream",
     "text": [
      "List: ['Apple', 'Cat', 'Zero', 'Rain', 'Joke', 'Mail', 'Apple', 'Joke']\n",
      "After removing duplicates: ['Mail', 'Rain', 'Cat', 'Apple', 'Zero', 'Joke']\n"
     ]
    }
   ],
   "source": [
    "#Keep All items from List But NOT the Duplicates\n",
    "\n",
    "l = [\"Apple\", \"Cat\", \"Zero\", \"Rain\", \"Joke\", \"Mail\", \"Apple\", \"Joke\"]\n",
    "print (\"List:\", l)\n",
    "s = set(l)\n",
    "l = list(s)\n",
    "print (\"After removing duplicates:\", l)"
   ]
  },
  {
   "cell_type": "code",
   "execution_count": 16,
   "id": "f05f7ec0",
   "metadata": {},
   "outputs": [
    {
     "name": "stdout",
     "output_type": "stream",
     "text": [
      "Dictionary: {'Red': 7, 'Green': 5, 'Blue': 6, 'Black': 1, 'White': 2}\n"
     ]
    }
   ],
   "source": [
    "# Create and print a dictionary\n",
    "\n",
    "dic = {\"Red\" : 7, \"Green\" : 5, \"Blue\" : 6, \"Black\": 1, \"White\" : 2}\n",
    "print (\"Dictionary:\", dic)"
   ]
  },
  {
   "cell_type": "code",
   "execution_count": 17,
   "id": "39dd53cf",
   "metadata": {},
   "outputs": [
    {
     "name": "stdout",
     "output_type": "stream",
     "text": [
      "Length of the dictionary: 5\n"
     ]
    }
   ],
   "source": [
    "# Calculate the length of dictionary\n",
    "\n",
    "dic = {\"Red\" : 7, \"Green\" : 5, \"Blue\" : 6, \"Black\": 1, \"White\" : 2}\n",
    "print (\"Length of the dictionary:\", len(dic))"
   ]
  },
  {
   "cell_type": "code",
   "execution_count": 1,
   "id": "88f89013",
   "metadata": {},
   "outputs": [
    {
     "name": "stdout",
     "output_type": "stream",
     "text": [
      "Enter first number:3\n",
      "Enter second number:6\n",
      "HCF of 3 and 6 is: 3\n"
     ]
    }
   ],
   "source": [
    "#Python Program to Find HCF or GCD\n",
    "\n",
    "num1 = int(input(\"Enter first number:\"))\n",
    "num2 = int(input(\"Enter second number:\"))\n",
    "if (num1 > num2):\n",
    "    smaller = num2\n",
    "elif (num2 > num1):\n",
    "    smaller = num1\n",
    "for i in range(1, smaller+1):\n",
    "    if ((num1 % i == 0) and (num2 % i == 0)):\n",
    "        hcf = i\n",
    "print (\"HCF of {} and {} is:\".format(num1, num2), hcf)"
   ]
  },
  {
   "cell_type": "code",
   "execution_count": 8,
   "id": "8b4e2302",
   "metadata": {},
   "outputs": [
    {
     "name": "stdout",
     "output_type": "stream",
     "text": [
      "Enter first number:12\n",
      "Enter second number:4\n",
      "HCF of 12 and 4 is: 4\n"
     ]
    }
   ],
   "source": [
    "#Write a python function to find HCf or GCD and return the value\n",
    "\n",
    "def hcf(x, y):\n",
    "    if (x > y):\n",
    "        smaller = y\n",
    "    elif (y > x):\n",
    "        smaller = x\n",
    "    for i in range(1, smaller+1):\n",
    "        if ((x % i == 0) and (y % i == 0)):\n",
    "            hcf = i\n",
    "    return hcf\n",
    "\n",
    "num1 = int(input(\"Enter first number:\"))\n",
    "num2 = int(input(\"Enter second number:\"))\n",
    "print(\"HCF of {} and {} is:\".format(num1, num2), hcf(num1, num2))"
   ]
  },
  {
   "cell_type": "code",
   "execution_count": 10,
   "id": "cad73989",
   "metadata": {},
   "outputs": [
    {
     "name": "stdout",
     "output_type": "stream",
     "text": [
      "Enter first number:48\n",
      "Enter second number:60\n",
      "HCF of the numbers using Euclidean algorithm: 12\n"
     ]
    }
   ],
   "source": [
    "#Write a python function to find HCf or GCD and return the value using euclidian Algorithm\n",
    "\n",
    "def euclidean(x, y):\n",
    "    while (y):\n",
    "        x, y = y, x % y\n",
    "    return x\n",
    "\n",
    "num1 = int(input(\"Enter first number:\"))\n",
    "num2 = int(input(\"Enter second number:\"))\n",
    "print (\"HCF of the numbers using Euclidean algorithm:\", euclidean(num1, num2))"
   ]
  },
  {
   "cell_type": "code",
   "execution_count": 11,
   "id": "0344c959",
   "metadata": {},
   "outputs": [
    {
     "name": "stdout",
     "output_type": "stream",
     "text": [
      "Enter first number:45\n",
      "Enter second number:15\n",
      "HCF of the numbers using Euclidean algorithm: 15\n"
     ]
    }
   ],
   "source": [
    "#Write a python program to find HCf or GCD using euclidian Algorithm\n",
    "\n",
    "num1 = int(input(\"Enter first number:\"))\n",
    "num2 = int(input(\"Enter second number:\"))\n",
    "while (num2):\n",
    "    num1, num2 = num2, num1 % num2\n",
    "    \n",
    "print (\"HCF of the numbers using Euclidean algorithm:\", num1)"
   ]
  },
  {
   "cell_type": "code",
   "execution_count": 15,
   "id": "b7813016",
   "metadata": {},
   "outputs": [
    {
     "name": "stdout",
     "output_type": "stream",
     "text": [
      "Enter first number:15\n",
      "Enter second number:20\n",
      "LCM of 15 and 20 is: 60\n"
     ]
    }
   ],
   "source": [
    "#Python Program to Find LCM\n",
    "\n",
    "num1 = int(input(\"Enter first number:\"))\n",
    "num2 = int(input(\"Enter second number:\"))\n",
    "if (num1 > num2):\n",
    "    greater = num1\n",
    "else:\n",
    "    greater = num2\n",
    "while (True):\n",
    "    if ((greater % num1 == 0) and (greater % num2 == 0)):\n",
    "        lcm = greater\n",
    "        break\n",
    "    greater = greater + 1\n",
    "print (\"LCM of {} and {} is:\".format(num1, num2), lcm)"
   ]
  },
  {
   "cell_type": "code",
   "execution_count": 16,
   "id": "f2b0704e",
   "metadata": {},
   "outputs": [
    {
     "name": "stdout",
     "output_type": "stream",
     "text": [
      "Enter first number:60\n",
      "Enter second number:12\n",
      "LCM of 60 and 12 is: 60\n"
     ]
    }
   ],
   "source": [
    "#write a Python function to Find LCM and return the value\n",
    "\n",
    "def lcm(x, y):\n",
    "    if (x > y):\n",
    "        greater = x\n",
    "    else:\n",
    "        greater = y\n",
    "    while (True):\n",
    "        if ((greater % x == 0) and (greater % y == 0)):\n",
    "            lcm = greater\n",
    "            break\n",
    "        greater = greater + 1\n",
    "    return lcm\n",
    "\n",
    "num1 = int(input(\"Enter first number:\"))\n",
    "num2 = int(input(\"Enter second number:\"))\n",
    "print (\"LCM of {} and {} is:\".format(num1, num2), lcm(num1, num2))"
   ]
  },
  {
   "cell_type": "code",
   "execution_count": 17,
   "id": "657ce9a4",
   "metadata": {},
   "outputs": [
    {
     "name": "stdout",
     "output_type": "stream",
     "text": [
      "Enter first number:15\n",
      "Enter second number:20\n",
      "LCM of 15 and 20 is: 60.0\n"
     ]
    }
   ],
   "source": [
    "#Python Program to Compute LCM Using GCD\n",
    "\n",
    "def euclidean(x, y):\n",
    "    while (y):\n",
    "        x, y = y, x % y\n",
    "    return x\n",
    "\n",
    "def lcm(x, y):\n",
    "    return (x / euclidean(x, y)) * y\n",
    "\n",
    "num1 = int(input(\"Enter first number:\"))\n",
    "num2 = int(input(\"Enter second number:\"))\n",
    "print (\"LCM of {} and {} is:\".format(num1, num2), lcm(num1, num2))"
   ]
  },
  {
   "cell_type": "code",
   "execution_count": 19,
   "id": "c3fd1dd4",
   "metadata": {},
   "outputs": [
    {
     "name": "stdout",
     "output_type": "stream",
     "text": [
      "Enter a number:180\n",
      "Factors of 180 are:\n",
      "1\n",
      "2\n",
      "3\n",
      "4\n",
      "5\n",
      "6\n",
      "9\n",
      "10\n",
      "12\n",
      "15\n",
      "18\n",
      "20\n",
      "30\n",
      "36\n",
      "45\n",
      "60\n",
      "90\n",
      "180\n"
     ]
    }
   ],
   "source": [
    "#Python funcction to Find the Factors of a Number\n",
    "\n",
    "num = int(input(\"Enter a number:\"))\n",
    "print (\"Factors of {} are:\".format(num))\n",
    "for i in range (1, num + 1):\n",
    "    if (num % i == 0):\n",
    "        print (i)"
   ]
  },
  {
   "cell_type": "code",
   "execution_count": 22,
   "id": "3b408f2f",
   "metadata": {},
   "outputs": [
    {
     "name": "stdout",
     "output_type": "stream",
     "text": [
      "Enter first number:5\n",
      "Enter sencond number:9\n",
      "Enter number corresponding to the operation you want to perform --\n",
      "1. Addition\n",
      "2. Subtraction\n",
      "3. Multiplication\n",
      "4. Division\n",
      "2\n",
      "Difference of the numbers: -4\n"
     ]
    }
   ],
   "source": [
    "#Python Program to Make a Simple Calculator\n",
    "\n",
    "def add(x, y):\n",
    "    return x + y\n",
    "\n",
    "def sub(x, y):\n",
    "    return x - y\n",
    "\n",
    "def mul(x, y):\n",
    "    return x * y\n",
    "\n",
    "def div(x, y):\n",
    "    return x / y\n",
    "\n",
    "num1 = int(input(\"Enter first number:\"))\n",
    "num2 = int(input(\"Enter sencond number:\"))\n",
    "q = '''Enter number corresponding to the operation you want to perform --\n",
    "1. Addition\n",
    "2. Subtraction\n",
    "3. Multiplication\n",
    "4. Division'''\n",
    "print (q)\n",
    "choice = int(input())\n",
    "if (choice == 1):\n",
    "    print (\"Sum of the numbers:\", add(num1, num2))\n",
    "elif (choice == 2):\n",
    "    print (\"Difference of the numbers:\", sub(num1, num2))\n",
    "elif (choice == 3):\n",
    "    print (\"Product of the numbers:\", mul(num1, num2))\n",
    "elif (choice == 4):\n",
    "    print (\"Divison of the numbers:\", div(num1, num2))\n",
    "else:\n",
    "    print (\"Invalid choice\")"
   ]
  },
  {
   "cell_type": "code",
   "execution_count": 27,
   "id": "82c28c09",
   "metadata": {},
   "outputs": [
    {
     "name": "stdout",
     "output_type": "stream",
     "text": [
      "Enter a value:1221\n",
      "It is a palindrome\n"
     ]
    }
   ],
   "source": [
    "#Python Program to Check Whether a String is Palindrome or Not\n",
    "\n",
    "val = input(\"Enter a value:\")\n",
    "flag = 1\n",
    "for i in val:\n",
    "    if (val == val[::-1]):\n",
    "        flag = 0\n",
    "    else:\n",
    "        flag = 1\n",
    "if (flag == 0):\n",
    "    print (\"It is a palindrome\")\n",
    "else:\n",
    "    print (\"Not a palindrome\")"
   ]
  },
  {
   "cell_type": "code",
   "execution_count": null,
   "id": "ffffd9ad",
   "metadata": {},
   "outputs": [],
   "source": []
  }
 ],
 "metadata": {
  "kernelspec": {
   "display_name": "Python 3",
   "language": "python",
   "name": "python3"
  },
  "language_info": {
   "codemirror_mode": {
    "name": "ipython",
    "version": 3
   },
   "file_extension": ".py",
   "mimetype": "text/x-python",
   "name": "python",
   "nbconvert_exporter": "python",
   "pygments_lexer": "ipython3",
   "version": "3.9.1"
  }
 },
 "nbformat": 4,
 "nbformat_minor": 5
}
