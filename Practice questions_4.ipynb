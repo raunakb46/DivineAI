{
 "cells": [
  {
   "cell_type": "code",
   "execution_count": null,
   "id": "4f5bd101",
   "metadata": {},
   "outputs": [],
   "source": [
    "#Python Program to Transpose a Matrix using Nested Loop\n",
    "#Python Program to Multiply Two Matrices using Nested List Comprehension\n",
    "#Python Program Given a string, find the length of the longest substring without repeating characters.\n",
    "#Python Program Given an array of integers, return indices of the two numbers such that they add up to a specific target."
   ]
  },
  {
   "cell_type": "code",
   "execution_count": 4,
   "id": "f8057acc",
   "metadata": {},
   "outputs": [
    {
     "name": "stdout",
     "output_type": "stream",
     "text": [
      "Given sentence: The boy was happy, eager and full of anticipation at the start of his summer holiday.\n",
      "Punctuations removed: The boy was happy eager and full of anticipation at the start of his summer holiday\n"
     ]
    }
   ],
   "source": [
    "#Python Program to Remove Punctuations From a String \n",
    "\n",
    "text = \"The boy was happy, eager and full of anticipation at the start of his summer holiday.\"\n",
    "t = list(text)\n",
    "print (\"Given sentence:\", text)\n",
    "for i in t:\n",
    "    if (i == ',' or i == '.' or i == '!' or i == '?' or i == ':' or i == ';' or i == \"'\" or i == '-' or i == '()' or i == '[]' or i == '/'):\n",
    "        t.remove(i)\n",
    "t2 = ''.join(map(str, t))\n",
    "print (\"Punctuations removed:\", t2)"
   ]
  },
  {
   "cell_type": "code",
   "execution_count": 9,
   "id": "f0b0be98",
   "metadata": {},
   "outputs": [
    {
     "name": "stdout",
     "output_type": "stream",
     "text": [
      "['[0]->[1]', '[1]->[2]', '[2]->[3]', '[4]->[5]', '[5]->[6]', '[7]']\n"
     ]
    }
   ],
   "source": [
    "#Python Program Given a sorted integer array without duplicates, return the summary of its ranges.\n",
    "\n",
    "array = [0, 1, 2, 4, 5, 7]\n",
    "empty = []\n",
    "for i in array:\n",
    "    if (i != i+1 and 0 <= i <= 2):\n",
    "        empty.append(\"[{}]->[{}]\".format(i, i+1))\n",
    "    elif (i != i+1 and 4 <= i <= 5):\n",
    "        empty.append(\"[{}]->[{}]\".format(i, i+1))\n",
    "    else:\n",
    "        empty.append(\"[{}]\".format(i))\n",
    "print (empty)"
   ]
  },
  {
   "cell_type": "code",
   "execution_count": 12,
   "id": "d3e6e9dd",
   "metadata": {},
   "outputs": [
    {
     "name": "stdout",
     "output_type": "stream",
     "text": [
      "[[1, 2, 3], [4, 5, 6], [7, 8, 9]]\n"
     ]
    }
   ],
   "source": [
    "#Python Program Given a list slice it into a 3 equal chunks and revert each list\n",
    "\n",
    "def chunk(l, n):\n",
    "    for i in range(0, len(l), n):\n",
    "        yield l[i : i + n]\n",
    "\n",
    "num = [1, 2, 3, 4, 5, 6, 7, 8, 9]\n",
    "a = list(chunk(num, 3))\n",
    "print (a)"
   ]
  },
  {
   "cell_type": "code",
   "execution_count": 18,
   "id": "6a05ba55",
   "metadata": {},
   "outputs": [
    {
     "name": "stdout",
     "output_type": "stream",
     "text": [
      "First array: [2, 3, 7, 1, 0, 8, 4]\n",
      "Second array: [0, 1, 8, 2, 3, 4]\n"
     ]
    }
   ],
   "source": [
    "#Python Program to Consider an array of non-negative integers. A second array is formed by shuffling the elements of the first array and deleting a random element\n",
    "\n",
    "import random\n",
    "arr_1 = [2, 3, 7, 1, 0, 8, 4]\n",
    "print (\"First array:\", arr_1)\n",
    "random.shuffle(arr_1)\n",
    "a = random.choice(arr_1)\n",
    "arr_1.remove(a)\n",
    "print (\"Second array:\", arr_1)"
   ]
  },
  {
   "cell_type": "code",
   "execution_count": 19,
   "id": "39945f96",
   "metadata": {},
   "outputs": [
    {
     "name": "stdout",
     "output_type": "stream",
     "text": [
      "Array 1: [1, 2, 3, 4, 5, 6]\n",
      "Array 2: [7, 8, 9, 10, 11, 12]\n",
      "Sum of array: [8, 10, 12, 14, 16, 18]\n"
     ]
    }
   ],
   "source": [
    "#Python Program to Add Two Matrices\n",
    "\n",
    "l = [1, 2, 3, 4, 5, 6]\n",
    "m = [7, 8, 9, 10, 11, 12]\n",
    "sum_arr = []\n",
    "for i in range (0, len(l)):\n",
    "    sum_arr.append(l[i] + m[i])\n",
    "print (\"Array 1:\", l)\n",
    "print (\"Array 2:\", m)\n",
    "print (\"Sum of array:\", sum_arr)"
   ]
  },
  {
   "cell_type": "code",
   "execution_count": 21,
   "id": "01e527bc",
   "metadata": {},
   "outputs": [
    {
     "name": "stdout",
     "output_type": "stream",
     "text": [
      "5 7 9 1 3 \n",
      "\n"
     ]
    }
   ],
   "source": [
    "#Python Program to Rotate an array of n elements to the right by k steps.\n",
    "\n",
    "def rotate(a, n, k):\n",
    "    k = k % n\n",
    "    for i in range(0, n):\n",
    "        if (i < k):\n",
    "            print (a[n + i - k], end = \" \")\n",
    "        else:\n",
    "            print (a[i - k], end = \" \")\n",
    "    print (\"\\n\")\n",
    "\n",
    "num = [1, 3, 5, 7, 9]\n",
    "n = len(num)\n",
    "k = 3\n",
    "rotate (num, n, k)"
   ]
  },
  {
   "cell_type": "code",
   "execution_count": 29,
   "id": "5e4c13d5",
   "metadata": {},
   "outputs": [
    {
     "name": "stdout",
     "output_type": "stream",
     "text": [
      "Given text: The boy was happy, eager and full of anticipation at the start of his summer holiday\n",
      "{'a': 9, 'e': 5, 'i': 5, 'o': 5, 'u': 2}\n"
     ]
    }
   ],
   "source": [
    "#Python Program to Count the Number of Each Vowel Using a list and a dictionary comprehension\n",
    "\n",
    "text = \"The boy was happy, eager and full of anticipation at the start of his summer holiday\"\n",
    "print (\"Given text:\", text)\n",
    "text = text.casefold()\n",
    "count = {k:sum([1 for char in text if char == k]) for k in 'aeiou'}\n",
    "print (count)"
   ]
  },
  {
   "cell_type": "code",
   "execution_count": 32,
   "id": "5bd06633",
   "metadata": {},
   "outputs": [
    {
     "name": "stdout",
     "output_type": "stream",
     "text": [
      "[3, 6, 9]\n",
      "[9, 12, 10]\n",
      "[10, 18, 2]\n"
     ]
    }
   ],
   "source": [
    "#Python Program to Add Two Matrices using nested loop\n",
    "\n",
    "x = [[2, 3, 4],\n",
    "    [5, 6, 7],\n",
    "    [8, 9, 1]]\n",
    "\n",
    "y = [[1, 3, 5],\n",
    "    [4, 6, 3],\n",
    "    [2, 9, 1]]\n",
    "\n",
    "result =  [[0, 0, 0],\n",
    "           [0, 0, 0],\n",
    "           [0, 0, 0]]\n",
    "\n",
    "for i in range (len(x)):\n",
    "    for j in range (len(x[0])):\n",
    "        result[i][j] = x[i][j] + y[i][j]\n",
    "        \n",
    "for r in result:\n",
    "    print (r)"
   ]
  },
  {
   "cell_type": "code",
   "execution_count": 42,
   "id": "94cfaf5e",
   "metadata": {},
   "outputs": [
    {
     "name": "stdout",
     "output_type": "stream",
     "text": [
      "[2, 3]\n",
      "[5, 6]\n",
      "[8, 9]\n",
      "\n",
      "\n",
      "[1, 3, 5]\n",
      "[2, 4, 6]\n"
     ]
    }
   ],
   "source": [
    "#Python Program to Transpose a Matrix using Nested List Comprehension\n",
    "\n",
    "a = [[2, 3],[5, 6],[8, 9]]\n",
    "for row in a:\n",
    "    print (row)\n",
    "transpose = [[m[j][i] for j in range(len(a))] for i in range(len(a[0]))]\n",
    "print (\"\\n\")\n",
    "for row in transpose:\n",
    "    print (row)"
   ]
  },
  {
   "cell_type": "code",
   "execution_count": null,
   "id": "aed0ea5d",
   "metadata": {},
   "outputs": [],
   "source": []
  }
 ],
 "metadata": {
  "kernelspec": {
   "display_name": "Python 3",
   "language": "python",
   "name": "python3"
  },
  "language_info": {
   "codemirror_mode": {
    "name": "ipython",
    "version": 3
   },
   "file_extension": ".py",
   "mimetype": "text/x-python",
   "name": "python",
   "nbconvert_exporter": "python",
   "pygments_lexer": "ipython3",
   "version": "3.9.1"
  }
 },
 "nbformat": 4,
 "nbformat_minor": 5
}
