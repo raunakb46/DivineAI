{
 "cells": [
  {
   "cell_type": "code",
   "execution_count": null,
   "id": "db200081",
   "metadata": {},
   "outputs": [],
   "source": [
    "#Python Program to Add Two Matrices\n",
    "#Python Program to Add Two Matrices using Nested List Comprehension\n",
    "#Python Program to Transpose a Matrix using Nested Loop\n",
    "#Python Program to Transpose a Matrix using Nested List Comprehension\n",
    "#Python Program to Multiply Two Matrices using Nested Loop\n",
    "#Python Program to Multiply Two Matrices using Nested List Comprehension\n",
    "#Python Program to Remove Punctuations From a String \n",
    "#Python Program to Count the Number of Each Vowel Using a list and a dictionary comprehension\n",
    "#Python Program Given a string, find the length of the longest substring without repeating characters.\n",
    "#Python Program Given an array of integers, return indices of the two numbers such that they add up to a specific target.\n",
    "#Python Program Given a sorted integer array without duplicates, return the summary of its ranges.\n",
    "#Python Program to Rotate an array of n elements to the right by k steps.\n",
    "#Python Program to Consider an array of non-negative integers. A second array is formed by shuffling the elements of the first array and deleting a random element. Given these two arrays \n",
    "#Python Program Given a collection of intervals which are already sorted by start number, merge all overlapping intervals.\n",
    "#Python Program Given a list slice it into a 3 equal chunks and revert each list"
   ]
  },
  {
   "cell_type": "code",
   "execution_count": 1,
   "id": "9c2d6ff4",
   "metadata": {},
   "outputs": [
    {
     "name": "stdout",
     "output_type": "stream",
     "text": [
      "Enter a number:3\n",
      "Enter any power of 3:5\n",
      "3 to the power 5: 243\n"
     ]
    }
   ],
   "source": [
    "#write a program to calculate exponents of an input\n",
    "\n",
    "num = int(input(\"Enter a number:\"))\n",
    "expo = int(input(\"Enter any power of {}:\".format(num)))\n",
    "print (\"{} to the power {}:\".format(num, expo), num ** expo)"
   ]
  },
  {
   "cell_type": "code",
   "execution_count": 10,
   "id": "d47b06ff",
   "metadata": {},
   "outputs": [
    {
     "name": "stdout",
     "output_type": "stream",
     "text": [
      "First matrix: [[1, 2, 3], [4, 5, 6]]\n",
      "Second matrix: [[7, 8, 9], [10, 11, 12]]\n",
      "Product matrix: [[27, 30, 33], [78, 87, 96]]\n",
      "Product matrix: [[27, 30, 33], [78, 87, 96]]\n"
     ]
    }
   ],
   "source": [
    "#write a program to multiply two Matrix \n",
    "\n",
    "mat_1 = [[1, 2, 3], \n",
    "         [4, 5, 6]]\n",
    "mat_2 = [[7, 8, 9,],\n",
    "        [10, 11, 12]]\n",
    "mat_3 = [[0, 0, 0],\n",
    "        [0, 0, 0]]\n",
    "for i in range (len(mat_1)):\n",
    "    for j in range (len(mat_2[0])):\n",
    "         for k in range (len(mat_2)):\n",
    "            mat_3 [i][j] += mat_1 [i][k] * mat_2 [k][j]\n",
    "print (\"First matrix:\", mat_1)\n",
    "print (\"Second matrix:\", mat_2)\n",
    "for l in mat_3:\n",
    "     print (\"Product matrix:\", mat_3)"
   ]
  },
  {
   "cell_type": "code",
   "execution_count": 15,
   "id": "28ac4089",
   "metadata": {},
   "outputs": [
    {
     "name": "stdout",
     "output_type": "stream",
     "text": [
      "Enter 7 random words --\n",
      "Cake\n",
      "Man\n",
      "Apple\n",
      "Knife\n",
      "Joke\n",
      "Zero\n",
      "Username \n",
      "List: ['Cake', 'Man', 'Apple', 'Knife', 'Joke', 'Zero', 'Username ']\n",
      "Sorted list: ['Apple', 'Cake', 'Joke', 'Knife', 'Man', 'Username ', 'Zero']\n"
     ]
    }
   ],
   "source": [
    "#Python Program to Sort Words in Alphabetic Order\n",
    "\n",
    "l = []\n",
    "print (\"Enter 7 random words --\")\n",
    "for i in range(7):\n",
    "    a = input()\n",
    "    l.append(a)\n",
    "print (\"List:\", l)\n",
    "l.sort()\n",
    "print (\"Sorted list:\", l)"
   ]
  },
  {
   "cell_type": "code",
   "execution_count": 17,
   "id": "45930e1f",
   "metadata": {},
   "outputs": [
    {
     "name": "stdout",
     "output_type": "stream",
     "text": [
      "Given sentence: In non-functional linguistics, a sentence is a textual unit consisting of one or more words that are grammatically linked\n",
      "Number of a present: 9\n",
      "Number of e present: 8\n",
      "Number of i present: 10\n",
      "Number of o present: 8\n",
      "Number of u present: 4\n"
     ]
    }
   ],
   "source": [
    "#Python Program to Count the Number of Each Vowel\n",
    "\n",
    "text = \"In non-functional linguistics, a sentence is a textual unit consisting of one or more words that are grammatically linked\"\n",
    "print (\"Given sentence:\", text)\n",
    "print (\"Number of a present:\", text.count('a'))\n",
    "print (\"Number of e present:\", text.count('e'))\n",
    "print (\"Number of i present:\", text.count('i'))\n",
    "print (\"Number of o present:\", text.count('o'))\n",
    "print (\"Number of u present:\", text.count('u'))"
   ]
  },
  {
   "cell_type": "code",
   "execution_count": 19,
   "id": "157d787e",
   "metadata": {},
   "outputs": [
    {
     "name": "stdout",
     "output_type": "stream",
     "text": [
      "Enter a number:5\n",
      "Factorial: 120\n"
     ]
    }
   ],
   "source": [
    "#Python Program to Find Factorial of Number Using Recursion\n",
    "\n",
    "def fact(n):\n",
    "    if (n == 1):\n",
    "        return n\n",
    "    else:\n",
    "        return n * fact(n - 1)\n",
    "num = int(input(\"Enter a number:\"))\n",
    "if (num < 0):\n",
    "    print (\"Factorial doesn't exists\")\n",
    "elif (num == 0):\n",
    "    print (\"Factorial is: 1\")\n",
    "else:\n",
    "    print (\"Factorial:\", fact(num))"
   ]
  },
  {
   "cell_type": "code",
   "execution_count": 1,
   "id": "24f89148",
   "metadata": {},
   "outputs": [
    {
     "name": "stdout",
     "output_type": "stream",
     "text": [
      "Enter a number upto which you want the sum:5\n",
      "Sum is: 15\n"
     ]
    }
   ],
   "source": [
    "#Python Program to Find Sum of Natural Numbers Using Recursion\n",
    "\n",
    "def nsum(n):\n",
    "    if n <= 1:\n",
    "        return n\n",
    "    else:\n",
    "        return n + nsum(n - 1)\n",
    "\n",
    "num = int(input(\"Enter a number upto which you want the sum:\"))\n",
    "if (num < 0):\n",
    "    print (\"Enter a positive number\")\n",
    "else:\n",
    "    print (\"Sum is:\", nsum(num))"
   ]
  },
  {
   "cell_type": "code",
   "execution_count": 4,
   "id": "b39bc64b",
   "metadata": {},
   "outputs": [
    {
     "name": "stdout",
     "output_type": "stream",
     "text": [
      "Enter the number upto which you want the series:5\n",
      "0\n",
      "1\n",
      "1\n",
      "2\n",
      "3\n",
      "5\n"
     ]
    }
   ],
   "source": [
    "#Python Program to Display Fibonacci Sequence Using Recursion\n",
    "\n",
    "def fibonacci(n):\n",
    "    if n <= 1:\n",
    "        return n\n",
    "    else:\n",
    "        return (fibonacci(n - 1) + fibonacci(n - 2))\n",
    "    \n",
    "num = int(input(\"Enter the number upto which you want the series:\"))\n",
    "if num < 0:\n",
    "    print (\"Enter a positive number\")\n",
    "else:\n",
    "    for i in range(num+1):\n",
    "        print (fibonacci(i))"
   ]
  },
  {
   "cell_type": "code",
   "execution_count": null,
   "id": "ddc04916",
   "metadata": {},
   "outputs": [],
   "source": []
  }
 ],
 "metadata": {
  "kernelspec": {
   "display_name": "Python 3",
   "language": "python",
   "name": "python3"
  },
  "language_info": {
   "codemirror_mode": {
    "name": "ipython",
    "version": 3
   },
   "file_extension": ".py",
   "mimetype": "text/x-python",
   "name": "python",
   "nbconvert_exporter": "python",
   "pygments_lexer": "ipython3",
   "version": "3.9.1"
  }
 },
 "nbformat": 4,
 "nbformat_minor": 5
}
