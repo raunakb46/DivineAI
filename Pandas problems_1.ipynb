{
 "cells": [
  {
   "cell_type": "code",
   "execution_count": 1,
   "id": "2733a886",
   "metadata": {},
   "outputs": [],
   "source": [
    "# Reading a csv file using pandas\n",
    "\n",
    "import pandas as pd\n",
    "data = pd.read_csv('Apple.csv')"
   ]
  },
  {
   "cell_type": "code",
   "execution_count": 2,
   "id": "ab747acb",
   "metadata": {},
   "outputs": [
    {
     "data": {
      "text/html": [
       "<div>\n",
       "<style scoped>\n",
       "    .dataframe tbody tr th:only-of-type {\n",
       "        vertical-align: middle;\n",
       "    }\n",
       "\n",
       "    .dataframe tbody tr th {\n",
       "        vertical-align: top;\n",
       "    }\n",
       "\n",
       "    .dataframe thead th {\n",
       "        text-align: right;\n",
       "    }\n",
       "</style>\n",
       "<table border=\"1\" class=\"dataframe\">\n",
       "  <thead>\n",
       "    <tr style=\"text-align: right;\">\n",
       "      <th></th>\n",
       "      <th>Date</th>\n",
       "      <th>High</th>\n",
       "      <th>Low</th>\n",
       "      <th>Open</th>\n",
       "      <th>Close</th>\n",
       "      <th>Volume</th>\n",
       "      <th>Adj Close</th>\n",
       "    </tr>\n",
       "  </thead>\n",
       "  <tbody>\n",
       "    <tr>\n",
       "      <th>0</th>\n",
       "      <td>2003-12-31</td>\n",
       "      <td>0.384464</td>\n",
       "      <td>0.378214</td>\n",
       "      <td>0.381250</td>\n",
       "      <td>0.381607</td>\n",
       "      <td>174451200.0</td>\n",
       "      <td>0.326520</td>\n",
       "    </tr>\n",
       "    <tr>\n",
       "      <th>1</th>\n",
       "      <td>2004-01-02</td>\n",
       "      <td>0.388393</td>\n",
       "      <td>0.378214</td>\n",
       "      <td>0.384821</td>\n",
       "      <td>0.380000</td>\n",
       "      <td>144642400.0</td>\n",
       "      <td>0.325145</td>\n",
       "    </tr>\n",
       "    <tr>\n",
       "      <th>2</th>\n",
       "      <td>2004-01-05</td>\n",
       "      <td>0.399821</td>\n",
       "      <td>0.382500</td>\n",
       "      <td>0.382500</td>\n",
       "      <td>0.395893</td>\n",
       "      <td>395018400.0</td>\n",
       "      <td>0.338744</td>\n",
       "    </tr>\n",
       "    <tr>\n",
       "      <th>3</th>\n",
       "      <td>2004-01-06</td>\n",
       "      <td>0.400357</td>\n",
       "      <td>0.387679</td>\n",
       "      <td>0.397321</td>\n",
       "      <td>0.394464</td>\n",
       "      <td>509348000.0</td>\n",
       "      <td>0.337521</td>\n",
       "    </tr>\n",
       "    <tr>\n",
       "      <th>4</th>\n",
       "      <td>2004-01-07</td>\n",
       "      <td>0.407679</td>\n",
       "      <td>0.391607</td>\n",
       "      <td>0.394643</td>\n",
       "      <td>0.403393</td>\n",
       "      <td>586874400.0</td>\n",
       "      <td>0.345161</td>\n",
       "    </tr>\n",
       "    <tr>\n",
       "      <th>...</th>\n",
       "      <td>...</td>\n",
       "      <td>...</td>\n",
       "      <td>...</td>\n",
       "      <td>...</td>\n",
       "      <td>...</td>\n",
       "      <td>...</td>\n",
       "      <td>...</td>\n",
       "    </tr>\n",
       "    <tr>\n",
       "      <th>4249</th>\n",
       "      <td>2020-11-16</td>\n",
       "      <td>120.989998</td>\n",
       "      <td>118.150002</td>\n",
       "      <td>118.919998</td>\n",
       "      <td>120.300003</td>\n",
       "      <td>91183000.0</td>\n",
       "      <td>120.300003</td>\n",
       "    </tr>\n",
       "    <tr>\n",
       "      <th>4250</th>\n",
       "      <td>2020-11-17</td>\n",
       "      <td>120.669998</td>\n",
       "      <td>118.959999</td>\n",
       "      <td>119.550003</td>\n",
       "      <td>119.389999</td>\n",
       "      <td>74271000.0</td>\n",
       "      <td>119.389999</td>\n",
       "    </tr>\n",
       "    <tr>\n",
       "      <th>4251</th>\n",
       "      <td>2020-11-18</td>\n",
       "      <td>119.820000</td>\n",
       "      <td>118.000000</td>\n",
       "      <td>118.610001</td>\n",
       "      <td>118.029999</td>\n",
       "      <td>76322100.0</td>\n",
       "      <td>118.029999</td>\n",
       "    </tr>\n",
       "    <tr>\n",
       "      <th>4252</th>\n",
       "      <td>2020-11-19</td>\n",
       "      <td>119.059998</td>\n",
       "      <td>116.809998</td>\n",
       "      <td>117.589996</td>\n",
       "      <td>118.639999</td>\n",
       "      <td>74113000.0</td>\n",
       "      <td>118.639999</td>\n",
       "    </tr>\n",
       "    <tr>\n",
       "      <th>4253</th>\n",
       "      <td>2020-11-20</td>\n",
       "      <td>118.769997</td>\n",
       "      <td>117.290001</td>\n",
       "      <td>118.639999</td>\n",
       "      <td>117.339996</td>\n",
       "      <td>73391400.0</td>\n",
       "      <td>117.339996</td>\n",
       "    </tr>\n",
       "  </tbody>\n",
       "</table>\n",
       "<p>4254 rows × 7 columns</p>\n",
       "</div>"
      ],
      "text/plain": [
       "            Date        High         Low        Open       Close       Volume  \\\n",
       "0     2003-12-31    0.384464    0.378214    0.381250    0.381607  174451200.0   \n",
       "1     2004-01-02    0.388393    0.378214    0.384821    0.380000  144642400.0   \n",
       "2     2004-01-05    0.399821    0.382500    0.382500    0.395893  395018400.0   \n",
       "3     2004-01-06    0.400357    0.387679    0.397321    0.394464  509348000.0   \n",
       "4     2004-01-07    0.407679    0.391607    0.394643    0.403393  586874400.0   \n",
       "...          ...         ...         ...         ...         ...          ...   \n",
       "4249  2020-11-16  120.989998  118.150002  118.919998  120.300003   91183000.0   \n",
       "4250  2020-11-17  120.669998  118.959999  119.550003  119.389999   74271000.0   \n",
       "4251  2020-11-18  119.820000  118.000000  118.610001  118.029999   76322100.0   \n",
       "4252  2020-11-19  119.059998  116.809998  117.589996  118.639999   74113000.0   \n",
       "4253  2020-11-20  118.769997  117.290001  118.639999  117.339996   73391400.0   \n",
       "\n",
       "       Adj Close  \n",
       "0       0.326520  \n",
       "1       0.325145  \n",
       "2       0.338744  \n",
       "3       0.337521  \n",
       "4       0.345161  \n",
       "...          ...  \n",
       "4249  120.300003  \n",
       "4250  119.389999  \n",
       "4251  118.029999  \n",
       "4252  118.639999  \n",
       "4253  117.339996  \n",
       "\n",
       "[4254 rows x 7 columns]"
      ]
     },
     "execution_count": 2,
     "metadata": {},
     "output_type": "execute_result"
    }
   ],
   "source": [
    "# Displaying the csv file\n",
    "\n",
    "data"
   ]
  },
  {
   "cell_type": "code",
   "execution_count": 7,
   "id": "49613f23",
   "metadata": {},
   "outputs": [
    {
     "data": {
      "text/plain": [
       "RangeIndex(start=0, stop=4254, step=1)"
      ]
     },
     "execution_count": 7,
     "metadata": {},
     "output_type": "execute_result"
    }
   ],
   "source": [
    "# To get the starting & ending index along with step size\n",
    "\n",
    "data.index"
   ]
  },
  {
   "cell_type": "code",
   "execution_count": 10,
   "id": "f3962779",
   "metadata": {},
   "outputs": [
    {
     "data": {
      "text/plain": [
       "<bound method NDFrame.describe of             Date        High         Low        Open       Close       Volume  \\\n",
       "0     2003-12-31    0.384464    0.378214    0.381250    0.381607  174451200.0   \n",
       "1     2004-01-02    0.388393    0.378214    0.384821    0.380000  144642400.0   \n",
       "2     2004-01-05    0.399821    0.382500    0.382500    0.395893  395018400.0   \n",
       "3     2004-01-06    0.400357    0.387679    0.397321    0.394464  509348000.0   \n",
       "4     2004-01-07    0.407679    0.391607    0.394643    0.403393  586874400.0   \n",
       "...          ...         ...         ...         ...         ...          ...   \n",
       "4249  2020-11-16  120.989998  118.150002  118.919998  120.300003   91183000.0   \n",
       "4250  2020-11-17  120.669998  118.959999  119.550003  119.389999   74271000.0   \n",
       "4251  2020-11-18  119.820000  118.000000  118.610001  118.029999   76322100.0   \n",
       "4252  2020-11-19  119.059998  116.809998  117.589996  118.639999   74113000.0   \n",
       "4253  2020-11-20  118.769997  117.290001  118.639999  117.339996   73391400.0   \n",
       "\n",
       "       Adj Close  \n",
       "0       0.326520  \n",
       "1       0.325145  \n",
       "2       0.338744  \n",
       "3       0.337521  \n",
       "4       0.345161  \n",
       "...          ...  \n",
       "4249  120.300003  \n",
       "4250  119.389999  \n",
       "4251  118.029999  \n",
       "4252  118.639999  \n",
       "4253  117.339996  \n",
       "\n",
       "[4254 rows x 7 columns]>"
      ]
     },
     "execution_count": 10,
     "metadata": {},
     "output_type": "execute_result"
    }
   ],
   "source": [
    "# To get the descriptive statistics\n",
    "\n",
    "data.describe"
   ]
  },
  {
   "cell_type": "code",
   "execution_count": 11,
   "id": "8a2b95e2",
   "metadata": {},
   "outputs": [
    {
     "data": {
      "text/plain": [
       "array([['2003-12-31', 0.384464293718338, 0.3782142996788025, ...,\n",
       "        0.3816071450710296, 174451200.0, 0.3265203833580017],\n",
       "       ['2004-01-02', 0.3883928656578064, 0.3782142996788025, ...,\n",
       "        0.3799999952316284, 144642400.0, 0.3251452147960663],\n",
       "       ['2004-01-05', 0.3998214304447174, 0.3824999928474426, ...,\n",
       "        0.395892858505249, 395018400.0, 0.3387439250946045],\n",
       "       ...,\n",
       "       ['2020-11-18', 119.81999969482422, 118.0, ..., 118.02999877929688,\n",
       "        76322100.0, 118.02999877929688],\n",
       "       ['2020-11-19', 119.05999755859376, 116.80999755859376, ...,\n",
       "        118.63999938964844, 74113000.0, 118.63999938964844],\n",
       "       ['2020-11-20', 118.7699966430664, 117.29000091552734, ...,\n",
       "        117.33999633789062, 73391400.0, 117.33999633789062]], dtype=object)"
      ]
     },
     "execution_count": 11,
     "metadata": {},
     "output_type": "execute_result"
    }
   ],
   "source": [
    "# To get the numpy representation of a dataframe\n",
    "# Only the values in the dataframe is displayed, the label name is removed\n",
    "\n",
    "data.values"
   ]
  },
  {
   "cell_type": "code",
   "execution_count": 12,
   "id": "86b21840",
   "metadata": {},
   "outputs": [
    {
     "data": {
      "text/html": [
       "<div>\n",
       "<style scoped>\n",
       "    .dataframe tbody tr th:only-of-type {\n",
       "        vertical-align: middle;\n",
       "    }\n",
       "\n",
       "    .dataframe tbody tr th {\n",
       "        vertical-align: top;\n",
       "    }\n",
       "\n",
       "    .dataframe thead th {\n",
       "        text-align: right;\n",
       "    }\n",
       "</style>\n",
       "<table border=\"1\" class=\"dataframe\">\n",
       "  <thead>\n",
       "    <tr style=\"text-align: right;\">\n",
       "      <th></th>\n",
       "      <th>Date</th>\n",
       "      <th>High</th>\n",
       "      <th>Low</th>\n",
       "      <th>Open</th>\n",
       "      <th>Close</th>\n",
       "      <th>Volume</th>\n",
       "      <th>Adj Close</th>\n",
       "    </tr>\n",
       "  </thead>\n",
       "  <tbody>\n",
       "    <tr>\n",
       "      <th>0</th>\n",
       "      <td>2003-12-31</td>\n",
       "      <td>0.384464</td>\n",
       "      <td>0.378214</td>\n",
       "      <td>0.381250</td>\n",
       "      <td>0.381607</td>\n",
       "      <td>174451200.0</td>\n",
       "      <td>0.326520</td>\n",
       "    </tr>\n",
       "    <tr>\n",
       "      <th>1</th>\n",
       "      <td>2004-01-02</td>\n",
       "      <td>0.388393</td>\n",
       "      <td>0.378214</td>\n",
       "      <td>0.384821</td>\n",
       "      <td>0.380000</td>\n",
       "      <td>144642400.0</td>\n",
       "      <td>0.325145</td>\n",
       "    </tr>\n",
       "    <tr>\n",
       "      <th>2</th>\n",
       "      <td>2004-01-05</td>\n",
       "      <td>0.399821</td>\n",
       "      <td>0.382500</td>\n",
       "      <td>0.382500</td>\n",
       "      <td>0.395893</td>\n",
       "      <td>395018400.0</td>\n",
       "      <td>0.338744</td>\n",
       "    </tr>\n",
       "    <tr>\n",
       "      <th>3</th>\n",
       "      <td>2004-01-06</td>\n",
       "      <td>0.400357</td>\n",
       "      <td>0.387679</td>\n",
       "      <td>0.397321</td>\n",
       "      <td>0.394464</td>\n",
       "      <td>509348000.0</td>\n",
       "      <td>0.337521</td>\n",
       "    </tr>\n",
       "    <tr>\n",
       "      <th>4</th>\n",
       "      <td>2004-01-07</td>\n",
       "      <td>0.407679</td>\n",
       "      <td>0.391607</td>\n",
       "      <td>0.394643</td>\n",
       "      <td>0.403393</td>\n",
       "      <td>586874400.0</td>\n",
       "      <td>0.345161</td>\n",
       "    </tr>\n",
       "    <tr>\n",
       "      <th>5</th>\n",
       "      <td>2004-01-08</td>\n",
       "      <td>0.423750</td>\n",
       "      <td>0.404464</td>\n",
       "      <td>0.407857</td>\n",
       "      <td>0.417143</td>\n",
       "      <td>460303200.0</td>\n",
       "      <td>0.356926</td>\n",
       "    </tr>\n",
       "    <tr>\n",
       "      <th>6</th>\n",
       "      <td>2004-01-09</td>\n",
       "      <td>0.430893</td>\n",
       "      <td>0.406964</td>\n",
       "      <td>0.414821</td>\n",
       "      <td>0.410714</td>\n",
       "      <td>427459200.0</td>\n",
       "      <td>0.351426</td>\n",
       "    </tr>\n",
       "    <tr>\n",
       "      <th>7</th>\n",
       "      <td>2004-01-12</td>\n",
       "      <td>0.428571</td>\n",
       "      <td>0.412500</td>\n",
       "      <td>0.415179</td>\n",
       "      <td>0.423750</td>\n",
       "      <td>487547200.0</td>\n",
       "      <td>0.362580</td>\n",
       "    </tr>\n",
       "  </tbody>\n",
       "</table>\n",
       "</div>"
      ],
      "text/plain": [
       "         Date      High       Low      Open     Close       Volume  Adj Close\n",
       "0  2003-12-31  0.384464  0.378214  0.381250  0.381607  174451200.0   0.326520\n",
       "1  2004-01-02  0.388393  0.378214  0.384821  0.380000  144642400.0   0.325145\n",
       "2  2004-01-05  0.399821  0.382500  0.382500  0.395893  395018400.0   0.338744\n",
       "3  2004-01-06  0.400357  0.387679  0.397321  0.394464  509348000.0   0.337521\n",
       "4  2004-01-07  0.407679  0.391607  0.394643  0.403393  586874400.0   0.345161\n",
       "5  2004-01-08  0.423750  0.404464  0.407857  0.417143  460303200.0   0.356926\n",
       "6  2004-01-09  0.430893  0.406964  0.414821  0.410714  427459200.0   0.351426\n",
       "7  2004-01-12  0.428571  0.412500  0.415179  0.423750  487547200.0   0.362580"
      ]
     },
     "execution_count": 12,
     "metadata": {},
     "output_type": "execute_result"
    }
   ],
   "source": [
    "# To get the top 'n' values from the dataframe\n",
    "\n",
    "data.head(8)"
   ]
  },
  {
   "cell_type": "code",
   "execution_count": 14,
   "id": "72a68383",
   "metadata": {},
   "outputs": [
    {
     "name": "stdout",
     "output_type": "stream",
     "text": [
      "Collecting openpyxl\n",
      "  Downloading openpyxl-3.0.7-py2.py3-none-any.whl (243 kB)\n",
      "Collecting et-xmlfile\n",
      "  Downloading et_xmlfile-1.1.0-py3-none-any.whl (4.7 kB)\n",
      "Installing collected packages: et-xmlfile, openpyxl\n",
      "Successfully installed et-xmlfile-1.1.0 openpyxl-3.0.7\n"
     ]
    }
   ],
   "source": [
    "!pip install openpyxl"
   ]
  },
  {
   "cell_type": "code",
   "execution_count": 15,
   "id": "24b4187e",
   "metadata": {},
   "outputs": [],
   "source": [
    "# Reading an excel file using pandas\n",
    "\n",
    "df = pd.read_excel('Iris.xlsx')"
   ]
  },
  {
   "cell_type": "code",
   "execution_count": 16,
   "id": "83eebd07",
   "metadata": {},
   "outputs": [
    {
     "data": {
      "text/html": [
       "<div>\n",
       "<style scoped>\n",
       "    .dataframe tbody tr th:only-of-type {\n",
       "        vertical-align: middle;\n",
       "    }\n",
       "\n",
       "    .dataframe tbody tr th {\n",
       "        vertical-align: top;\n",
       "    }\n",
       "\n",
       "    .dataframe thead th {\n",
       "        text-align: right;\n",
       "    }\n",
       "</style>\n",
       "<table border=\"1\" class=\"dataframe\">\n",
       "  <thead>\n",
       "    <tr style=\"text-align: right;\">\n",
       "      <th></th>\n",
       "      <th>Id</th>\n",
       "      <th>SepalLengthCm</th>\n",
       "      <th>SepalWidthCm</th>\n",
       "      <th>PetalLengthCm</th>\n",
       "      <th>PetalWidthCm</th>\n",
       "      <th>Species</th>\n",
       "    </tr>\n",
       "  </thead>\n",
       "  <tbody>\n",
       "    <tr>\n",
       "      <th>0</th>\n",
       "      <td>1</td>\n",
       "      <td>5.1</td>\n",
       "      <td>3.5</td>\n",
       "      <td>1.4</td>\n",
       "      <td>0.2</td>\n",
       "      <td>Iris-setosa</td>\n",
       "    </tr>\n",
       "    <tr>\n",
       "      <th>1</th>\n",
       "      <td>2</td>\n",
       "      <td>4.9</td>\n",
       "      <td>3.0</td>\n",
       "      <td>1.4</td>\n",
       "      <td>0.2</td>\n",
       "      <td>Iris-setosa</td>\n",
       "    </tr>\n",
       "    <tr>\n",
       "      <th>2</th>\n",
       "      <td>3</td>\n",
       "      <td>4.7</td>\n",
       "      <td>3.2</td>\n",
       "      <td>1.3</td>\n",
       "      <td>0.2</td>\n",
       "      <td>Iris-setosa</td>\n",
       "    </tr>\n",
       "    <tr>\n",
       "      <th>3</th>\n",
       "      <td>4</td>\n",
       "      <td>4.6</td>\n",
       "      <td>3.1</td>\n",
       "      <td>1.5</td>\n",
       "      <td>0.2</td>\n",
       "      <td>Iris-setosa</td>\n",
       "    </tr>\n",
       "    <tr>\n",
       "      <th>4</th>\n",
       "      <td>5</td>\n",
       "      <td>5.0</td>\n",
       "      <td>3.6</td>\n",
       "      <td>1.4</td>\n",
       "      <td>0.2</td>\n",
       "      <td>Iris-setosa</td>\n",
       "    </tr>\n",
       "  </tbody>\n",
       "</table>\n",
       "</div>"
      ],
      "text/plain": [
       "   Id  SepalLengthCm  SepalWidthCm  PetalLengthCm  PetalWidthCm      Species\n",
       "0   1            5.1           3.5            1.4           0.2  Iris-setosa\n",
       "1   2            4.9           3.0            1.4           0.2  Iris-setosa\n",
       "2   3            4.7           3.2            1.3           0.2  Iris-setosa\n",
       "3   4            4.6           3.1            1.5           0.2  Iris-setosa\n",
       "4   5            5.0           3.6            1.4           0.2  Iris-setosa"
      ]
     },
     "execution_count": 16,
     "metadata": {},
     "output_type": "execute_result"
    }
   ],
   "source": [
    "# By default, head() shows top 5 values of the dataframe\n",
    "\n",
    "df.head()"
   ]
  },
  {
   "cell_type": "code",
   "execution_count": 19,
   "id": "b1b97c0d",
   "metadata": {},
   "outputs": [
    {
     "data": {
      "text/plain": [
       "Iris-setosa        50\n",
       "Iris-versicolor    50\n",
       "Iris-virginica     50\n",
       "Name: Species, dtype: int64"
      ]
     },
     "execution_count": 19,
     "metadata": {},
     "output_type": "execute_result"
    }
   ],
   "source": [
    "# To get how many values of each catagory is present in a column\n",
    "\n",
    "df['Species'].value_counts()"
   ]
  },
  {
   "cell_type": "code",
   "execution_count": 20,
   "id": "d0b92a53",
   "metadata": {},
   "outputs": [
    {
     "data": {
      "text/plain": [
       "1.5    14\n",
       "1.4    12\n",
       "5.1     8\n",
       "4.5     8\n",
       "1.6     7\n",
       "1.3     7\n",
       "5.6     6\n",
       "4.0     5\n",
       "4.9     5\n",
       "4.7     5\n",
       "5.0     4\n",
       "1.7     4\n",
       "4.8     4\n",
       "4.4     4\n",
       "4.2     4\n",
       "4.1     3\n",
       "5.7     3\n",
       "5.5     3\n",
       "6.1     3\n",
       "3.9     3\n",
       "4.6     3\n",
       "5.8     3\n",
       "5.2     2\n",
       "1.9     2\n",
       "6.0     2\n",
       "1.2     2\n",
       "4.3     2\n",
       "5.3     2\n",
       "5.4     2\n",
       "3.3     2\n",
       "6.7     2\n",
       "3.5     2\n",
       "5.9     2\n",
       "3.6     1\n",
       "3.8     1\n",
       "1.0     1\n",
       "3.0     1\n",
       "6.3     1\n",
       "6.6     1\n",
       "3.7     1\n",
       "1.1     1\n",
       "6.4     1\n",
       "6.9     1\n",
       "Name: PetalLengthCm, dtype: int64"
      ]
     },
     "execution_count": 20,
     "metadata": {},
     "output_type": "execute_result"
    }
   ],
   "source": [
    "df['PetalLengthCm'].value_counts()"
   ]
  },
  {
   "cell_type": "code",
   "execution_count": 21,
   "id": "4c3afe63",
   "metadata": {},
   "outputs": [
    {
     "data": {
      "text/plain": [
       "3"
      ]
     },
     "execution_count": 21,
     "metadata": {},
     "output_type": "execute_result"
    }
   ],
   "source": [
    "# To count the number of unique values in a column\n",
    "\n",
    "df['Species'].nunique()"
   ]
  },
  {
   "cell_type": "code",
   "execution_count": 22,
   "id": "76793b5a",
   "metadata": {},
   "outputs": [
    {
     "data": {
      "text/plain": [
       "43"
      ]
     },
     "execution_count": 22,
     "metadata": {},
     "output_type": "execute_result"
    }
   ],
   "source": [
    "df['PetalLengthCm'].nunique()"
   ]
  },
  {
   "cell_type": "code",
   "execution_count": 25,
   "id": "88ba8cb0",
   "metadata": {},
   "outputs": [
    {
     "data": {
      "text/plain": [
       "array(['Iris-setosa', 'Iris-versicolor', 'Iris-virginica'], dtype=object)"
      ]
     },
     "execution_count": 25,
     "metadata": {},
     "output_type": "execute_result"
    }
   ],
   "source": [
    "# To get the values which are unique\n",
    "\n",
    "df['Species'].unique()"
   ]
  },
  {
   "cell_type": "code",
   "execution_count": 26,
   "id": "6e727fb2",
   "metadata": {},
   "outputs": [
    {
     "data": {
      "text/plain": [
       "array([1.4, 1.3, 1.5, 1.7, 1.6, 1.1, 1.2, 1. , 1.9, 4.7, 4.5, 4.9, 4. ,\n",
       "       4.6, 3.3, 3.9, 3.5, 4.2, 3.6, 4.4, 4.1, 4.8, 4.3, 5. , 3.8, 3.7,\n",
       "       5.1, 3. , 6. , 5.9, 5.6, 5.8, 6.6, 6.3, 6.1, 5.3, 5.5, 6.7, 6.9,\n",
       "       5.7, 6.4, 5.4, 5.2])"
      ]
     },
     "execution_count": 26,
     "metadata": {},
     "output_type": "execute_result"
    }
   ],
   "source": [
    "df['PetalLengthCm'].unique()"
   ]
  },
  {
   "cell_type": "code",
   "execution_count": 28,
   "id": "639b9f19",
   "metadata": {},
   "outputs": [
    {
     "data": {
      "text/plain": [
       "<AxesSubplot:>"
      ]
     },
     "execution_count": 28,
     "metadata": {},
     "output_type": "execute_result"
    },
    {
     "data": {
      "image/png": "[encoded data removed]",
      "text/plain": [
       "<Figure size 432x288 with 1 Axes>"
      ]
     },
     "metadata": {
      "needs_background": "light"
     },
     "output_type": "display_data"
    }
   ],
   "source": [
    "# To plot a graph on the basis of value count\n",
    "\n",
    "df['Species'].value_counts().plot(kind = 'bar')"
   ]
  },
  {
   "cell_type": "code",
   "execution_count": 34,
   "id": "4ccec149",
   "metadata": {},
   "outputs": [
    {
     "data": {
      "text/plain": [
       "<AxesSubplot:>"
      ]
     },
     "execution_count": 34,
     "metadata": {},
     "output_type": "execute_result"
    },
    {
     "data": {
      "image/png": "[encoded data removed]",
      "text/plain": [
       "<Figure size 432x288 with 1 Axes>"
      ]
     },
     "metadata": {
      "needs_background": "light"
     },
     "output_type": "display_data"
    }
   ],
   "source": [
    "df['PetalLengthCm'].value_counts().plot(kind = 'line')"
   ]
  },
  {
   "cell_type": "code",
   "execution_count": 35,
   "id": "2fda837f",
   "metadata": {},
   "outputs": [
    {
     "data": {
      "text/plain": [
       "<AxesSubplot:ylabel='PetalLengthCm'>"
      ]
     },
     "execution_count": 35,
     "metadata": {},
     "output_type": "execute_result"
    },
    {
     "data": {
      "image/png": "[encoded data removed]",
      "text/plain": [
       "<Figure size 432x288 with 1 Axes>"
      ]
     },
     "metadata": {},
     "output_type": "display_data"
    }
   ],
   "source": [
    "df['PetalLengthCm'].value_counts().plot(kind = 'pie')"
   ]
  },
  {
   "cell_type": "code",
   "execution_count": 38,
   "id": "3e91dddc",
   "metadata": {},
   "outputs": [
    {
     "data": {
      "text/plain": [
       "Index(['Id', 'SepalLengthCm', 'SepalWidthCm', 'PetalLengthCm', 'PetalWidthCm',\n",
       "       'Species'],\n",
       "      dtype='object')"
      ]
     },
     "execution_count": 38,
     "metadata": {},
     "output_type": "execute_result"
    }
   ],
   "source": [
    "# To get the column name in a dataframe\n",
    "\n",
    "df.columns"
   ]
  },
  {
   "cell_type": "code",
   "execution_count": 41,
   "id": "f778fbf7",
   "metadata": {},
   "outputs": [],
   "source": [
    "# Creating our own dataset\n",
    "\n",
    "import numpy as np\n",
    "time_series = pd.date_range('01/06/2021', periods = 20)\n",
    "df = pd.DataFrame(np.random.randn(20, 5), index = time_series, columns = ['Col1', 'Col2', 'Col3', 'Col4', 'Col5'])"
   ]
  },
  {
   "cell_type": "code",
   "execution_count": 42,
   "id": "241c84d5",
   "metadata": {},
   "outputs": [
    {
     "data": {
      "text/html": [
       "<div>\n",
       "<style scoped>\n",
       "    .dataframe tbody tr th:only-of-type {\n",
       "        vertical-align: middle;\n",
       "    }\n",
       "\n",
       "    .dataframe tbody tr th {\n",
       "        vertical-align: top;\n",
       "    }\n",
       "\n",
       "    .dataframe thead th {\n",
       "        text-align: right;\n",
       "    }\n",
       "</style>\n",
       "<table border=\"1\" class=\"dataframe\">\n",
       "  <thead>\n",
       "    <tr style=\"text-align: right;\">\n",
       "      <th></th>\n",
       "      <th>Col1</th>\n",
       "      <th>Col2</th>\n",
       "      <th>Col3</th>\n",
       "      <th>Col4</th>\n",
       "      <th>Col5</th>\n",
       "    </tr>\n",
       "  </thead>\n",
       "  <tbody>\n",
       "    <tr>\n",
       "      <th>2021-01-06</th>\n",
       "      <td>-0.652415</td>\n",
       "      <td>-1.318366</td>\n",
       "      <td>2.157198</td>\n",
       "      <td>-0.976821</td>\n",
       "      <td>0.467407</td>\n",
       "    </tr>\n",
       "    <tr>\n",
       "      <th>2021-01-07</th>\n",
       "      <td>-0.534334</td>\n",
       "      <td>0.448690</td>\n",
       "      <td>1.429038</td>\n",
       "      <td>-1.051466</td>\n",
       "      <td>-0.441981</td>\n",
       "    </tr>\n",
       "    <tr>\n",
       "      <th>2021-01-08</th>\n",
       "      <td>-0.428137</td>\n",
       "      <td>1.010905</td>\n",
       "      <td>0.064123</td>\n",
       "      <td>-1.768010</td>\n",
       "      <td>-0.582153</td>\n",
       "    </tr>\n",
       "    <tr>\n",
       "      <th>2021-01-09</th>\n",
       "      <td>1.094182</td>\n",
       "      <td>-1.357857</td>\n",
       "      <td>0.007476</td>\n",
       "      <td>0.355390</td>\n",
       "      <td>-0.103160</td>\n",
       "    </tr>\n",
       "    <tr>\n",
       "      <th>2021-01-10</th>\n",
       "      <td>0.726950</td>\n",
       "      <td>0.674397</td>\n",
       "      <td>-0.782501</td>\n",
       "      <td>-1.143957</td>\n",
       "      <td>0.331814</td>\n",
       "    </tr>\n",
       "    <tr>\n",
       "      <th>2021-01-11</th>\n",
       "      <td>1.445468</td>\n",
       "      <td>-0.078421</td>\n",
       "      <td>1.423510</td>\n",
       "      <td>-0.629475</td>\n",
       "      <td>0.581088</td>\n",
       "    </tr>\n",
       "    <tr>\n",
       "      <th>2021-01-12</th>\n",
       "      <td>-1.647618</td>\n",
       "      <td>0.081773</td>\n",
       "      <td>-0.828971</td>\n",
       "      <td>-1.513561</td>\n",
       "      <td>-0.872352</td>\n",
       "    </tr>\n",
       "    <tr>\n",
       "      <th>2021-01-13</th>\n",
       "      <td>2.063709</td>\n",
       "      <td>-0.670271</td>\n",
       "      <td>1.328697</td>\n",
       "      <td>-1.220121</td>\n",
       "      <td>0.943079</td>\n",
       "    </tr>\n",
       "    <tr>\n",
       "      <th>2021-01-14</th>\n",
       "      <td>1.095490</td>\n",
       "      <td>-0.021988</td>\n",
       "      <td>-0.030545</td>\n",
       "      <td>1.280686</td>\n",
       "      <td>-0.060275</td>\n",
       "    </tr>\n",
       "    <tr>\n",
       "      <th>2021-01-15</th>\n",
       "      <td>-0.076721</td>\n",
       "      <td>-1.124235</td>\n",
       "      <td>0.018030</td>\n",
       "      <td>-0.492978</td>\n",
       "      <td>-0.674126</td>\n",
       "    </tr>\n",
       "    <tr>\n",
       "      <th>2021-01-16</th>\n",
       "      <td>1.177633</td>\n",
       "      <td>1.825814</td>\n",
       "      <td>-1.184430</td>\n",
       "      <td>-0.365219</td>\n",
       "      <td>2.415661</td>\n",
       "    </tr>\n",
       "    <tr>\n",
       "      <th>2021-01-17</th>\n",
       "      <td>-0.552931</td>\n",
       "      <td>-0.837619</td>\n",
       "      <td>-0.350546</td>\n",
       "      <td>0.009631</td>\n",
       "      <td>0.999696</td>\n",
       "    </tr>\n",
       "    <tr>\n",
       "      <th>2021-01-18</th>\n",
       "      <td>0.877036</td>\n",
       "      <td>-2.499822</td>\n",
       "      <td>-1.898468</td>\n",
       "      <td>0.962312</td>\n",
       "      <td>-0.299137</td>\n",
       "    </tr>\n",
       "    <tr>\n",
       "      <th>2021-01-19</th>\n",
       "      <td>-0.005302</td>\n",
       "      <td>1.827451</td>\n",
       "      <td>0.698728</td>\n",
       "      <td>0.696621</td>\n",
       "      <td>-0.982551</td>\n",
       "    </tr>\n",
       "    <tr>\n",
       "      <th>2021-01-20</th>\n",
       "      <td>0.948842</td>\n",
       "      <td>-1.435568</td>\n",
       "      <td>-0.916120</td>\n",
       "      <td>-0.205124</td>\n",
       "      <td>0.688519</td>\n",
       "    </tr>\n",
       "    <tr>\n",
       "      <th>2021-01-21</th>\n",
       "      <td>0.224709</td>\n",
       "      <td>-0.600185</td>\n",
       "      <td>1.926238</td>\n",
       "      <td>0.044022</td>\n",
       "      <td>0.381767</td>\n",
       "    </tr>\n",
       "    <tr>\n",
       "      <th>2021-01-22</th>\n",
       "      <td>-0.440816</td>\n",
       "      <td>-2.028334</td>\n",
       "      <td>1.559556</td>\n",
       "      <td>-0.335947</td>\n",
       "      <td>0.975755</td>\n",
       "    </tr>\n",
       "    <tr>\n",
       "      <th>2021-01-23</th>\n",
       "      <td>2.199156</td>\n",
       "      <td>1.466913</td>\n",
       "      <td>-0.092373</td>\n",
       "      <td>-1.842910</td>\n",
       "      <td>-0.617572</td>\n",
       "    </tr>\n",
       "    <tr>\n",
       "      <th>2021-01-24</th>\n",
       "      <td>-0.558520</td>\n",
       "      <td>-1.155130</td>\n",
       "      <td>0.780574</td>\n",
       "      <td>1.662096</td>\n",
       "      <td>0.436541</td>\n",
       "    </tr>\n",
       "    <tr>\n",
       "      <th>2021-01-25</th>\n",
       "      <td>-0.444905</td>\n",
       "      <td>-1.864137</td>\n",
       "      <td>-1.047035</td>\n",
       "      <td>-0.472230</td>\n",
       "      <td>0.746963</td>\n",
       "    </tr>\n",
       "  </tbody>\n",
       "</table>\n",
       "</div>"
      ],
      "text/plain": [
       "                Col1      Col2      Col3      Col4      Col5\n",
       "2021-01-06 -0.652415 -1.318366  2.157198 -0.976821  0.467407\n",
       "2021-01-07 -0.534334  0.448690  1.429038 -1.051466 -0.441981\n",
       "2021-01-08 -0.428137  1.010905  0.064123 -1.768010 -0.582153\n",
       "2021-01-09  1.094182 -1.357857  0.007476  0.355390 -0.103160\n",
       "2021-01-10  0.726950  0.674397 -0.782501 -1.143957  0.331814\n",
       "2021-01-11  1.445468 -0.078421  1.423510 -0.629475  0.581088\n",
       "2021-01-12 -1.647618  0.081773 -0.828971 -1.513561 -0.872352\n",
       "2021-01-13  2.063709 -0.670271  1.328697 -1.220121  0.943079\n",
       "2021-01-14  1.095490 -0.021988 -0.030545  1.280686 -0.060275\n",
       "2021-01-15 -0.076721 -1.124235  0.018030 -0.492978 -0.674126\n",
       "2021-01-16  1.177633  1.825814 -1.184430 -0.365219  2.415661\n",
       "2021-01-17 -0.552931 -0.837619 -0.350546  0.009631  0.999696\n",
       "2021-01-18  0.877036 -2.499822 -1.898468  0.962312 -0.299137\n",
       "2021-01-19 -0.005302  1.827451  0.698728  0.696621 -0.982551\n",
       "2021-01-20  0.948842 -1.435568 -0.916120 -0.205124  0.688519\n",
       "2021-01-21  0.224709 -0.600185  1.926238  0.044022  0.381767\n",
       "2021-01-22 -0.440816 -2.028334  1.559556 -0.335947  0.975755\n",
       "2021-01-23  2.199156  1.466913 -0.092373 -1.842910 -0.617572\n",
       "2021-01-24 -0.558520 -1.155130  0.780574  1.662096  0.436541\n",
       "2021-01-25 -0.444905 -1.864137 -1.047035 -0.472230  0.746963"
      ]
     },
     "execution_count": 42,
     "metadata": {},
     "output_type": "execute_result"
    }
   ],
   "source": [
    "df"
   ]
  },
  {
   "cell_type": "code",
   "execution_count": 43,
   "id": "14dd2b5a",
   "metadata": {},
   "outputs": [
    {
     "data": {
      "text/plain": [
       "(20, 5)"
      ]
     },
     "execution_count": 43,
     "metadata": {},
     "output_type": "execute_result"
    }
   ],
   "source": [
    "df.shape"
   ]
  },
  {
   "cell_type": "code",
   "execution_count": 44,
   "id": "9e5e0597",
   "metadata": {},
   "outputs": [
    {
     "data": {
      "text/plain": [
       "2021-01-06   -0.652415\n",
       "2021-01-07   -0.534334\n",
       "2021-01-08   -0.428137\n",
       "2021-01-09    1.094182\n",
       "2021-01-10    0.726950\n",
       "2021-01-11    1.445468\n",
       "2021-01-12   -1.647618\n",
       "2021-01-13    2.063709\n",
       "2021-01-14    1.095490\n",
       "2021-01-15   -0.076721\n",
       "2021-01-16    1.177633\n",
       "2021-01-17   -0.552931\n",
       "2021-01-18    0.877036\n",
       "2021-01-19   -0.005302\n",
       "2021-01-20    0.948842\n",
       "2021-01-21    0.224709\n",
       "2021-01-22   -0.440816\n",
       "2021-01-23    2.199156\n",
       "2021-01-24   -0.558520\n",
       "2021-01-25   -0.444905\n",
       "Freq: D, Name: Col1, dtype: float64"
      ]
     },
     "execution_count": 44,
     "metadata": {},
     "output_type": "execute_result"
    }
   ],
   "source": [
    "# To display a specific column\n",
    "\n",
    "df['Col1']"
   ]
  },
  {
   "cell_type": "code",
   "execution_count": 47,
   "id": "fc7c638b",
   "metadata": {},
   "outputs": [
    {
     "data": {
      "text/plain": [
       "pandas.core.frame.DataFrame"
      ]
     },
     "execution_count": 47,
     "metadata": {},
     "output_type": "execute_result"
    }
   ],
   "source": [
    "type (df[['Col1', 'Col2']])"
   ]
  },
  {
   "cell_type": "code",
   "execution_count": 48,
   "id": "7b68e773",
   "metadata": {},
   "outputs": [],
   "source": [
    "# Creating an object for column\n",
    "\n",
    "c = df['Col1']"
   ]
  },
  {
   "cell_type": "code",
   "execution_count": 49,
   "id": "a4ad5d0c",
   "metadata": {},
   "outputs": [
    {
     "data": {
      "text/plain": [
       "1.094181530988395"
      ]
     },
     "execution_count": 49,
     "metadata": {},
     "output_type": "execute_result"
    }
   ],
   "source": [
    "c[3]"
   ]
  },
  {
   "cell_type": "code",
   "execution_count": 52,
   "id": "13fecdac",
   "metadata": {},
   "outputs": [
    {
     "data": {
      "text/plain": [
       "2021-01-06   -0.652415\n",
       "2021-01-07   -0.534334\n",
       "2021-01-08   -0.428137\n",
       "2021-01-09    1.094182\n",
       "2021-01-10    0.726950\n",
       "2021-01-11    1.445468\n",
       "2021-01-12   -1.647618\n",
       "2021-01-13    2.063709\n",
       "2021-01-14    1.095490\n",
       "2021-01-15   -0.076721\n",
       "2021-01-16    1.177633\n",
       "2021-01-17   -0.552931\n",
       "2021-01-18    0.877036\n",
       "2021-01-19   -0.005302\n",
       "2021-01-20    0.948842\n",
       "2021-01-21    0.224709\n",
       "2021-01-22   -0.440816\n",
       "2021-01-23    2.199156\n",
       "2021-01-24   -0.558520\n",
       "2021-01-25   -0.444905\n",
       "Freq: D, Name: Col1, dtype: float64"
      ]
     },
     "execution_count": 52,
     "metadata": {},
     "output_type": "execute_result"
    }
   ],
   "source": [
    "c"
   ]
  },
  {
   "cell_type": "code",
   "execution_count": 53,
   "id": "55775a27",
   "metadata": {},
   "outputs": [
    {
     "data": {
      "text/plain": [
       "1.4454681884097804"
      ]
     },
     "execution_count": 53,
     "metadata": {},
     "output_type": "execute_result"
    }
   ],
   "source": [
    "c[5]"
   ]
  },
  {
   "cell_type": "code",
   "execution_count": 55,
   "id": "b6e08d9e",
   "metadata": {},
   "outputs": [
    {
     "data": {
      "text/plain": [
       "Timestamp('2021-01-11 00:00:00', freq='D')"
      ]
     },
     "execution_count": 55,
     "metadata": {},
     "output_type": "execute_result"
    }
   ],
   "source": [
    "# To get the timestamp of a column\n",
    "\n",
    "time_series[5]"
   ]
  },
  {
   "cell_type": "code",
   "execution_count": 56,
   "id": "d0a6957c",
   "metadata": {},
   "outputs": [
    {
     "data": {
      "text/plain": [
       "1.4454681884097804"
      ]
     },
     "execution_count": 56,
     "metadata": {},
     "output_type": "execute_result"
    }
   ],
   "source": [
    "c[time_series[5]]"
   ]
  },
  {
   "cell_type": "code",
   "execution_count": 66,
   "id": "f4aac9f1",
   "metadata": {},
   "outputs": [
    {
     "data": {
      "text/plain": [
       "Col1   -1.647618\n",
       "Col2    0.081773\n",
       "Col3   -0.828971\n",
       "Col4   -1.513561\n",
       "Col5   -0.872352\n",
       "Name: 2021-01-12 00:00:00, dtype: float64"
      ]
     },
     "execution_count": 66,
     "metadata": {},
     "output_type": "execute_result"
    }
   ],
   "source": [
    "# To get the value of all the columns for a specified date (index)\n",
    "\n",
    "df.loc['2021-01-12']"
   ]
  },
  {
   "cell_type": "code",
   "execution_count": 57,
   "id": "0488a9b9",
   "metadata": {},
   "outputs": [],
   "source": [
    "# Creating a new dataframe\n",
    "\n",
    "x = pd.DataFrame({'x':[1, 2, 3], 'y':[4, 5, 6]})"
   ]
  },
  {
   "cell_type": "code",
   "execution_count": 58,
   "id": "7a1b45de",
   "metadata": {},
   "outputs": [
    {
     "data": {
      "text/html": [
       "<div>\n",
       "<style scoped>\n",
       "    .dataframe tbody tr th:only-of-type {\n",
       "        vertical-align: middle;\n",
       "    }\n",
       "\n",
       "    .dataframe tbody tr th {\n",
       "        vertical-align: top;\n",
       "    }\n",
       "\n",
       "    .dataframe thead th {\n",
       "        text-align: right;\n",
       "    }\n",
       "</style>\n",
       "<table border=\"1\" class=\"dataframe\">\n",
       "  <thead>\n",
       "    <tr style=\"text-align: right;\">\n",
       "      <th></th>\n",
       "      <th>x</th>\n",
       "      <th>y</th>\n",
       "    </tr>\n",
       "  </thead>\n",
       "  <tbody>\n",
       "    <tr>\n",
       "      <th>0</th>\n",
       "      <td>1</td>\n",
       "      <td>4</td>\n",
       "    </tr>\n",
       "    <tr>\n",
       "      <th>1</th>\n",
       "      <td>2</td>\n",
       "      <td>5</td>\n",
       "    </tr>\n",
       "    <tr>\n",
       "      <th>2</th>\n",
       "      <td>3</td>\n",
       "      <td>6</td>\n",
       "    </tr>\n",
       "  </tbody>\n",
       "</table>\n",
       "</div>"
      ],
      "text/plain": [
       "   x  y\n",
       "0  1  4\n",
       "1  2  5\n",
       "2  3  6"
      ]
     },
     "execution_count": 58,
     "metadata": {},
     "output_type": "execute_result"
    }
   ],
   "source": [
    "x"
   ]
  },
  {
   "cell_type": "code",
   "execution_count": 61,
   "id": "ab4ff055",
   "metadata": {},
   "outputs": [
    {
     "data": {
      "text/plain": [
       "x    2\n",
       "y    5\n",
       "Name: 1, dtype: int64"
      ]
     },
     "execution_count": 61,
     "metadata": {},
     "output_type": "execute_result"
    }
   ],
   "source": [
    "# To get the value of x and y at index 1\n",
    "\n",
    "x.loc[1]"
   ]
  },
  {
   "cell_type": "code",
   "execution_count": 62,
   "id": "201943de",
   "metadata": {},
   "outputs": [
    {
     "data": {
      "text/plain": [
       "0    1\n",
       "1    2\n",
       "2    3\n",
       "Name: x, dtype: int64"
      ]
     },
     "execution_count": 62,
     "metadata": {},
     "output_type": "execute_result"
    }
   ],
   "source": [
    "# To get the values in column x\n",
    "\n",
    "x['x']"
   ]
  },
  {
   "cell_type": "code",
   "execution_count": 63,
   "id": "c88a1277",
   "metadata": {},
   "outputs": [],
   "source": [
    "# To change the value at a specified index\n",
    "\n",
    "x.loc[1] = {'x' : 7, 'y' : 9}"
   ]
  },
  {
   "cell_type": "code",
   "execution_count": 64,
   "id": "e06b691e",
   "metadata": {},
   "outputs": [
    {
     "data": {
      "text/html": [
       "<div>\n",
       "<style scoped>\n",
       "    .dataframe tbody tr th:only-of-type {\n",
       "        vertical-align: middle;\n",
       "    }\n",
       "\n",
       "    .dataframe tbody tr th {\n",
       "        vertical-align: top;\n",
       "    }\n",
       "\n",
       "    .dataframe thead th {\n",
       "        text-align: right;\n",
       "    }\n",
       "</style>\n",
       "<table border=\"1\" class=\"dataframe\">\n",
       "  <thead>\n",
       "    <tr style=\"text-align: right;\">\n",
       "      <th></th>\n",
       "      <th>x</th>\n",
       "      <th>y</th>\n",
       "    </tr>\n",
       "  </thead>\n",
       "  <tbody>\n",
       "    <tr>\n",
       "      <th>0</th>\n",
       "      <td>1</td>\n",
       "      <td>4</td>\n",
       "    </tr>\n",
       "    <tr>\n",
       "      <th>1</th>\n",
       "      <td>7</td>\n",
       "      <td>9</td>\n",
       "    </tr>\n",
       "    <tr>\n",
       "      <th>2</th>\n",
       "      <td>3</td>\n",
       "      <td>6</td>\n",
       "    </tr>\n",
       "  </tbody>\n",
       "</table>\n",
       "</div>"
      ],
      "text/plain": [
       "   x  y\n",
       "0  1  4\n",
       "1  7  9\n",
       "2  3  6"
      ]
     },
     "execution_count": 64,
     "metadata": {},
     "output_type": "execute_result"
    }
   ],
   "source": [
    "x"
   ]
  },
  {
   "cell_type": "code",
   "execution_count": 67,
   "id": "7b68da8d",
   "metadata": {},
   "outputs": [
    {
     "data": {
      "text/html": [
       "<div>\n",
       "<style scoped>\n",
       "    .dataframe tbody tr th:only-of-type {\n",
       "        vertical-align: middle;\n",
       "    }\n",
       "\n",
       "    .dataframe tbody tr th {\n",
       "        vertical-align: top;\n",
       "    }\n",
       "\n",
       "    .dataframe thead th {\n",
       "        text-align: right;\n",
       "    }\n",
       "</style>\n",
       "<table border=\"1\" class=\"dataframe\">\n",
       "  <thead>\n",
       "    <tr style=\"text-align: right;\">\n",
       "      <th></th>\n",
       "      <th>Col1</th>\n",
       "      <th>Col2</th>\n",
       "      <th>Col3</th>\n",
       "      <th>Col4</th>\n",
       "      <th>Col5</th>\n",
       "    </tr>\n",
       "  </thead>\n",
       "  <tbody>\n",
       "    <tr>\n",
       "      <th>2021-01-06</th>\n",
       "      <td>-0.652415</td>\n",
       "      <td>-1.318366</td>\n",
       "      <td>2.157198</td>\n",
       "      <td>-0.976821</td>\n",
       "      <td>0.467407</td>\n",
       "    </tr>\n",
       "    <tr>\n",
       "      <th>2021-01-07</th>\n",
       "      <td>-0.534334</td>\n",
       "      <td>0.448690</td>\n",
       "      <td>1.429038</td>\n",
       "      <td>-1.051466</td>\n",
       "      <td>-0.441981</td>\n",
       "    </tr>\n",
       "    <tr>\n",
       "      <th>2021-01-08</th>\n",
       "      <td>-0.428137</td>\n",
       "      <td>1.010905</td>\n",
       "      <td>0.064123</td>\n",
       "      <td>-1.768010</td>\n",
       "      <td>-0.582153</td>\n",
       "    </tr>\n",
       "    <tr>\n",
       "      <th>2021-01-09</th>\n",
       "      <td>1.094182</td>\n",
       "      <td>-1.357857</td>\n",
       "      <td>0.007476</td>\n",
       "      <td>0.355390</td>\n",
       "      <td>-0.103160</td>\n",
       "    </tr>\n",
       "    <tr>\n",
       "      <th>2021-01-10</th>\n",
       "      <td>0.726950</td>\n",
       "      <td>0.674397</td>\n",
       "      <td>-0.782501</td>\n",
       "      <td>-1.143957</td>\n",
       "      <td>0.331814</td>\n",
       "    </tr>\n",
       "    <tr>\n",
       "      <th>2021-01-11</th>\n",
       "      <td>1.445468</td>\n",
       "      <td>-0.078421</td>\n",
       "      <td>1.423510</td>\n",
       "      <td>-0.629475</td>\n",
       "      <td>0.581088</td>\n",
       "    </tr>\n",
       "    <tr>\n",
       "      <th>2021-01-12</th>\n",
       "      <td>-1.647618</td>\n",
       "      <td>0.081773</td>\n",
       "      <td>-0.828971</td>\n",
       "      <td>-1.513561</td>\n",
       "      <td>-0.872352</td>\n",
       "    </tr>\n",
       "    <tr>\n",
       "      <th>2021-01-13</th>\n",
       "      <td>2.063709</td>\n",
       "      <td>-0.670271</td>\n",
       "      <td>1.328697</td>\n",
       "      <td>-1.220121</td>\n",
       "      <td>0.943079</td>\n",
       "    </tr>\n",
       "    <tr>\n",
       "      <th>2021-01-14</th>\n",
       "      <td>1.095490</td>\n",
       "      <td>-0.021988</td>\n",
       "      <td>-0.030545</td>\n",
       "      <td>1.280686</td>\n",
       "      <td>-0.060275</td>\n",
       "    </tr>\n",
       "    <tr>\n",
       "      <th>2021-01-15</th>\n",
       "      <td>-0.076721</td>\n",
       "      <td>-1.124235</td>\n",
       "      <td>0.018030</td>\n",
       "      <td>-0.492978</td>\n",
       "      <td>-0.674126</td>\n",
       "    </tr>\n",
       "    <tr>\n",
       "      <th>2021-01-16</th>\n",
       "      <td>1.177633</td>\n",
       "      <td>1.825814</td>\n",
       "      <td>-1.184430</td>\n",
       "      <td>-0.365219</td>\n",
       "      <td>2.415661</td>\n",
       "    </tr>\n",
       "    <tr>\n",
       "      <th>2021-01-17</th>\n",
       "      <td>-0.552931</td>\n",
       "      <td>-0.837619</td>\n",
       "      <td>-0.350546</td>\n",
       "      <td>0.009631</td>\n",
       "      <td>0.999696</td>\n",
       "    </tr>\n",
       "    <tr>\n",
       "      <th>2021-01-18</th>\n",
       "      <td>0.877036</td>\n",
       "      <td>-2.499822</td>\n",
       "      <td>-1.898468</td>\n",
       "      <td>0.962312</td>\n",
       "      <td>-0.299137</td>\n",
       "    </tr>\n",
       "    <tr>\n",
       "      <th>2021-01-19</th>\n",
       "      <td>-0.005302</td>\n",
       "      <td>1.827451</td>\n",
       "      <td>0.698728</td>\n",
       "      <td>0.696621</td>\n",
       "      <td>-0.982551</td>\n",
       "    </tr>\n",
       "    <tr>\n",
       "      <th>2021-01-20</th>\n",
       "      <td>0.948842</td>\n",
       "      <td>-1.435568</td>\n",
       "      <td>-0.916120</td>\n",
       "      <td>-0.205124</td>\n",
       "      <td>0.688519</td>\n",
       "    </tr>\n",
       "    <tr>\n",
       "      <th>2021-01-21</th>\n",
       "      <td>0.224709</td>\n",
       "      <td>-0.600185</td>\n",
       "      <td>1.926238</td>\n",
       "      <td>0.044022</td>\n",
       "      <td>0.381767</td>\n",
       "    </tr>\n",
       "    <tr>\n",
       "      <th>2021-01-22</th>\n",
       "      <td>-0.440816</td>\n",
       "      <td>-2.028334</td>\n",
       "      <td>1.559556</td>\n",
       "      <td>-0.335947</td>\n",
       "      <td>0.975755</td>\n",
       "    </tr>\n",
       "    <tr>\n",
       "      <th>2021-01-23</th>\n",
       "      <td>2.199156</td>\n",
       "      <td>1.466913</td>\n",
       "      <td>-0.092373</td>\n",
       "      <td>-1.842910</td>\n",
       "      <td>-0.617572</td>\n",
       "    </tr>\n",
       "    <tr>\n",
       "      <th>2021-01-24</th>\n",
       "      <td>-0.558520</td>\n",
       "      <td>-1.155130</td>\n",
       "      <td>0.780574</td>\n",
       "      <td>1.662096</td>\n",
       "      <td>0.436541</td>\n",
       "    </tr>\n",
       "    <tr>\n",
       "      <th>2021-01-25</th>\n",
       "      <td>-0.444905</td>\n",
       "      <td>-1.864137</td>\n",
       "      <td>-1.047035</td>\n",
       "      <td>-0.472230</td>\n",
       "      <td>0.746963</td>\n",
       "    </tr>\n",
       "  </tbody>\n",
       "</table>\n",
       "</div>"
      ],
      "text/plain": [
       "                Col1      Col2      Col3      Col4      Col5\n",
       "2021-01-06 -0.652415 -1.318366  2.157198 -0.976821  0.467407\n",
       "2021-01-07 -0.534334  0.448690  1.429038 -1.051466 -0.441981\n",
       "2021-01-08 -0.428137  1.010905  0.064123 -1.768010 -0.582153\n",
       "2021-01-09  1.094182 -1.357857  0.007476  0.355390 -0.103160\n",
       "2021-01-10  0.726950  0.674397 -0.782501 -1.143957  0.331814\n",
       "2021-01-11  1.445468 -0.078421  1.423510 -0.629475  0.581088\n",
       "2021-01-12 -1.647618  0.081773 -0.828971 -1.513561 -0.872352\n",
       "2021-01-13  2.063709 -0.670271  1.328697 -1.220121  0.943079\n",
       "2021-01-14  1.095490 -0.021988 -0.030545  1.280686 -0.060275\n",
       "2021-01-15 -0.076721 -1.124235  0.018030 -0.492978 -0.674126\n",
       "2021-01-16  1.177633  1.825814 -1.184430 -0.365219  2.415661\n",
       "2021-01-17 -0.552931 -0.837619 -0.350546  0.009631  0.999696\n",
       "2021-01-18  0.877036 -2.499822 -1.898468  0.962312 -0.299137\n",
       "2021-01-19 -0.005302  1.827451  0.698728  0.696621 -0.982551\n",
       "2021-01-20  0.948842 -1.435568 -0.916120 -0.205124  0.688519\n",
       "2021-01-21  0.224709 -0.600185  1.926238  0.044022  0.381767\n",
       "2021-01-22 -0.440816 -2.028334  1.559556 -0.335947  0.975755\n",
       "2021-01-23  2.199156  1.466913 -0.092373 -1.842910 -0.617572\n",
       "2021-01-24 -0.558520 -1.155130  0.780574  1.662096  0.436541\n",
       "2021-01-25 -0.444905 -1.864137 -1.047035 -0.472230  0.746963"
      ]
     },
     "execution_count": 67,
     "metadata": {},
     "output_type": "execute_result"
    }
   ],
   "source": [
    "df"
   ]
  },
  {
   "cell_type": "code",
   "execution_count": 68,
   "id": "c5f2d9df",
   "metadata": {},
   "outputs": [
    {
     "data": {
      "text/html": [
       "<div>\n",
       "<style scoped>\n",
       "    .dataframe tbody tr th:only-of-type {\n",
       "        vertical-align: middle;\n",
       "    }\n",
       "\n",
       "    .dataframe tbody tr th {\n",
       "        vertical-align: top;\n",
       "    }\n",
       "\n",
       "    .dataframe thead th {\n",
       "        text-align: right;\n",
       "    }\n",
       "</style>\n",
       "<table border=\"1\" class=\"dataframe\">\n",
       "  <thead>\n",
       "    <tr style=\"text-align: right;\">\n",
       "      <th></th>\n",
       "      <th>Col3</th>\n",
       "      <th>Col4</th>\n",
       "    </tr>\n",
       "  </thead>\n",
       "  <tbody>\n",
       "    <tr>\n",
       "      <th>2021-01-06</th>\n",
       "      <td>2.157198</td>\n",
       "      <td>-0.976821</td>\n",
       "    </tr>\n",
       "    <tr>\n",
       "      <th>2021-01-07</th>\n",
       "      <td>1.429038</td>\n",
       "      <td>-1.051466</td>\n",
       "    </tr>\n",
       "    <tr>\n",
       "      <th>2021-01-08</th>\n",
       "      <td>0.064123</td>\n",
       "      <td>-1.768010</td>\n",
       "    </tr>\n",
       "    <tr>\n",
       "      <th>2021-01-09</th>\n",
       "      <td>0.007476</td>\n",
       "      <td>0.355390</td>\n",
       "    </tr>\n",
       "    <tr>\n",
       "      <th>2021-01-10</th>\n",
       "      <td>-0.782501</td>\n",
       "      <td>-1.143957</td>\n",
       "    </tr>\n",
       "  </tbody>\n",
       "</table>\n",
       "</div>"
      ],
      "text/plain": [
       "                Col3      Col4\n",
       "2021-01-06  2.157198 -0.976821\n",
       "2021-01-07  1.429038 -1.051466\n",
       "2021-01-08  0.064123 -1.768010\n",
       "2021-01-09  0.007476  0.355390\n",
       "2021-01-10 -0.782501 -1.143957"
      ]
     },
     "execution_count": 68,
     "metadata": {},
     "output_type": "execute_result"
    }
   ],
   "source": [
    "# Slicing\n",
    "# To get the all the rows with index 0 to 4 and columns with index 2 to 3 \n",
    "df.iloc[:5, 2:4]"
   ]
  },
  {
   "cell_type": "code",
   "execution_count": 73,
   "id": "f95fa2fe",
   "metadata": {},
   "outputs": [
    {
     "data": {
      "text/html": [
       "<div>\n",
       "<style scoped>\n",
       "    .dataframe tbody tr th:only-of-type {\n",
       "        vertical-align: middle;\n",
       "    }\n",
       "\n",
       "    .dataframe tbody tr th {\n",
       "        vertical-align: top;\n",
       "    }\n",
       "\n",
       "    .dataframe thead th {\n",
       "        text-align: right;\n",
       "    }\n",
       "</style>\n",
       "<table border=\"1\" class=\"dataframe\">\n",
       "  <thead>\n",
       "    <tr style=\"text-align: right;\">\n",
       "      <th></th>\n",
       "      <th>Col1</th>\n",
       "      <th>Col2</th>\n",
       "      <th>Col3</th>\n",
       "      <th>Col4</th>\n",
       "      <th>Col5</th>\n",
       "    </tr>\n",
       "  </thead>\n",
       "  <tbody>\n",
       "    <tr>\n",
       "      <th>2021-01-06</th>\n",
       "      <td>-0.652415</td>\n",
       "      <td>-1.318366</td>\n",
       "      <td>2.157198</td>\n",
       "      <td>-0.976821</td>\n",
       "      <td>0.467407</td>\n",
       "    </tr>\n",
       "    <tr>\n",
       "      <th>2021-01-07</th>\n",
       "      <td>-0.534334</td>\n",
       "      <td>0.448690</td>\n",
       "      <td>1.429038</td>\n",
       "      <td>-1.051466</td>\n",
       "      <td>-0.441981</td>\n",
       "    </tr>\n",
       "    <tr>\n",
       "      <th>2021-01-08</th>\n",
       "      <td>-0.428137</td>\n",
       "      <td>1.010905</td>\n",
       "      <td>0.064123</td>\n",
       "      <td>-1.768010</td>\n",
       "      <td>-0.582153</td>\n",
       "    </tr>\n",
       "  </tbody>\n",
       "</table>\n",
       "</div>"
      ],
      "text/plain": [
       "                Col1      Col2      Col3      Col4      Col5\n",
       "2021-01-06 -0.652415 -1.318366  2.157198 -0.976821  0.467407\n",
       "2021-01-07 -0.534334  0.448690  1.429038 -1.051466 -0.441981\n",
       "2021-01-08 -0.428137  1.010905  0.064123 -1.768010 -0.582153"
      ]
     },
     "execution_count": 73,
     "metadata": {},
     "output_type": "execute_result"
    }
   ],
   "source": [
    "# To get 3 rows and all the columns\n",
    "\n",
    "df.iloc[:3]"
   ]
  },
  {
   "cell_type": "code",
   "execution_count": 76,
   "id": "36e30d8f",
   "metadata": {},
   "outputs": [
    {
     "data": {
      "text/html": [
       "<div>\n",
       "<style scoped>\n",
       "    .dataframe tbody tr th:only-of-type {\n",
       "        vertical-align: middle;\n",
       "    }\n",
       "\n",
       "    .dataframe tbody tr th {\n",
       "        vertical-align: top;\n",
       "    }\n",
       "\n",
       "    .dataframe thead th {\n",
       "        text-align: right;\n",
       "    }\n",
       "</style>\n",
       "<table border=\"1\" class=\"dataframe\">\n",
       "  <thead>\n",
       "    <tr style=\"text-align: right;\">\n",
       "      <th></th>\n",
       "      <th>Col1</th>\n",
       "      <th>Col2</th>\n",
       "      <th>Col3</th>\n",
       "      <th>Col4</th>\n",
       "      <th>Col5</th>\n",
       "    </tr>\n",
       "  </thead>\n",
       "  <tbody>\n",
       "    <tr>\n",
       "      <th>2021-01-06</th>\n",
       "      <td>-0.652415</td>\n",
       "      <td>-1.318366</td>\n",
       "      <td>2.157198</td>\n",
       "      <td>-0.976821</td>\n",
       "      <td>0.467407</td>\n",
       "    </tr>\n",
       "    <tr>\n",
       "      <th>2021-01-09</th>\n",
       "      <td>1.094182</td>\n",
       "      <td>-1.357857</td>\n",
       "      <td>0.007476</td>\n",
       "      <td>0.355390</td>\n",
       "      <td>-0.103160</td>\n",
       "    </tr>\n",
       "    <tr>\n",
       "      <th>2021-01-12</th>\n",
       "      <td>-1.647618</td>\n",
       "      <td>0.081773</td>\n",
       "      <td>-0.828971</td>\n",
       "      <td>-1.513561</td>\n",
       "      <td>-0.872352</td>\n",
       "    </tr>\n",
       "    <tr>\n",
       "      <th>2021-01-15</th>\n",
       "      <td>-0.076721</td>\n",
       "      <td>-1.124235</td>\n",
       "      <td>0.018030</td>\n",
       "      <td>-0.492978</td>\n",
       "      <td>-0.674126</td>\n",
       "    </tr>\n",
       "    <tr>\n",
       "      <th>2021-01-18</th>\n",
       "      <td>0.877036</td>\n",
       "      <td>-2.499822</td>\n",
       "      <td>-1.898468</td>\n",
       "      <td>0.962312</td>\n",
       "      <td>-0.299137</td>\n",
       "    </tr>\n",
       "    <tr>\n",
       "      <th>2021-01-21</th>\n",
       "      <td>0.224709</td>\n",
       "      <td>-0.600185</td>\n",
       "      <td>1.926238</td>\n",
       "      <td>0.044022</td>\n",
       "      <td>0.381767</td>\n",
       "    </tr>\n",
       "    <tr>\n",
       "      <th>2021-01-24</th>\n",
       "      <td>-0.558520</td>\n",
       "      <td>-1.155130</td>\n",
       "      <td>0.780574</td>\n",
       "      <td>1.662096</td>\n",
       "      <td>0.436541</td>\n",
       "    </tr>\n",
       "  </tbody>\n",
       "</table>\n",
       "</div>"
      ],
      "text/plain": [
       "                Col1      Col2      Col3      Col4      Col5\n",
       "2021-01-06 -0.652415 -1.318366  2.157198 -0.976821  0.467407\n",
       "2021-01-09  1.094182 -1.357857  0.007476  0.355390 -0.103160\n",
       "2021-01-12 -1.647618  0.081773 -0.828971 -1.513561 -0.872352\n",
       "2021-01-15 -0.076721 -1.124235  0.018030 -0.492978 -0.674126\n",
       "2021-01-18  0.877036 -2.499822 -1.898468  0.962312 -0.299137\n",
       "2021-01-21  0.224709 -0.600185  1.926238  0.044022  0.381767\n",
       "2021-01-24 -0.558520 -1.155130  0.780574  1.662096  0.436541"
      ]
     },
     "execution_count": 76,
     "metadata": {},
     "output_type": "execute_result"
    }
   ],
   "source": [
    "# To get 6 rows and all the columns\n",
    "\n",
    "df.iloc[::3]"
   ]
  },
  {
   "cell_type": "code",
   "execution_count": 78,
   "id": "0ac4aaf1",
   "metadata": {},
   "outputs": [
    {
     "data": {
      "text/html": [
       "<div>\n",
       "<style scoped>\n",
       "    .dataframe tbody tr th:only-of-type {\n",
       "        vertical-align: middle;\n",
       "    }\n",
       "\n",
       "    .dataframe tbody tr th {\n",
       "        vertical-align: top;\n",
       "    }\n",
       "\n",
       "    .dataframe thead th {\n",
       "        text-align: right;\n",
       "    }\n",
       "</style>\n",
       "<table border=\"1\" class=\"dataframe\">\n",
       "  <thead>\n",
       "    <tr style=\"text-align: right;\">\n",
       "      <th></th>\n",
       "      <th>Col1</th>\n",
       "      <th>Col2</th>\n",
       "      <th>Col3</th>\n",
       "      <th>Col4</th>\n",
       "      <th>Col5</th>\n",
       "    </tr>\n",
       "  </thead>\n",
       "  <tbody>\n",
       "    <tr>\n",
       "      <th>2021-01-06</th>\n",
       "      <td>-0.652415</td>\n",
       "      <td>-1.318366</td>\n",
       "      <td>2.157198</td>\n",
       "      <td>-0.976821</td>\n",
       "      <td>0.467407</td>\n",
       "    </tr>\n",
       "    <tr>\n",
       "      <th>2021-01-07</th>\n",
       "      <td>-0.534334</td>\n",
       "      <td>0.448690</td>\n",
       "      <td>1.429038</td>\n",
       "      <td>-1.051466</td>\n",
       "      <td>-0.441981</td>\n",
       "    </tr>\n",
       "    <tr>\n",
       "      <th>2021-01-08</th>\n",
       "      <td>-0.428137</td>\n",
       "      <td>1.010905</td>\n",
       "      <td>0.064123</td>\n",
       "      <td>-1.768010</td>\n",
       "      <td>-0.582153</td>\n",
       "    </tr>\n",
       "    <tr>\n",
       "      <th>2021-01-09</th>\n",
       "      <td>1.094182</td>\n",
       "      <td>-1.357857</td>\n",
       "      <td>0.007476</td>\n",
       "      <td>0.355390</td>\n",
       "      <td>-0.103160</td>\n",
       "    </tr>\n",
       "    <tr>\n",
       "      <th>2021-01-11</th>\n",
       "      <td>1.445468</td>\n",
       "      <td>-0.078421</td>\n",
       "      <td>1.423510</td>\n",
       "      <td>-0.629475</td>\n",
       "      <td>0.581088</td>\n",
       "    </tr>\n",
       "    <tr>\n",
       "      <th>2021-01-13</th>\n",
       "      <td>2.063709</td>\n",
       "      <td>-0.670271</td>\n",
       "      <td>1.328697</td>\n",
       "      <td>-1.220121</td>\n",
       "      <td>0.943079</td>\n",
       "    </tr>\n",
       "    <tr>\n",
       "      <th>2021-01-15</th>\n",
       "      <td>-0.076721</td>\n",
       "      <td>-1.124235</td>\n",
       "      <td>0.018030</td>\n",
       "      <td>-0.492978</td>\n",
       "      <td>-0.674126</td>\n",
       "    </tr>\n",
       "    <tr>\n",
       "      <th>2021-01-19</th>\n",
       "      <td>-0.005302</td>\n",
       "      <td>1.827451</td>\n",
       "      <td>0.698728</td>\n",
       "      <td>0.696621</td>\n",
       "      <td>-0.982551</td>\n",
       "    </tr>\n",
       "    <tr>\n",
       "      <th>2021-01-21</th>\n",
       "      <td>0.224709</td>\n",
       "      <td>-0.600185</td>\n",
       "      <td>1.926238</td>\n",
       "      <td>0.044022</td>\n",
       "      <td>0.381767</td>\n",
       "    </tr>\n",
       "    <tr>\n",
       "      <th>2021-01-22</th>\n",
       "      <td>-0.440816</td>\n",
       "      <td>-2.028334</td>\n",
       "      <td>1.559556</td>\n",
       "      <td>-0.335947</td>\n",
       "      <td>0.975755</td>\n",
       "    </tr>\n",
       "    <tr>\n",
       "      <th>2021-01-24</th>\n",
       "      <td>-0.558520</td>\n",
       "      <td>-1.155130</td>\n",
       "      <td>0.780574</td>\n",
       "      <td>1.662096</td>\n",
       "      <td>0.436541</td>\n",
       "    </tr>\n",
       "  </tbody>\n",
       "</table>\n",
       "</div>"
      ],
      "text/plain": [
       "                Col1      Col2      Col3      Col4      Col5\n",
       "2021-01-06 -0.652415 -1.318366  2.157198 -0.976821  0.467407\n",
       "2021-01-07 -0.534334  0.448690  1.429038 -1.051466 -0.441981\n",
       "2021-01-08 -0.428137  1.010905  0.064123 -1.768010 -0.582153\n",
       "2021-01-09  1.094182 -1.357857  0.007476  0.355390 -0.103160\n",
       "2021-01-11  1.445468 -0.078421  1.423510 -0.629475  0.581088\n",
       "2021-01-13  2.063709 -0.670271  1.328697 -1.220121  0.943079\n",
       "2021-01-15 -0.076721 -1.124235  0.018030 -0.492978 -0.674126\n",
       "2021-01-19 -0.005302  1.827451  0.698728  0.696621 -0.982551\n",
       "2021-01-21  0.224709 -0.600185  1.926238  0.044022  0.381767\n",
       "2021-01-22 -0.440816 -2.028334  1.559556 -0.335947  0.975755\n",
       "2021-01-24 -0.558520 -1.155130  0.780574  1.662096  0.436541"
      ]
     },
     "execution_count": 78,
     "metadata": {},
     "output_type": "execute_result"
    }
   ],
   "source": [
    "# Filtering\n",
    "# To get all the data which has positive value in column 3\n",
    "\n",
    "df[(df['Col3'] > 0)]"
   ]
  },
  {
   "cell_type": "code",
   "execution_count": 81,
   "id": "11b1cf7c",
   "metadata": {},
   "outputs": [
    {
     "data": {
      "text/html": [
       "<div>\n",
       "<style scoped>\n",
       "    .dataframe tbody tr th:only-of-type {\n",
       "        vertical-align: middle;\n",
       "    }\n",
       "\n",
       "    .dataframe tbody tr th {\n",
       "        vertical-align: top;\n",
       "    }\n",
       "\n",
       "    .dataframe thead th {\n",
       "        text-align: right;\n",
       "    }\n",
       "</style>\n",
       "<table border=\"1\" class=\"dataframe\">\n",
       "  <thead>\n",
       "    <tr style=\"text-align: right;\">\n",
       "      <th></th>\n",
       "      <th>Col4</th>\n",
       "      <th>Col5</th>\n",
       "    </tr>\n",
       "  </thead>\n",
       "  <tbody>\n",
       "    <tr>\n",
       "      <th>2021-01-10</th>\n",
       "      <td>-1.143957</td>\n",
       "      <td>0.331814</td>\n",
       "    </tr>\n",
       "    <tr>\n",
       "      <th>2021-01-12</th>\n",
       "      <td>-1.513561</td>\n",
       "      <td>-0.872352</td>\n",
       "    </tr>\n",
       "    <tr>\n",
       "      <th>2021-01-16</th>\n",
       "      <td>-0.365219</td>\n",
       "      <td>2.415661</td>\n",
       "    </tr>\n",
       "    <tr>\n",
       "      <th>2021-01-23</th>\n",
       "      <td>-1.842910</td>\n",
       "      <td>-0.617572</td>\n",
       "    </tr>\n",
       "  </tbody>\n",
       "</table>\n",
       "</div>"
      ],
      "text/plain": [
       "                Col4      Col5\n",
       "2021-01-10 -1.143957  0.331814\n",
       "2021-01-12 -1.513561 -0.872352\n",
       "2021-01-16 -0.365219  2.415661\n",
       "2021-01-23 -1.842910 -0.617572"
      ]
     },
     "execution_count": 81,
     "metadata": {},
     "output_type": "execute_result"
    }
   ],
   "source": [
    "# To get the col4 and col5 values of the data whose col2 values are positive and col3 values are negative\n",
    "\n",
    "df[(df['Col2'] > 0) & (df['Col3'] < 0)][['Col4', 'Col5']]"
   ]
  },
  {
   "cell_type": "code",
   "execution_count": 84,
   "id": "8476efa9",
   "metadata": {},
   "outputs": [
    {
     "data": {
      "text/html": [
       "<div>\n",
       "<style scoped>\n",
       "    .dataframe tbody tr th:only-of-type {\n",
       "        vertical-align: middle;\n",
       "    }\n",
       "\n",
       "    .dataframe tbody tr th {\n",
       "        vertical-align: top;\n",
       "    }\n",
       "\n",
       "    .dataframe thead th {\n",
       "        text-align: right;\n",
       "    }\n",
       "</style>\n",
       "<table border=\"1\" class=\"dataframe\">\n",
       "  <thead>\n",
       "    <tr style=\"text-align: right;\">\n",
       "      <th></th>\n",
       "      <th>X</th>\n",
       "      <th>Y</th>\n",
       "      <th>Z</th>\n",
       "    </tr>\n",
       "  </thead>\n",
       "  <tbody>\n",
       "    <tr>\n",
       "      <th>0</th>\n",
       "      <td>X0</td>\n",
       "      <td>Y0</td>\n",
       "      <td>Z0</td>\n",
       "    </tr>\n",
       "    <tr>\n",
       "      <th>1</th>\n",
       "      <td>X1</td>\n",
       "      <td>Y1</td>\n",
       "      <td>Z1</td>\n",
       "    </tr>\n",
       "    <tr>\n",
       "      <th>2</th>\n",
       "      <td>X2</td>\n",
       "      <td>Y2</td>\n",
       "      <td>Z2</td>\n",
       "    </tr>\n",
       "    <tr>\n",
       "      <th>3</th>\n",
       "      <td>X3</td>\n",
       "      <td>Y3</td>\n",
       "      <td>Z3</td>\n",
       "    </tr>\n",
       "  </tbody>\n",
       "</table>\n",
       "</div>"
      ],
      "text/plain": [
       "    X   Y   Z\n",
       "0  X0  Y0  Z0\n",
       "1  X1  Y1  Z1\n",
       "2  X2  Y2  Z2\n",
       "3  X3  Y3  Z3"
      ]
     },
     "execution_count": 84,
     "metadata": {},
     "output_type": "execute_result"
    }
   ],
   "source": [
    "# Making a new dataframe using function\n",
    "\n",
    "def make_df(cols, ind):\n",
    "    data = {c : [str (c) + str (i) for i in ind]\n",
    "            for c in cols}\n",
    "    return pd.DataFrame(data, ind)\n",
    "\n",
    "make_df('XYZ', range(4))"
   ]
  },
  {
   "cell_type": "code",
   "execution_count": 87,
   "id": "5dd72fb2",
   "metadata": {},
   "outputs": [
    {
     "data": {
      "text/plain": [
       "array([ 1,  2,  3,  4,  5,  6,  7,  8,  9, 10, 11, 12])"
      ]
     },
     "execution_count": 87,
     "metadata": {},
     "output_type": "execute_result"
    }
   ],
   "source": [
    "# Concatenation\n",
    "\n",
    "x = [1, 2, 3, 4]\n",
    "y = [5, 6, 7, 8]\n",
    "z = [9, 10, 11, 12]\n",
    "np.concatenate([x, y, z])"
   ]
  },
  {
   "cell_type": "code",
   "execution_count": 89,
   "id": "ab303026",
   "metadata": {},
   "outputs": [],
   "source": [
    "x = [[1, 2, 3],\n",
    "     [4, 5, 6]]"
   ]
  },
  {
   "cell_type": "code",
   "execution_count": 90,
   "id": "6a6848f2",
   "metadata": {},
   "outputs": [
    {
     "data": {
      "text/plain": [
       "array([[1, 2, 3],\n",
       "       [4, 5, 6],\n",
       "       [1, 2, 3],\n",
       "       [4, 5, 6]])"
      ]
     },
     "execution_count": 90,
     "metadata": {},
     "output_type": "execute_result"
    }
   ],
   "source": [
    "# Concatenating the array with itself\n",
    "\n",
    "np.concatenate([x, x])"
   ]
  },
  {
   "cell_type": "code",
   "execution_count": 91,
   "id": "04b8631a",
   "metadata": {},
   "outputs": [
    {
     "data": {
      "text/plain": [
       "array([[1, 2, 3, 1, 2, 3],\n",
       "       [4, 5, 6, 4, 5, 6]])"
      ]
     },
     "execution_count": 91,
     "metadata": {},
     "output_type": "execute_result"
    }
   ],
   "source": [
    "# Concatenating row-wise\n",
    "\n",
    "np.concatenate([x, x], axis = 1)"
   ]
  },
  {
   "cell_type": "code",
   "execution_count": 92,
   "id": "c0ef8230",
   "metadata": {},
   "outputs": [
    {
     "data": {
      "text/plain": [
       "array([[1, 2, 3],\n",
       "       [4, 5, 6],\n",
       "       [1, 2, 3],\n",
       "       [4, 5, 6]])"
      ]
     },
     "execution_count": 92,
     "metadata": {},
     "output_type": "execute_result"
    }
   ],
   "source": [
    "# Concatenating column-wise\n",
    "\n",
    "np.concatenate([x, x], axis = 0)"
   ]
  },
  {
   "cell_type": "code",
   "execution_count": 93,
   "id": "e1ed5579",
   "metadata": {},
   "outputs": [],
   "source": [
    "x = np.array([10, 11, 12])\n",
    "y = np.array([14, 16, 18])"
   ]
  },
  {
   "cell_type": "code",
   "execution_count": 95,
   "id": "9534354f",
   "metadata": {},
   "outputs": [
    {
     "data": {
      "text/plain": [
       "array([10, 11, 12, 14, 16, 18])"
      ]
     },
     "execution_count": 95,
     "metadata": {},
     "output_type": "execute_result"
    }
   ],
   "source": [
    "# Horizontal stack can be used to concatenate arrays row-wise\n",
    "\n",
    "np.hstack((x, y))"
   ]
  },
  {
   "cell_type": "code",
   "execution_count": 96,
   "id": "cf23d5b5",
   "metadata": {},
   "outputs": [
    {
     "data": {
      "text/plain": [
       "array([[10, 11, 12],\n",
       "       [14, 16, 18]])"
      ]
     },
     "execution_count": 96,
     "metadata": {},
     "output_type": "execute_result"
    }
   ],
   "source": [
    "# Vertical stack can be used to concatenate arrays column-wise\n",
    "\n",
    "np.vstack((x, y))"
   ]
  },
  {
   "cell_type": "code",
   "execution_count": null,
   "id": "12937d29",
   "metadata": {},
   "outputs": [],
   "source": []
  }
 ],
 "metadata": {
  "kernelspec": {
   "display_name": "Python 3",
   "language": "python",
   "name": "python3"
  },
  "language_info": {
   "codemirror_mode": {
    "name": "ipython",
    "version": 3
   },
   "file_extension": ".py",
   "mimetype": "text/x-python",
   "name": "python",
   "nbconvert_exporter": "python",
   "pygments_lexer": "ipython3",
   "version": "3.9.1"
  }
 },
 "nbformat": 4,
 "nbformat_minor": 5
}
