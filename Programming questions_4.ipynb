{
 "cells": [
  {
   "cell_type": "code",
   "execution_count": 6,
   "id": "25a633f3",
   "metadata": {},
   "outputs": [
    {
     "name": "stdout",
     "output_type": "stream",
     "text": [
      "Merged dictionary: {'name': 'Raunak', 'age': 22, 'college': 'KIIT', 'group': 'A', 'subject': 4, 'lab': 3}\n"
     ]
    }
   ],
   "source": [
    "# Take 4 lists and put the first 3 dictionaries into the 4th one\n",
    "\n",
    "d1 = {\"name\":\"Raunak\", \"age\":22}\n",
    "d2 = {\"college\":\"KIIT\", \"group\":\"A\"}\n",
    "d3 = {\"subject\":4, \"lab\":3}\n",
    "d4 = {}\n",
    "d4.update(d1)\n",
    "d4.update(d2)\n",
    "d4.update(d3)\n",
    "print (\"Merged dictionary:\", d4)"
   ]
  },
  {
   "cell_type": "code",
   "execution_count": 7,
   "id": "9293dd3d",
   "metadata": {},
   "outputs": [
    {
     "name": "stdout",
     "output_type": "stream",
     "text": [
      "Name: Ramesh, Address: Patia, Street: KIIT road, State: Odisha\n"
     ]
    }
   ],
   "source": [
    "# Create a dictionary of address using \"name\", \"address\", \"street\", \"state\" and print all the values using string formater\n",
    "\n",
    "d1 = {\"name\":\"Ramesh\", \"address\":\"Patia\", \"street\":\"KIIT road\", \"state\":\"Odisha\"}\n",
    "print (\"Name: {}, Address: {}, Street: {}, State: {}\".format(d1['name'], d1['address'], d1['street'], d1['state']))"
   ]
  },
  {
   "cell_type": "code",
   "execution_count": 9,
   "id": "36293b01",
   "metadata": {},
   "outputs": [
    {
     "name": "stdout",
     "output_type": "stream",
     "text": [
      "1200\n"
     ]
    }
   ],
   "source": [
    "# Write a program to multiply all elements of dictionary \n",
    "FruitDict = {'Apple': 10, 'banana': 5,'orange':4,'Guava':6} \n",
    "mult = 1\n",
    "for i in FruitDict.values():\n",
    "    mult = mult * i\n",
    "print (mult)"
   ]
  },
  {
   "cell_type": "code",
   "execution_count": 10,
   "id": "b48754d8",
   "metadata": {},
   "outputs": [
    {
     "name": "stdout",
     "output_type": "stream",
     "text": [
      "Enter 2 key value pairs\n",
      "hari\n",
      "59\n",
      "sunny\n",
      "60\n",
      "{'hari': 59, 'sunny': 60}\n",
      "Enter the key you want to search:hari\n",
      "hari = 59\n"
     ]
    }
   ],
   "source": [
    "# Create a user input dictionary having two key:value pair and check whether one of the key given by you is pesent in the dictionary \n",
    "#Input:- {hari:59,sunny:60} Checking_input:- hari  \n",
    "#Output:- hari=59\n",
    "\n",
    "d1 = {}\n",
    "print (\"Enter 2 key value pairs\")\n",
    "for i in range(2):\n",
    "    key = input()\n",
    "    value = int(input())\n",
    "    d1[key] = value\n",
    "print (d1)\n",
    "st = input(\"Enter the key you want to search:\")\n",
    "if (st in d1):\n",
    "    print (st, \"=\", d1[st])"
   ]
  },
  {
   "cell_type": "code",
   "execution_count": 14,
   "id": "1d3446d3",
   "metadata": {},
   "outputs": [
    {
     "name": "stdout",
     "output_type": "stream",
     "text": [
      "[('Sst', 82), ('Eng', 88), ('Sci', 90), ('Maths', 97)]\n"
     ]
    }
   ],
   "source": [
    "# Write a Python program to sort a list of tuples using Lambda. \n",
    "#Input: [('Eng', 88), ('Sci', 90), ('Maths', 97), ('Sst', 82)]\n",
    "#Output: [('Sst', 82), ('Eng', 88), ('Sci', 90), ('Maths', 97)]\n",
    "\n",
    "l = [('Eng', 88), ('Sci', 90), ('Maths', 97), ('Sst', 82)]\n",
    "l.sort(key = lambda x : x[1])\n",
    "print (l)"
   ]
  },
  {
   "cell_type": "code",
   "execution_count": 18,
   "id": "b1cf15eb",
   "metadata": {},
   "outputs": [
    {
     "name": "stdout",
     "output_type": "stream",
     "text": [
      "Coming from if\n",
      "Coming from elif\n",
      "No condition is satisfied\n"
     ]
    }
   ],
   "source": [
    "# Define a function with two arguments a and b. \n",
    "#Check if a is equal to 1 then return 'coming from if',check if b is equal to 1 ,then return 'coming from elif' otherwise return 'no condition is satisfied'\n",
    "\n",
    "def check(a, b):\n",
    "    if (a == 1):\n",
    "        return (\"Coming from if\")\n",
    "    elif (b == 1):\n",
    "        return (\"Coming from elif\")\n",
    "    else:\n",
    "        return (\"No condition is satisfied\")\n",
    "\n",
    "print(check(1, 6))\n",
    "print(check(3, 1))\n",
    "print(check(0, 0))"
   ]
  },
  {
   "cell_type": "code",
   "execution_count": 20,
   "id": "b88e54f1",
   "metadata": {},
   "outputs": [
    {
     "name": "stdout",
     "output_type": "stream",
     "text": [
      "66.0\n"
     ]
    }
   ],
   "source": [
    "# Take a Dictionary as given in input.Find the average of phy subject from the dict using function \n",
    "# Input:- dict={1:{'name':'Ram','Mark':{'phy':56,'chem':78}},2:{'name':'Hari','Mark':{'phy':76,'chem':88}}} \n",
    "# Output:- 66.0\n",
    "\n",
    "def avg(x):\n",
    "    s = 0\n",
    "    count = 0\n",
    "    for i in x.values():\n",
    "        s = s + i['Mark']['phy']\n",
    "        count = count + 1\n",
    "    av = s / count\n",
    "    return av\n",
    "\n",
    "dict={1:{'name':'Ram','Mark':{'phy':56,'chem':78}},2:{'name':'Hari','Mark':{'phy':76,'chem':88}}}\n",
    "print (avg (dict))"
   ]
  },
  {
   "cell_type": "code",
   "execution_count": null,
   "id": "0028761e",
   "metadata": {},
   "outputs": [],
   "source": []
  }
 ],
 "metadata": {
  "kernelspec": {
   "display_name": "Python 3",
   "language": "python",
   "name": "python3"
  },
  "language_info": {
   "codemirror_mode": {
    "name": "ipython",
    "version": 3
   },
   "file_extension": ".py",
   "mimetype": "text/x-python",
   "name": "python",
   "nbconvert_exporter": "python",
   "pygments_lexer": "ipython3",
   "version": "3.9.1"
  }
 },
 "nbformat": 4,
 "nbformat_minor": 5
}
