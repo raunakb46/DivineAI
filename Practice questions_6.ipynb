{
 "cells": [
  {
   "cell_type": "code",
   "execution_count": 1,
   "id": "f4081f5c",
   "metadata": {},
   "outputs": [
    {
     "name": "stdout",
     "output_type": "stream",
     "text": [
      "Enter a string:Python\n",
      "Original string: Python\n",
      "Reversing the string: nohtyP\n"
     ]
    }
   ],
   "source": [
    "# Reverse a given string\n",
    "\n",
    "char = input(\"Enter a string:\")\n",
    "print(\"Original string:\", char)\n",
    "print (\"Reversing the string:\", char[::-1])"
   ]
  },
  {
   "cell_type": "code",
   "execution_count": 5,
   "id": "a7f5afdc",
   "metadata": {},
   "outputs": [
    {
     "name": "stdout",
     "output_type": "stream",
     "text": [
      "First vector: [1, 2, 3, 4]\n",
      "Second vector: [5, 6, 7, 8]\n",
      "Addition of vectors--\n",
      "6 8 10 12 "
     ]
    }
   ],
   "source": [
    "# Addition of two vector\n",
    "\n",
    "l1 = [1, 2, 3, 4]\n",
    "l2 = [5, 6, 7, 8]\n",
    "add = 0\n",
    "print (\"First vector:\", l1)\n",
    "print (\"Second vector:\", l2)\n",
    "print (\"Addition of vectors--\")\n",
    "for i in range(len(l1)):\n",
    "    add = l1[i] + l2[i]\n",
    "    print (add, end = \" \")"
   ]
  },
  {
   "cell_type": "code",
   "execution_count": 8,
   "id": "801bd59d",
   "metadata": {},
   "outputs": [
    {
     "name": "stdout",
     "output_type": "stream",
     "text": [
      "Enter size of the list:4\n",
      "Input elements in list\n",
      "-1\n",
      "2\n",
      "-4\n",
      "5\n",
      "List: [-1, 2, -4, 5]\n",
      "Replacing negative values with 0: [0, 2, 0, 5]\n"
     ]
    }
   ],
   "source": [
    "# Replace negative prices with 0 and leave the positive values unchanged in a list\n",
    "\n",
    "l = []\n",
    "n = int(input(\"Enter size of the list:\"))\n",
    "print (\"Input elements in list\")\n",
    "for i in range(n):\n",
    "    a = int(input())\n",
    "    l.append(a)\n",
    "print (\"List:\", l)\n",
    "for i in range(len(l)):\n",
    "    if (l[i] < 0):\n",
    "        l[i] = 0\n",
    "print (\"Replacing negative values with 0:\", l)"
   ]
  },
  {
   "cell_type": "code",
   "execution_count": 16,
   "id": "49362e66",
   "metadata": {},
   "outputs": [
    {
     "name": "stdout",
     "output_type": "stream",
     "text": [
      "List: [2, 3, 4, 5, 6, 7]\n",
      "Sqaure of list: [4, 9, 16, 25, 36, 49]\n"
     ]
    }
   ],
   "source": [
    "#  Given a Python list. Turn every item of a list into its square\n",
    "\n",
    "l = [2, 3, 4, 5, 6, 7]\n",
    "print (\"List:\", l)\n",
    "for i in range(len(l)):\n",
    "    l[i] = l[i] ** 2\n",
    "print (\"Sqaure of list:\", l)"
   ]
  },
  {
   "cell_type": "code",
   "execution_count": 39,
   "id": "dc51e23d",
   "metadata": {
    "scrolled": true
   },
   "outputs": [
    {
     "name": "stdout",
     "output_type": "stream",
     "text": [
      "List: ['a', 'b', 'c', ' ', 'e', ' ', 'g']\n",
      "Removing empty strings: ['a', 'b', 'c', 'e', 'g']\n"
     ]
    }
   ],
   "source": [
    "# Remove empty strings from the list of strings\n",
    "\n",
    "l = ['a', 'b', 'c',' ', 'e',' ', 'g']\n",
    "print (\"List:\", l)\n",
    "l = ' '.join(l).split()\n",
    "print (\"Removing empty strings:\", l)"
   ]
  },
  {
   "cell_type": "code",
   "execution_count": 61,
   "id": "614cd193",
   "metadata": {},
   "outputs": [
    {
     "name": "stdout",
     "output_type": "stream",
     "text": [
      "List: ['a', 'b', 'a', 'c', 'e', 'f', 'f']\n",
      "Which letter you want to remove:f\n",
      "New list: ['a', 'b', 'a', 'c', 'e']\n"
     ]
    }
   ],
   "source": [
    "# Write a program which will achieve given a Python list, remove all occurrence of an input from the list\n",
    "\n",
    "l = ['a', 'b', 'a','c', 'e', 'f', 'f']\n",
    "j = []\n",
    "print (\"List:\", l)\n",
    "n = input(\"Which letter you want to remove:\")\n",
    "for i in l:\n",
    "    if (i != n):\n",
    "        j.append(i)\n",
    "print (\"New list:\", j)"
   ]
  },
  {
   "cell_type": "code",
   "execution_count": 66,
   "id": "58fbc020",
   "metadata": {},
   "outputs": [
    {
     "name": "stdout",
     "output_type": "stream",
     "text": [
      "3 random integers between 100 and 999 which are divisible by 5 --\n",
      "645\n",
      "250\n",
      "560\n"
     ]
    }
   ],
   "source": [
    "# Generate 3 random integers between 100 and 999 which is divisible by 5\n",
    "\n",
    "import random\n",
    "print (\"3 random integers between 100 and 999 which are divisible by 5 --\")\n",
    "for i in range (3):\n",
    "    j = random.randrange(100, 999, 5)\n",
    "    print (j)"
   ]
  },
  {
   "cell_type": "code",
   "execution_count": 72,
   "id": "07635ae7",
   "metadata": {},
   "outputs": [
    {
     "name": "stdout",
     "output_type": "stream",
     "text": [
      "Enter a string:Python\n",
      "Random character from the string: y\n"
     ]
    }
   ],
   "source": [
    "# Pick a random character from a given String\n",
    "\n",
    "import random\n",
    "char = input(\"Enter a string:\")\n",
    "j = random.choice(char)\n",
    "print (\"Random character from the string:\", j)"
   ]
  },
  {
   "cell_type": "code",
   "execution_count": 73,
   "id": "06b6317b",
   "metadata": {},
   "outputs": [
    {
     "name": "stdout",
     "output_type": "stream",
     "text": [
      "Random string of 5 character: 86IHV\n"
     ]
    }
   ],
   "source": [
    "# Generate  random String of length 5\n",
    "\n",
    "import random\n",
    "import string\n",
    "r = ''.join(random.choices(string.ascii_uppercase + string.digits, k = 5))\n",
    "print (\"Random string of 5 character:\", r)"
   ]
  },
  {
   "cell_type": "code",
   "execution_count": 80,
   "id": "5b0dec84",
   "metadata": {},
   "outputs": [
    {
     "name": "stdout",
     "output_type": "stream",
     "text": [
      "Start date : 2021-06-17 00:00:00  End date : 2021-06-30 00:00:00\n",
      "Random date within the range: 2021-06-21 00:00:00\n"
     ]
    }
   ],
   "source": [
    "# Generate a random date between given start and end dates\n",
    "\n",
    "import random\n",
    "from datetime import datetime, timedelta\n",
    "d1 = datetime(2021, 6, 17)\n",
    "d2 = datetime(2021, 6, 30)\n",
    "print (\"Start date : {}  End date : {}\".format(d1, d2))\n",
    "diff = d2 - d1\n",
    "diff_days = diff.days\n",
    "random_days = random.randrange(diff_days)\n",
    "rdate = d1 + timedelta(days = random_days)\n",
    "print (\"Random date within the range:\", rdate)"
   ]
  },
  {
   "cell_type": "code",
   "execution_count": 86,
   "id": "8ace554a",
   "metadata": {},
   "outputs": [
    {
     "name": "stdout",
     "output_type": "stream",
     "text": [
      "Enter a string:asfdgxcvsdfscxx\n",
      "Occurrence of each character: Counter({'s': 3, 'x': 3, 'f': 2, 'd': 2, 'c': 2, 'a': 1, 'g': 1, 'v': 1})\n"
     ]
    }
   ],
   "source": [
    "# Given an input string, count occurrences of all characters within a string\n",
    "\n",
    "import collections\n",
    "char = input(\"Enter a string:\")\n",
    "res = collections.Counter(char)\n",
    "print (\"Occurrence of each character:\", res)"
   ]
  },
  {
   "cell_type": "code",
   "execution_count": 96,
   "id": "eac8fdf8",
   "metadata": {},
   "outputs": [
    {
     "name": "stdout",
     "output_type": "stream",
     "text": [
      "Enter a string:python, is a ! language.\n",
      "['p', 'y', 't', 'h', 'o', 'n', ',', ' ', 'i', 's', ' ', 'a', ' ', '!', ' ', 'l', 'a', 'n', 'g', 'u', 'a', 'g', 'e', '.']\n",
      "python is a  language\n"
     ]
    }
   ],
   "source": [
    "# Remove special symbols/Punctuation from a given string\n",
    "\n",
    "char = input(\"Enter a string:\")\n",
    "l = list(char)\n",
    "print (l)\n",
    "for i in l:\n",
    "    if (i == '!' or i == '?' or i == '.' or i == '/' or i ==':' or i == ';' or i == ','):\n",
    "        l.remove(i)\n",
    "char = ''.join(l)\n",
    "print (char)"
   ]
  },
  {
   "cell_type": "code",
   "execution_count": 98,
   "id": "9a349f83",
   "metadata": {},
   "outputs": [
    {
     "name": "stdout",
     "output_type": "stream",
     "text": [
      "{\n",
      "   \"Name\": \"Raunak\",\n",
      "   \"Age\": 22,\n",
      "   \"College\": \"KIIT\"\n",
      "}\n"
     ]
    }
   ],
   "source": [
    "# Convert dictionary to JSON\n",
    "\n",
    "import json\n",
    "dictionary = {'Name' : 'Raunak', 'Age' : 22, 'College' : 'KIIT'}\n",
    "json_file = json.dumps(dictionary, indent = 3)\n",
    "print (json_file)"
   ]
  },
  {
   "cell_type": "code",
   "execution_count": 99,
   "id": "3936b8b0",
   "metadata": {},
   "outputs": [],
   "source": [
    "# Writing JSON to a file\n",
    "\n",
    "import json\n",
    "dictionary = {'Name' : 'Raunak', 'Age' : 22, 'College' : 'KIIT'}\n",
    "with open ('file1.json', 'w') as f:\n",
    "    json.dump(dictionary, f)"
   ]
  },
  {
   "cell_type": "code",
   "execution_count": 103,
   "id": "51951646",
   "metadata": {},
   "outputs": [
    {
     "name": "stdout",
     "output_type": "stream",
     "text": [
      "{\n",
      " \"Name\": \"Raunak\",\n",
      " \"Age\": 22,\n",
      " \"College\": \"KIIT\"\n",
      "}\n"
     ]
    }
   ],
   "source": [
    "# Pretty print JSON\n",
    "\n",
    "import json\n",
    "f = open('file1.json')\n",
    "data = json.load(f)\n",
    "print (json.dumps(data, indent = 1))\n",
    "f.close()"
   ]
  },
  {
   "cell_type": "code",
   "execution_count": 123,
   "id": "23f6e19e",
   "metadata": {},
   "outputs": [
    {
     "name": "stdout",
     "output_type": "stream",
     "text": [
      "True\n"
     ]
    }
   ],
   "source": [
    "# Check if the key exists or not in JSON\n",
    "\n",
    "import json\n",
    "f = open('file1.json')\n",
    "data = json.load(f)\n",
    "key = \"Name\"\n",
    "res = key in data\n",
    "print (res)\n",
    "f.close()"
   ]
  },
  {
   "cell_type": "code",
   "execution_count": 139,
   "id": "111ae14a",
   "metadata": {},
   "outputs": [
    {
     "name": "stdout",
     "output_type": "stream",
     "text": [
      "False\n"
     ]
    }
   ],
   "source": [
    "# Check if there is a value for a key in JSON\n",
    "\n",
    "import json\n",
    "f = open('file1.json')\n",
    "data = json.load(f)\n",
    "res = 'Name' in data\n",
    "print (res)"
   ]
  },
  {
   "cell_type": "code",
   "execution_count": 159,
   "id": "713dbd19",
   "metadata": {},
   "outputs": [],
   "source": [
    "# Sort JSON keys in Python and write it into a file\n",
    "\n",
    "import json\n",
    "dictionary = {'Name' : 'Raunak', 'Age' : 22, 'College' : 'KIIT'}\n",
    "with open ('file1.json', 'w') as f:\n",
    "    json.dumps(dictionary, sort_keys=True)"
   ]
  },
  {
   "cell_type": "code",
   "execution_count": null,
   "id": "28674926",
   "metadata": {},
   "outputs": [],
   "source": []
  }
 ],
 "metadata": {
  "kernelspec": {
   "display_name": "Python 3",
   "language": "python",
   "name": "python3"
  },
  "language_info": {
   "codemirror_mode": {
    "name": "ipython",
    "version": 3
   },
   "file_extension": ".py",
   "mimetype": "text/x-python",
   "name": "python",
   "nbconvert_exporter": "python",
   "pygments_lexer": "ipython3",
   "version": "3.9.1"
  }
 },
 "nbformat": 4,
 "nbformat_minor": 5
}
