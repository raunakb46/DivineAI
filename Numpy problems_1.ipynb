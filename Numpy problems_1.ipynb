{
 "cells": [
  {
   "cell_type": "code",
   "execution_count": 5,
   "id": "c2871e0a",
   "metadata": {},
   "outputs": [
    {
     "name": "stdout",
     "output_type": "stream",
     "text": [
      "1.19.4\n",
      "blas_mkl_info:\n",
      "  NOT AVAILABLE\n",
      "blis_info:\n",
      "  NOT AVAILABLE\n",
      "openblas_info:\n",
      "    library_dirs = ['D:\\\\a\\\\1\\\\s\\\\numpy\\\\build\\\\openblas_info']\n",
      "    libraries = ['openblas_info']\n",
      "    language = f77\n",
      "    define_macros = [('HAVE_CBLAS', None)]\n",
      "blas_opt_info:\n",
      "    library_dirs = ['D:\\\\a\\\\1\\\\s\\\\numpy\\\\build\\\\openblas_info']\n",
      "    libraries = ['openblas_info']\n",
      "    language = f77\n",
      "    define_macros = [('HAVE_CBLAS', None)]\n",
      "lapack_mkl_info:\n",
      "  NOT AVAILABLE\n",
      "openblas_lapack_info:\n",
      "    library_dirs = ['D:\\\\a\\\\1\\\\s\\\\numpy\\\\build\\\\openblas_lapack_info']\n",
      "    libraries = ['openblas_lapack_info']\n",
      "    language = f77\n",
      "    define_macros = [('HAVE_CBLAS', None)]\n",
      "lapack_opt_info:\n",
      "    library_dirs = ['D:\\\\a\\\\1\\\\s\\\\numpy\\\\build\\\\openblas_lapack_info']\n",
      "    libraries = ['openblas_lapack_info']\n",
      "    language = f77\n",
      "    define_macros = [('HAVE_CBLAS', None)]\n",
      "None\n"
     ]
    }
   ],
   "source": [
    "# 1.Write a NumPy program to get the numpy version and show numpy build configuration.\n",
    "\n",
    "import numpy as np\n",
    "print (np.__version__)\n",
    "print (np.show_config())"
   ]
  },
  {
   "cell_type": "code",
   "execution_count": 6,
   "id": "3a1f34b4",
   "metadata": {},
   "outputs": [
    {
     "name": "stdout",
     "output_type": "stream",
     "text": [
      "add(x1, x2, /, out=None, *, where=True, casting='same_kind', order='K', dtype=None, subok=True[, signature, extobj])\n",
      "\n",
      "Add arguments element-wise.\n",
      "\n",
      "Parameters\n",
      "----------\n",
      "x1, x2 : array_like\n",
      "    The arrays to be added.\n",
      "    If ``x1.shape != x2.shape``, they must be broadcastable to a common\n",
      "    shape (which becomes the shape of the output).\n",
      "out : ndarray, None, or tuple of ndarray and None, optional\n",
      "    A location into which the result is stored. If provided, it must have\n",
      "    a shape that the inputs broadcast to. If not provided or None,\n",
      "    a freshly-allocated array is returned. A tuple (possible only as a\n",
      "    keyword argument) must have length equal to the number of outputs.\n",
      "where : array_like, optional\n",
      "    This condition is broadcast over the input. At locations where the\n",
      "    condition is True, the `out` array will be set to the ufunc result.\n",
      "    Elsewhere, the `out` array will retain its original value.\n",
      "    Note that if an uninitialized `out` array is created via the default\n",
      "    ``out=None``, locations within it where the condition is False will\n",
      "    remain uninitialized.\n",
      "**kwargs\n",
      "    For other keyword-only arguments, see the\n",
      "    :ref:`ufunc docs <ufuncs.kwargs>`.\n",
      "\n",
      "Returns\n",
      "-------\n",
      "add : ndarray or scalar\n",
      "    The sum of `x1` and `x2`, element-wise.\n",
      "    This is a scalar if both `x1` and `x2` are scalars.\n",
      "\n",
      "Notes\n",
      "-----\n",
      "Equivalent to `x1` + `x2` in terms of array broadcasting.\n",
      "\n",
      "Examples\n",
      "--------\n",
      ">>> np.add(1.0, 4.0)\n",
      "5.0\n",
      ">>> x1 = np.arange(9.0).reshape((3, 3))\n",
      ">>> x2 = np.arange(3.0)\n",
      ">>> np.add(x1, x2)\n",
      "array([[  0.,   2.,   4.],\n",
      "       [  3.,   5.,   7.],\n",
      "       [  6.,   8.,  10.]])\n",
      "None\n"
     ]
    }
   ],
   "source": [
    "# 2. Write a NumPy program to  get help on the add function.\n",
    "\n",
    "import numpy as np\n",
    "print (np.info(np.add))"
   ]
  },
  {
   "cell_type": "code",
   "execution_count": 7,
   "id": "7db88bd9",
   "metadata": {},
   "outputs": [
    {
     "name": "stdout",
     "output_type": "stream",
     "text": [
      "First array: [1, 2, 3, 4, 0]\n",
      "The array contains 0 as its element: False\n",
      "Second array: [4, 6, 7, 9]\n",
      "The array contains 0 as its element: True\n"
     ]
    }
   ],
   "source": [
    "# 3. Write a NumPy program to test whether none of the elements of a given array is zero.\n",
    "\n",
    "import numpy as np\n",
    "arr_1 = [1, 2, 3, 4, 0]\n",
    "arr_2 = [4, 6, 7, 9]\n",
    "print (\"First array:\", arr_1)\n",
    "print (\"The array contains 0 as its element:\", np.all(arr_1))\n",
    "print (\"Second array:\", arr_2)\n",
    "print (\"The array contains 0 as its element:\", np.all(arr_2))"
   ]
  },
  {
   "cell_type": "code",
   "execution_count": 10,
   "id": "ae530f18",
   "metadata": {},
   "outputs": [
    {
     "name": "stdout",
     "output_type": "stream",
     "text": [
      "First array: [1, 2, 3, 4, 0]\n",
      "The array contains all non-zero element: True\n",
      "Second array: [0, 0, 0, 0]\n",
      "The array contains all non-zero element: False\n"
     ]
    }
   ],
   "source": [
    "# 4. Write a NumPy program to test whether any of the elements of a given array is non-zero.\n",
    "\n",
    "import numpy as np\n",
    "arr_1 = [1, 2, 3, 4, 0]\n",
    "arr_2 = [0, 0, 0, 0]\n",
    "print (\"First array:\", arr_1)\n",
    "print (\"The array contains all non-zero element:\", np.any(arr_1))\n",
    "print (\"Second array:\", arr_2)\n",
    "print (\"The array contains all non-zero element:\", np.any(arr_2))"
   ]
  },
  {
   "cell_type": "code",
   "execution_count": 12,
   "id": "718f6b5d",
   "metadata": {},
   "outputs": [
    {
     "name": "stdout",
     "output_type": "stream",
     "text": [
      "Given array: [1, 2, nan, inf, 0]\n",
      "Finiteness of the array: [ True  True False False  True]\n"
     ]
    }
   ],
   "source": [
    "# 5. Write a NumPy program to test a given array element-wise for finiteness (not infinity or not a Number). \n",
    "\n",
    "import numpy as np\n",
    "arr = [1, 2, np.nan, np.inf, 0]\n",
    "print (\"Given array:\", arr)\n",
    "print (\"Finiteness of the array:\", np.isfinite(arr))"
   ]
  },
  {
   "cell_type": "code",
   "execution_count": 18,
   "id": "cc033e8a",
   "metadata": {},
   "outputs": [
    {
     "name": "stdout",
     "output_type": "stream",
     "text": [
      "Given  array: [1, 2, nan, -inf, 0]\n",
      "Check for positive infinity: [False False False  True False]\n",
      "Check for neagtive infinity: [False False False False False]\n"
     ]
    }
   ],
   "source": [
    "# 6. Write a NumPy program to test element-wise for positive or negative infinity. \n",
    "\n",
    "import numpy as np\n",
    "arr = [1, 2, np.nan, -np.inf, 0]\n",
    "print (\"Given  array:\", arr)\n",
    "print (\"Check for positive infinity:\", np.isneginf(arr))\n",
    "print (\"Check for neagtive infinity:\", np.isposinf(arr))"
   ]
  },
  {
   "cell_type": "code",
   "execution_count": 19,
   "id": "8364fc25",
   "metadata": {},
   "outputs": [
    {
     "name": "stdout",
     "output_type": "stream",
     "text": [
      "Given  array: [1, 2, nan, -inf, 0]\n",
      "Check for NaN elements: [False False  True False False]\n"
     ]
    }
   ],
   "source": [
    "# 7. Write a NumPy program to test element-wise for NaN of a given array.\n",
    "\n",
    "import numpy as np\n",
    "arr = [1, 2, np.nan, -np.inf, 0]\n",
    "print (\"Given  array:\", arr)\n",
    "print (\"Check for NaN elements:\", np.isnan(arr))"
   ]
  },
  {
   "cell_type": "code",
   "execution_count": 24,
   "id": "4afa615a",
   "metadata": {},
   "outputs": [
    {
     "name": "stdout",
     "output_type": "stream",
     "text": [
      "Given array: [1, 2, nan, (5+6j), 0]\n",
      "Check for complex numbers: [False False False  True False]\n",
      "Check for real numbers: [ True  True  True False  True]\n",
      "Check for scalar type number: True\n",
      "Check for scalar type number: False\n"
     ]
    }
   ],
   "source": [
    "# 8. Write a NumPy program to test element-wise for complex number, real number of a given array. Also test whether a given number is a scalar type or not.\n",
    "\n",
    "import numpy as np\n",
    "arr = [1, 2, np.nan, 5+6j, 0]\n",
    "print (\"Given array:\", arr)\n",
    "print (\"Check for complex numbers:\", np.iscomplex(arr))\n",
    "print (\"Check for real numbers:\", np.isreal(arr))\n",
    "print (\"Check for scalar type number:\", np.isscalar(21))\n",
    "print (\"Check for scalar type number:\", np.isscalar([21]))"
   ]
  },
  {
   "cell_type": "code",
   "execution_count": 25,
   "id": "cc4cf7a8",
   "metadata": {},
   "outputs": [
    {
     "name": "stdout",
     "output_type": "stream",
     "text": [
      "Checking whether two arrays are element wise equal within a tolerance\n",
      "False\n",
      "True\n"
     ]
    }
   ],
   "source": [
    "# 9. Write a NumPy program to test whether two arrays are element-wise equal within a tolerance.\n",
    "\n",
    "import numpy as np\n",
    "print (\"Checking whether two arrays are element wise equal within a tolerance\")\n",
    "print (np.allclose([1e10, 1e-7], [1.00001e10, 1e-8]))\n",
    "print (np.allclose([1.0, np.nan], [1.0, np.nan], equal_nan=True))"
   ]
  },
  {
   "cell_type": "code",
   "execution_count": 26,
   "id": "91869a12",
   "metadata": {},
   "outputs": [
    {
     "name": "stdout",
     "output_type": "stream",
     "text": [
      "First array: [1, 2, 3]\n",
      "Second array: [7, 0, 3]\n",
      "Comparison - greater: [False  True False]\n",
      "Comparison - greater or equal: [False  True  True]\n",
      "Comparison - less: [ True False False]\n",
      "Comparison - less or equal: [ True False  True]\n"
     ]
    }
   ],
   "source": [
    "# 10. Write a NumPy program to create an element-wise comparison (greater, greater_equal, less and less_equal) of two given arrays.\n",
    "\n",
    "import numpy as np\n",
    "arr_1 = [1, 2, 3]\n",
    "arr_2 = [7, 0, 3]\n",
    "print (\"First array:\", arr_1)\n",
    "print (\"Second array:\", arr_2)\n",
    "print (\"Comparison - greater:\", np.greater(arr_1, arr_2))\n",
    "print (\"Comparison - greater or equal:\", np.greater_equal(arr_1, arr_2))\n",
    "print (\"Comparison - less:\", np.less(arr_1, arr_2))\n",
    "print (\"Comparison - less or equal:\", np.less_equal(arr_1, arr_2))"
   ]
  },
  {
   "cell_type": "code",
   "execution_count": 3,
   "id": "6ae4bc6d",
   "metadata": {},
   "outputs": [
    {
     "name": "stdout",
     "output_type": "stream",
     "text": [
      "Array 1: [  1   2   3   5   0 100]\n",
      "Array 2: [7.e+00 0.e+00 3.e+00 5.e+00 9.e+00 1.e-07]\n",
      "Comparison - equal: [False False  True  True False False]\n",
      "Comparison on the basis of tolerance - equal: False\n"
     ]
    }
   ],
   "source": [
    "# 11. Write a NumPy program to create an element-wise comparison (equal, equal within a tolerance) of two given arrays.\n",
    "\n",
    "import numpy as np\n",
    "arr_1 = np.array ([1, 2, 3, 5, 0, 100])\n",
    "arr_2 = np.array ([7, 0, 3, 5, 9, 00.0000001])\n",
    "print (\"Array 1:\", arr_1)\n",
    "print (\"Array 2:\", arr_2)\n",
    "print (\"Comparison - equal:\", np.equal(arr_1, arr_2))\n",
    "print (\"Comparison on the basis of tolerance - equal:\", np.allclose(arr_1, arr_2))"
   ]
  },
  {
   "cell_type": "code",
   "execution_count": 7,
   "id": "1c30b64d",
   "metadata": {},
   "outputs": [
    {
     "name": "stdout",
     "output_type": "stream",
     "text": [
      "Given array: [  1   7  13 105]\n",
      "Size of the memory occupied by the array: 16 bytes\n"
     ]
    }
   ],
   "source": [
    "# 12. Write a NumPy program to create an array with the values 1, 7, 13, 105 and determine the size of the memory occupied by the array. \n",
    "\n",
    "import numpy as np\n",
    "arr = np.array([1, 7, 13, 105])\n",
    "print (\"Given array:\", arr)\n",
    "print (\"Size of the memory occupied by the array: {} bytes\".format(arr.size * arr.itemsize))"
   ]
  },
  {
   "cell_type": "code",
   "execution_count": 8,
   "id": "917b7cde",
   "metadata": {},
   "outputs": [
    {
     "name": "stdout",
     "output_type": "stream",
     "text": [
      "Array of 10 zeros: [0. 0. 0. 0. 0. 0. 0. 0. 0. 0.]\n",
      "Array of 10 ones: [1. 1. 1. 1. 1. 1. 1. 1. 1. 1.]\n",
      "Array of 10 fives: [5. 5. 5. 5. 5. 5. 5. 5. 5. 5.]\n"
     ]
    }
   ],
   "source": [
    "# 13. Write a NumPy program to create an array of 10 zeros,10 ones, 10 fives.\n",
    "\n",
    "import numpy as np\n",
    "arr_1 = np.zeros(10)\n",
    "print (\"Array of 10 zeros:\", arr_1)\n",
    "arr_2 = np.ones(10)\n",
    "print (\"Array of 10 ones:\", arr_2)\n",
    "arr_3 = np.ones(10) * 5\n",
    "print (\"Array of 10 fives:\", arr_3)"
   ]
  },
  {
   "cell_type": "code",
   "execution_count": 13,
   "id": "918b8cef",
   "metadata": {},
   "outputs": [
    {
     "name": "stdout",
     "output_type": "stream",
     "text": [
      "Array of integers from 30 to 70:\n",
      "[30 31 32 33 34 35 36 37 38 39 40 41 42 43 44 45 46 47 48 49 50 51 52 53\n",
      " 54 55 56 57 58 59 60 61 62 63 64 65 66 67 68 69 70]\n"
     ]
    }
   ],
   "source": [
    "# 14. Write a NumPy program to create an array of the integers from 30 to70. \n",
    "\n",
    "import numpy as np\n",
    "arr = np.arange(30, 71)\n",
    "print (\"Array of integers from 30 to 70:\")\n",
    "print (arr)"
   ]
  },
  {
   "cell_type": "code",
   "execution_count": 14,
   "id": "19f5fef0",
   "metadata": {},
   "outputs": [
    {
     "name": "stdout",
     "output_type": "stream",
     "text": [
      "Array of even integers from 30 to 70:\n",
      "[30 32 34 36 38 40 42 44 46 48 50 52 54 56 58 60 62 64 66 68 70]\n"
     ]
    }
   ],
   "source": [
    "# 15. Write a NumPy program to create an array of all the even integers from 30 to 70.\n",
    "\n",
    "import numpy as np\n",
    "arr = np.arange(30, 71, 2)\n",
    "print (\"Array of even integers from 30 to 70:\")\n",
    "print (arr)"
   ]
  },
  {
   "cell_type": "code",
   "execution_count": 15,
   "id": "35de855c",
   "metadata": {},
   "outputs": [
    {
     "name": "stdout",
     "output_type": "stream",
     "text": [
      "3x3 indentity matrix:\n",
      "[[1. 0. 0.]\n",
      " [0. 1. 0.]\n",
      " [0. 0. 1.]]\n"
     ]
    }
   ],
   "source": [
    "# 16. Write a NumPy program to create a 3x3 identity matrix.\n",
    "\n",
    "import numpy as np\n",
    "arr = np.identity(3)\n",
    "print (\"3x3 indentity matrix:\")\n",
    "print (arr)"
   ]
  },
  {
   "cell_type": "code",
   "execution_count": 16,
   "id": "91a4830c",
   "metadata": {},
   "outputs": [
    {
     "name": "stdout",
     "output_type": "stream",
     "text": [
      "Random number between 0 and 1: [0.30962289]\n"
     ]
    }
   ],
   "source": [
    "# 17. Write a NumPy program to generate a random number between 0 and 1.\n",
    "\n",
    "import numpy as np\n",
    "a = np.random.normal(0, 1, 1)\n",
    "print (\"Random number between 0 and 1:\", a)"
   ]
  },
  {
   "cell_type": "code",
   "execution_count": 20,
   "id": "bc3117c5",
   "metadata": {},
   "outputs": [
    {
     "name": "stdout",
     "output_type": "stream",
     "text": [
      "Array of 15 random number:\n",
      "[-1.56596658 -1.45991983 -0.83513961  0.49416174 -1.57492818 -0.93395741\n",
      " -0.11782487 -2.34530617 -1.44984414  0.87426553 -0.25318445  0.2336556\n",
      "  0.87120175  1.36040524  0.53869889]\n"
     ]
    }
   ],
   "source": [
    "# 18. Write a NumPy program to generate an array of 15 random numbers from a standard normal distribution.\n",
    "\n",
    "import numpy as np\n",
    "arr = np.random.normal(0, 1, 15)\n",
    "print (\"Array of 15 random number:\")\n",
    "print (arr)"
   ]
  },
  {
   "cell_type": "code",
   "execution_count": 26,
   "id": "75378d06",
   "metadata": {},
   "outputs": [
    {
     "name": "stdout",
     "output_type": "stream",
     "text": [
      "Array in range 15 to 55:\n",
      "[15 16 17 18 19 20 21 22 23 24 25 26 27 28 29 30 31 32 33 34 35 36 37 38\n",
      " 39 40 41 42 43 44 45 46 47 48 49 50 51 52 53 54 55]\n",
      "Array excluding 15 and 55:\n",
      "[16 17 18 19 20 21 22 23 24 25 26 27 28 29 30 31 32 33 34 35 36 37 38 39\n",
      " 40 41 42 43 44 45 46 47 48 49 50 51 52 53 54]\n"
     ]
    }
   ],
   "source": [
    "# 19. Write a NumPy program to create a vector with values ranging from 15 to 55 and print all values except the first and last.\n",
    "\n",
    "import numpy as np\n",
    "vector = np.arange(15, 56)\n",
    "print (\"Array in range 15 to 55:\")\n",
    "print (vector)\n",
    "print (\"Array excluding 15 and 55:\")\n",
    "print (vector[1:-1])"
   ]
  },
  {
   "cell_type": "code",
   "execution_count": 30,
   "id": "76174eb4",
   "metadata": {},
   "outputs": [
    {
     "name": "stdout",
     "output_type": "stream",
     "text": [
      "3x4 array:\n",
      "[[10 11 12 13]\n",
      " [14 15 16 17]\n",
      " [18 19 20 21]]\n",
      "Using and iterate:\n",
      "10 11 12 13 14 15 16 17 18 19 20 21 "
     ]
    }
   ],
   "source": [
    "# 20. Write a NumPy program to create a 3X4 array using and iterate over it.\n",
    "\n",
    "import numpy as np\n",
    "arr = np.arange(10, 22).reshape(3, 4)\n",
    "print (\"3x4 array:\")\n",
    "print (arr)\n",
    "print (\"Using and iterate:\")\n",
    "for i in np.nditer(arr):\n",
    "    print (i, end = \" \")"
   ]
  },
  {
   "cell_type": "code",
   "execution_count": null,
   "id": "f558e223",
   "metadata": {},
   "outputs": [],
   "source": []
  }
 ],
 "metadata": {
  "kernelspec": {
   "display_name": "Python 3",
   "language": "python",
   "name": "python3"
  },
  "language_info": {
   "codemirror_mode": {
    "name": "ipython",
    "version": 3
   },
   "file_extension": ".py",
   "mimetype": "text/x-python",
   "name": "python",
   "nbconvert_exporter": "python",
   "pygments_lexer": "ipython3",
   "version": "3.9.1"
  }
 },
 "nbformat": 4,
 "nbformat_minor": 5
}
