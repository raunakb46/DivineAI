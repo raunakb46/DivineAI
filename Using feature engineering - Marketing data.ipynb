{
 "cells": [
  {
   "cell_type": "code",
   "execution_count": 1,
   "id": "7b1a68ee",
   "metadata": {},
   "outputs": [],
   "source": [
    "import pandas as pd\n",
    "import numpy as np\n",
    "import matplotlib.pyplot as plt\n",
    "import seaborn as sns"
   ]
  },
  {
   "cell_type": "code",
   "execution_count": 6,
   "id": "254a75a4",
   "metadata": {},
   "outputs": [],
   "source": [
    "df = pd.read_csv('market data.csv')"
   ]
  },
  {
   "cell_type": "code",
   "execution_count": 7,
   "id": "7fb764c2",
   "metadata": {},
   "outputs": [
    {
     "data": {
      "text/plain": [
       "(1143, 11)"
      ]
     },
     "execution_count": 7,
     "metadata": {},
     "output_type": "execute_result"
    }
   ],
   "source": [
    "df.shape"
   ]
  },
  {
   "cell_type": "code",
   "execution_count": 8,
   "id": "938ff842",
   "metadata": {},
   "outputs": [
    {
     "data": {
      "text/html": [
       "<div>\n",
       "<style scoped>\n",
       "    .dataframe tbody tr th:only-of-type {\n",
       "        vertical-align: middle;\n",
       "    }\n",
       "\n",
       "    .dataframe tbody tr th {\n",
       "        vertical-align: top;\n",
       "    }\n",
       "\n",
       "    .dataframe thead th {\n",
       "        text-align: right;\n",
       "    }\n",
       "</style>\n",
       "<table border=\"1\" class=\"dataframe\">\n",
       "  <thead>\n",
       "    <tr style=\"text-align: right;\">\n",
       "      <th></th>\n",
       "      <th>ad_id</th>\n",
       "      <th>xyz_campaign_id</th>\n",
       "      <th>fb_campaign_id</th>\n",
       "      <th>age</th>\n",
       "      <th>gender</th>\n",
       "      <th>interest</th>\n",
       "      <th>Impressions</th>\n",
       "      <th>Clicks</th>\n",
       "      <th>Spent</th>\n",
       "      <th>Total_Conversion</th>\n",
       "      <th>Approved_Conversion</th>\n",
       "    </tr>\n",
       "  </thead>\n",
       "  <tbody>\n",
       "    <tr>\n",
       "      <th>0</th>\n",
       "      <td>708746</td>\n",
       "      <td>916</td>\n",
       "      <td>103916</td>\n",
       "      <td>30-34</td>\n",
       "      <td>M</td>\n",
       "      <td>15</td>\n",
       "      <td>7350</td>\n",
       "      <td>1</td>\n",
       "      <td>1.43</td>\n",
       "      <td>2</td>\n",
       "      <td>1</td>\n",
       "    </tr>\n",
       "    <tr>\n",
       "      <th>1</th>\n",
       "      <td>708749</td>\n",
       "      <td>916</td>\n",
       "      <td>103917</td>\n",
       "      <td>30-34</td>\n",
       "      <td>M</td>\n",
       "      <td>16</td>\n",
       "      <td>17861</td>\n",
       "      <td>2</td>\n",
       "      <td>1.82</td>\n",
       "      <td>2</td>\n",
       "      <td>0</td>\n",
       "    </tr>\n",
       "    <tr>\n",
       "      <th>2</th>\n",
       "      <td>708771</td>\n",
       "      <td>916</td>\n",
       "      <td>103920</td>\n",
       "      <td>30-34</td>\n",
       "      <td>M</td>\n",
       "      <td>20</td>\n",
       "      <td>693</td>\n",
       "      <td>0</td>\n",
       "      <td>0.00</td>\n",
       "      <td>1</td>\n",
       "      <td>0</td>\n",
       "    </tr>\n",
       "    <tr>\n",
       "      <th>3</th>\n",
       "      <td>708815</td>\n",
       "      <td>916</td>\n",
       "      <td>103928</td>\n",
       "      <td>30-34</td>\n",
       "      <td>M</td>\n",
       "      <td>28</td>\n",
       "      <td>4259</td>\n",
       "      <td>1</td>\n",
       "      <td>1.25</td>\n",
       "      <td>1</td>\n",
       "      <td>0</td>\n",
       "    </tr>\n",
       "    <tr>\n",
       "      <th>4</th>\n",
       "      <td>708818</td>\n",
       "      <td>916</td>\n",
       "      <td>103928</td>\n",
       "      <td>30-34</td>\n",
       "      <td>M</td>\n",
       "      <td>28</td>\n",
       "      <td>4133</td>\n",
       "      <td>1</td>\n",
       "      <td>1.29</td>\n",
       "      <td>1</td>\n",
       "      <td>1</td>\n",
       "    </tr>\n",
       "  </tbody>\n",
       "</table>\n",
       "</div>"
      ],
      "text/plain": [
       "    ad_id  xyz_campaign_id  fb_campaign_id    age gender  interest  \\\n",
       "0  708746              916          103916  30-34      M        15   \n",
       "1  708749              916          103917  30-34      M        16   \n",
       "2  708771              916          103920  30-34      M        20   \n",
       "3  708815              916          103928  30-34      M        28   \n",
       "4  708818              916          103928  30-34      M        28   \n",
       "\n",
       "   Impressions  Clicks  Spent  Total_Conversion  Approved_Conversion  \n",
       "0         7350       1   1.43                 2                    1  \n",
       "1        17861       2   1.82                 2                    0  \n",
       "2          693       0   0.00                 1                    0  \n",
       "3         4259       1   1.25                 1                    0  \n",
       "4         4133       1   1.29                 1                    1  "
      ]
     },
     "execution_count": 8,
     "metadata": {},
     "output_type": "execute_result"
    }
   ],
   "source": [
    "df.head()"
   ]
  },
  {
   "cell_type": "code",
   "execution_count": 10,
   "id": "268ff422",
   "metadata": {},
   "outputs": [
    {
     "name": "stdout",
     "output_type": "stream",
     "text": [
      "No. of unique ads: 1143\n",
      "No. of campaigns: 3\n",
      "No. of facebook campaigns: 691\n",
      "No. of interest groups: 40\n",
      "No. of age groups: 40\n"
     ]
    }
   ],
   "source": [
    "# Getting number of unique values\n",
    "\n",
    "print ('No. of unique ads:', df['ad_id'].nunique())\n",
    "print ('No. of campaigns:', df['xyz_campaign_id'].nunique())\n",
    "print ('No. of facebook campaigns:', df['fb_campaign_id'].nunique())\n",
    "print ('No. of interest groups:', df['interest'].nunique())\n",
    "print ('No. of age groups:', df['interest'].nunique())"
   ]
  },
  {
   "cell_type": "code",
   "execution_count": 11,
   "id": "7e81c00e",
   "metadata": {},
   "outputs": [
    {
     "data": {
      "text/plain": [
       "Index(['xyz_campaign_id', 'age', 'gender', 'interest', 'Impressions', 'Clicks',\n",
       "       'Spent', 'Total_Conversion', 'Approved_Conversion'],\n",
       "      dtype='object')"
      ]
     },
     "execution_count": 11,
     "metadata": {},
     "output_type": "execute_result"
    }
   ],
   "source": [
    "# 'ad_id' and 'fb_campaign_id' has too many unique values. Hence, dropping both the columns\n",
    "\n",
    "df = df.drop(['ad_id', 'fb_campaign_id'], axis = 1)\n",
    "df.columns"
   ]
  },
  {
   "cell_type": "markdown",
   "id": "808366bd",
   "metadata": {},
   "source": [
    "# Feature engineering"
   ]
  },
  {
   "cell_type": "markdown",
   "id": "57c142f1",
   "metadata": {},
   "source": [
    "* ```Click-through-rate (CTR)```: This is the percentage of how many of our impressions became clicks. A high CTR is often seen as a sign of good creative being presented to a relevant audience. A low click through rate is suggestive of less-than-engaging adverts (design and / or messaging) and / or presentation of adverts to an inappropriate audience. What is seen as a good CTR will depend on the type of advert (website banner, Google Shopping ad, search network test ad etc.) and can vary across sectors, but 2% would be a reasonable benchmark.\n",
    "\n",
    "--------------\n",
    "* ```Conversion Rate (CR)```: This is the percentage of clicks that result in a 'conversion'. What a conversion is will be determined by the objectives of the campaign. It could be a sale, someone completing a contact form on a landing page, downloading an e-book, watching a video, or simply spending more than a particular amount of time or viewing over a target number of pages on a website.\n",
    "\n",
    "-------------\n",
    "* ```Cost Per Click (CPC)```: Self-explanatory this one: how much (on average) did each click cost. While it can often be seen as desirable to reduce the cost per click, the CPC needs to be considered along with other variables. For example, a campaign with an average CPC of £0.5 and a CR of 5% is likely achieving more with its budget than one with a CPC of £0.2 and a CR of 1% (assuming the conversion value is the same.\n",
    "\n",
    "-----------------\n",
    "* ```Cost Per Conversion```: Another simple metric, this figure is often more relevant than the CPC, as it combines the CPC and CR metrics, giving us an easy way to quickly get a feel for campaign effectiveness."
   ]
  },
  {
   "cell_type": "code",
   "execution_count": 12,
   "id": "a687e21e",
   "metadata": {},
   "outputs": [],
   "source": [
    "# Calculating CTR, CR, CPC and Cost Per Conversion\n",
    "\n",
    "df['ClickThroughRate'] = ((df['Clicks'] / df['Impressions']) * 100)\n",
    "df['ConversionRate'] = (df['Approved_Conversion'] / df['Total_Conversion'])\n",
    "df['CostPerClick'] = (df['Spent'] / df['Clicks'])\n",
    "df['CostPerConversion'] = (df['Spent'] / df['Approved_Conversion'])"
   ]
  },
  {
   "cell_type": "markdown",
   "id": "88e44933",
   "metadata": {},
   "source": [
    "* ```Conversion Value```: A conversion value is a numerical value that you assign to specific conversions in order to represent their impact to your business. The major benefit to assigning conversion values is to help you track, optimize, and report on your return on ad spend (ROAS).\n",
    "\n",
    "----------------\n",
    "* ```ROAS```: ROAS stands for return on ad spend—a marketing metric that measures the amount of revenue your business earns for each dollar it spends on advertising. For all intents and purposes, ROAS is practically the same as another metric you're probably familiar with: return on investment, or ROI.\n",
    "\n",
    "-----------------\n",
    "* ```Cost Per Mille```: This number is the cost of one thousand impressions. If your objective is ad exposure to increase brand awareness, this might be an important KPI for you to measur"
   ]
  },
  {
   "cell_type": "code",
   "execution_count": 13,
   "id": "0f88665e",
   "metadata": {},
   "outputs": [],
   "source": [
    "# Assume the value of sales to be 100 dollars\n",
    "\n",
    "df['ConversionValue'] = df['Approved_Conversion'] * 100\n",
    "df['ROAS'] = round(df['ConversionValue'] / df['Spent'], 2)\n",
    "df['CostPerMille'] = round((df['Spent'] / df['Impressions']) * 1000, 2)"
   ]
  },
  {
   "cell_type": "code",
   "execution_count": 14,
   "id": "1604b0a0",
   "metadata": {},
   "outputs": [],
   "source": [
    "# Removing all the records having NaN or Infinity values\n",
    "\n",
    "df = df.replace([np.inf, -np.inf], np.nan).dropna(axis = 0)"
   ]
  },
  {
   "cell_type": "code",
   "execution_count": 15,
   "id": "3d543329",
   "metadata": {},
   "outputs": [
    {
     "data": {
      "text/plain": [
       "(513, 16)"
      ]
     },
     "execution_count": 15,
     "metadata": {},
     "output_type": "execute_result"
    }
   ],
   "source": [
    "df.shape"
   ]
  },
  {
   "cell_type": "code",
   "execution_count": 16,
   "id": "887644d3",
   "metadata": {},
   "outputs": [
    {
     "data": {
      "text/plain": [
       "Index(['xyz_campaign_id', 'age', 'gender', 'interest', 'Impressions', 'Clicks',\n",
       "       'Spent', 'Total_Conversion', 'Approved_Conversion', 'ClickThroughRate',\n",
       "       'ConversionRate', 'CostPerClick', 'CostPerConversion',\n",
       "       'ConversionValue', 'ROAS', 'CostPerMille'],\n",
       "      dtype='object')"
      ]
     },
     "execution_count": 16,
     "metadata": {},
     "output_type": "execute_result"
    }
   ],
   "source": [
    "df.columns"
   ]
  },
  {
   "cell_type": "code",
   "execution_count": 17,
   "id": "de0c0f47",
   "metadata": {},
   "outputs": [
    {
     "data": {
      "text/html": [
       "<style  type=\"text/css\" >\n",
       "#T_64291_row0_col0,#T_64291_row0_col2,#T_64291_row0_col4,#T_64291_row2_col1,#T_64291_row2_col3,#T_64291_row2_col5,#T_64291_row2_col6{\n",
       "            background-color:  #e4ff7a;\n",
       "            color:  #000000;\n",
       "        }#T_64291_row0_col1,#T_64291_row0_col3,#T_64291_row0_col6,#T_64291_row1_col5,#T_64291_row2_col0,#T_64291_row2_col2,#T_64291_row2_col4{\n",
       "            background-color:  #fc7f00;\n",
       "            color:  #000000;\n",
       "        }#T_64291_row0_col5{\n",
       "            background-color:  #fd8d00;\n",
       "            color:  #000000;\n",
       "        }#T_64291_row1_col0{\n",
       "            background-color:  #ecf85d;\n",
       "            color:  #000000;\n",
       "        }#T_64291_row1_col1{\n",
       "            background-color:  #fd8900;\n",
       "            color:  #000000;\n",
       "        }#T_64291_row1_col2{\n",
       "            background-color:  #f3f245;\n",
       "            color:  #000000;\n",
       "        }#T_64291_row1_col3{\n",
       "            background-color:  #fc8100;\n",
       "            color:  #000000;\n",
       "        }#T_64291_row1_col4{\n",
       "            background-color:  #e8fb6b;\n",
       "            color:  #000000;\n",
       "        }#T_64291_row1_col6{\n",
       "            background-color:  #fd8c00;\n",
       "            color:  #000000;\n",
       "        }</style><table id=\"T_64291_\" ><thead>    <tr>        <th class=\"blank level0\" ></th>        <th class=\"col_heading level0 col0\" >Campaign</th>        <th class=\"col_heading level0 col1\" >Average CTR</th>        <th class=\"col_heading level0 col2\" >Average Cost/Click</th>        <th class=\"col_heading level0 col3\" >Average Conversion Rate</th>        <th class=\"col_heading level0 col4\" >ConversionValue</th>        <th class=\"col_heading level0 col5\" >ROAS</th>        <th class=\"col_heading level0 col6\" >CostPerMille</th>    </tr></thead><tbody>\n",
       "                <tr>\n",
       "                        <th id=\"T_64291_level0_row0\" class=\"row_heading level0 row0\" >0</th>\n",
       "                        <td id=\"T_64291_row0_col0\" class=\"data row0 col0\" >916</td>\n",
       "                        <td id=\"T_64291_row0_col1\" class=\"data row0 col1\" >0.027162</td>\n",
       "                        <td id=\"T_64291_row0_col2\" class=\"data row0 col2\" >1.339464</td>\n",
       "                        <td id=\"T_64291_row0_col3\" class=\"data row0 col3\" >0.906250</td>\n",
       "                        <td id=\"T_64291_row0_col4\" class=\"data row0 col4\" >100.000000</td>\n",
       "                        <td id=\"T_64291_row0_col5\" class=\"data row0 col5\" >42.500000</td>\n",
       "                        <td id=\"T_64291_row0_col6\" class=\"data row0 col6\" >0.371250</td>\n",
       "            </tr>\n",
       "            <tr>\n",
       "                        <th id=\"T_64291_level0_row1\" class=\"row_heading level0 row1\" >1</th>\n",
       "                        <td id=\"T_64291_row1_col0\" class=\"data row1 col0\" >936</td>\n",
       "                        <td id=\"T_64291_row1_col1\" class=\"data row1 col1\" >0.026293</td>\n",
       "                        <td id=\"T_64291_row1_col2\" class=\"data row1 col2\" >1.372928</td>\n",
       "                        <td id=\"T_64291_row1_col3\" class=\"data row1 col3\" >0.899851</td>\n",
       "                        <td id=\"T_64291_row1_col4\" class=\"data row1 col4\" >105.357143</td>\n",
       "                        <td id=\"T_64291_row1_col5\" class=\"data row1 col5\" >47.035089</td>\n",
       "                        <td id=\"T_64291_row1_col6\" class=\"data row1 col6\" >0.359732</td>\n",
       "            </tr>\n",
       "            <tr>\n",
       "                        <th id=\"T_64291_level0_row2\" class=\"row_heading level0 row2\" >2</th>\n",
       "                        <td id=\"T_64291_row2_col0\" class=\"data row2 col0\" >1178</td>\n",
       "                        <td id=\"T_64291_row2_col1\" class=\"data row2 col1\" >0.016359</td>\n",
       "                        <td id=\"T_64291_row2_col2\" class=\"data row2 col2\" >1.583425</td>\n",
       "                        <td id=\"T_64291_row2_col3\" class=\"data row2 col3\" >0.518370</td>\n",
       "                        <td id=\"T_64291_row2_col4\" class=\"data row2 col4\" >225.714286</td>\n",
       "                        <td id=\"T_64291_row2_col5\" class=\"data row2 col5\" >5.214623</td>\n",
       "                        <td id=\"T_64291_row2_col6\" class=\"data row2 col6\" >0.254000</td>\n",
       "            </tr>\n",
       "    </tbody></table>"
      ],
      "text/plain": [
       "<pandas.io.formats.style.Styler at 0x19df43779a0>"
      ]
     },
     "execution_count": 17,
     "metadata": {},
     "output_type": "execute_result"
    }
   ],
   "source": [
    "df[['xyz_campaign_id', 'ClickThroughRate', 'CostPerClick', 'ConversionRate', \n",
    "    'ConversionValue', 'ROAS', 'CostPerMille']].groupby(['xyz_campaign_id'], as_index = False).agg('mean').rename(columns = {'xyz_campaign_id':'Campaign', 'ClickThroughRate':'Average CTR', 'CostPerClick':'Average Cost/Click', 'ConversionRate':'Average Conversion Rate'}).style.background_gradient(cmap = 'Wistia')"
   ]
  },
  {
   "cell_type": "code",
   "execution_count": null,
   "id": "8d9bd706",
   "metadata": {},
   "outputs": [],
   "source": []
  }
 ],
 "metadata": {
  "kernelspec": {
   "display_name": "Python 3",
   "language": "python",
   "name": "python3"
  },
  "language_info": {
   "codemirror_mode": {
    "name": "ipython",
    "version": 3
   },
   "file_extension": ".py",
   "mimetype": "text/x-python",
   "name": "python",
   "nbconvert_exporter": "python",
   "pygments_lexer": "ipython3",
   "version": "3.9.1"
  }
 },
 "nbformat": 4,
 "nbformat_minor": 5
}
