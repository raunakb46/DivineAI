{
 "cells": [
  {
   "cell_type": "code",
   "execution_count": 8,
   "id": "3b535c8f",
   "metadata": {},
   "outputs": [
    {
     "name": "stdout",
     "output_type": "stream",
     "text": [
      "8\n"
     ]
    }
   ],
   "source": [
    "# Evaluate a string and a number\n",
    "\n",
    "print (eval(\"5 + 3\"))"
   ]
  },
  {
   "cell_type": "code",
   "execution_count": 9,
   "id": "4e276d4b",
   "metadata": {},
   "outputs": [
    {
     "name": "stdout",
     "output_type": "stream",
     "text": [
      "Given text: I am using python\n",
      "Length of string: 17\n"
     ]
    }
   ],
   "source": [
    "# Calculate length of a string\n",
    "\n",
    "text = \"I am using python\"\n",
    "print (\"Given text:\", text)\n",
    "print(\"Length of string:\", len(text))"
   ]
  },
  {
   "cell_type": "code",
   "execution_count": 10,
   "id": "53d6e8e0",
   "metadata": {},
   "outputs": [
    {
     "name": "stdout",
     "output_type": "stream",
     "text": [
      "Given text: I am using python\n",
      "Number of spaces in the text: 3\n"
     ]
    }
   ],
   "source": [
    "# Count the number of spaces in a string\n",
    "\n",
    "text = \"I am using python\"\n",
    "print (\"Given text:\", text)\n",
    "count = 0\n",
    "for i in text:\n",
    "    if (i == \" \"):\n",
    "        count = count + 1\n",
    "print (\"Number of spaces in the text:\", count)"
   ]
  },
  {
   "cell_type": "code",
   "execution_count": 21,
   "id": "7525da6a",
   "metadata": {},
   "outputs": [
    {
     "name": "stdout",
     "output_type": "stream",
     "text": [
      "Given text: Number of spaces in the text\n",
      "Removing leading characters: umber of spaces in the text\n"
     ]
    }
   ],
   "source": [
    "#Python program to remove leading characters\n",
    "\n",
    "text = \"Number of spaces in the text\"\n",
    "print (\"Given text:\", text)\n",
    "print (\"Removing leading characters:\", text.lstrip(\"N\"))"
   ]
  },
  {
   "cell_type": "code",
   "execution_count": 22,
   "id": "a8bbc276",
   "metadata": {},
   "outputs": [
    {
     "name": "stdout",
     "output_type": "stream",
     "text": [
      "Given text: Number of spaces in the text\n",
      "Removing trailing characters: Number of spaces in the tex\n"
     ]
    }
   ],
   "source": [
    "#Python program to removes trailing characters\n",
    "\n",
    "text = \"Number of spaces in the text\"\n",
    "print (\"Given text:\", text)\n",
    "print (\"Removing trailing characters:\", text.rstrip(\"t\"))"
   ]
  },
  {
   "cell_type": "code",
   "execution_count": 30,
   "id": "d8628da0",
   "metadata": {},
   "outputs": [
    {
     "name": "stdout",
     "output_type": "stream",
     "text": [
      "Enter a character:!\n",
      "Is the character alphanumeric ? False\n"
     ]
    }
   ],
   "source": [
    "#Check if all char are alphanumeric\n",
    "\n",
    "text = input(\"Enter a character:\")\n",
    "print (\"The character is alphanumeric:\", text.isalnum())"
   ]
  },
  {
   "cell_type": "code",
   "execution_count": 37,
   "id": "b9f2a432",
   "metadata": {},
   "outputs": [
    {
     "name": "stdout",
     "output_type": "stream",
     "text": [
      "Enter a text:iamusingpython\n",
      "The character is alphabetic: True\n"
     ]
    }
   ],
   "source": [
    "#Check if all char in the string are alphabetic\n",
    "\n",
    "text = input(\"Enter a text:\")\n",
    "print (\"The character is alphabetic:\", text.isalpha())"
   ]
  },
  {
   "cell_type": "code",
   "execution_count": 46,
   "id": "c6608fcf",
   "metadata": {},
   "outputs": [
    {
     "name": "stdout",
     "output_type": "stream",
     "text": [
      "Enter a string:Iamusingpython22\n",
      "String contains digit\n"
     ]
    }
   ],
   "source": [
    "#Test if string contains digits\n",
    "\n",
    "text = input(\"Enter a string:\")\n",
    "flag = 0\n",
    "for i in text:\n",
    "    if (i.isdigit() == True):\n",
    "        flag = 1\n",
    "    else:\n",
    "        flag = 0\n",
    "        \n",
    "if (flag == 1):\n",
    "    print (\"String contains digit\") \n",
    "else:\n",
    "    print (\"String doesn't have digit\")"
   ]
  },
  {
   "cell_type": "code",
   "execution_count": 50,
   "id": "f143a203",
   "metadata": {},
   "outputs": [
    {
     "name": "stdout",
     "output_type": "stream",
     "text": [
      "Enter a string:PYTHON\n",
      "String contains uppercase letter\n"
     ]
    }
   ],
   "source": [
    "#Test if string contains upper case\n",
    "\n",
    "text = input(\"Enter a string:\")\n",
    "flag = 0\n",
    "for i in text:\n",
    "    if (i.isupper() == True):\n",
    "        flag = 1\n",
    "    else:\n",
    "        flag = 0\n",
    "        \n",
    "if (flag == 1):\n",
    "    print (\"String contains uppercase letter\") \n",
    "else:\n",
    "    print (\"String doesn't have uppercase letter\")"
   ]
  },
  {
   "cell_type": "code",
   "execution_count": 59,
   "id": "9b2e0a15",
   "metadata": {},
   "outputs": [
    {
     "name": "stdout",
     "output_type": "stream",
     "text": [
      "Enter a string:Hardware\n",
      "String starts with H\n"
     ]
    }
   ],
   "source": [
    "# Test if string starts with H\n",
    "\n",
    "text = input(\"Enter a string:\")\n",
    "flag = 0\n",
    "if(text.startswith(\"H\") == True):\n",
    "    print (\"String starts with H\")\n",
    "else:\n",
    "    print (\"String isn't starting with H\")\n"
   ]
  },
  {
   "cell_type": "code",
   "execution_count": 70,
   "id": "212cfa94",
   "metadata": {},
   "outputs": [
    {
     "name": "stdout",
     "output_type": "stream",
     "text": [
      "Enter any alphabet:G\n",
      "Integer value of G is: 7\n"
     ]
    }
   ],
   "source": [
    "# Returns an integer value for the given character\n",
    "\n",
    "char = input(\"Enter any alphabet:\")\n",
    "if (char.isupper() == True):\n",
    "    print (\"Integer value of {} is:\".format(char), ord(char)-64)\n",
    "else:\n",
    "    print (\"Integer value of {} is:\".format(char), ord(char)-96)"
   ]
  },
  {
   "cell_type": "code",
   "execution_count": 73,
   "id": "7db02079",
   "metadata": {},
   "outputs": [
    {
     "name": "stdout",
     "output_type": "stream",
     "text": [
      "Enter a string:This is my 22nd program\n",
      "Total no. of digits in the string: 2\n"
     ]
    }
   ],
   "source": [
    "# Counting total Digits in a string\n",
    "\n",
    "char = input(\"Enter a string:\")\n",
    "count = 0\n",
    "for i in char:\n",
    "    if (i.isdigit() == True):\n",
    "        count = count + 1\n",
    "print (\"Total no. of digits in the string:\", count)"
   ]
  },
  {
   "cell_type": "code",
   "execution_count": 87,
   "id": "a5873c74",
   "metadata": {},
   "outputs": [
    {
     "name": "stdout",
     "output_type": "stream",
     "text": [
      "Enter a string:This has @lph@numer!c\n",
      "Total no. of alphanumerics in the string: 16\n"
     ]
    }
   ],
   "source": [
    "# Counting total alphanumeric in a string\n",
    "\n",
    "char = input(\"Enter a string:\")\n",
    "count = 0\n",
    "for i in char:\n",
    "    if (i.isalnum() == True):\n",
    "        count = count + 1\n",
    "print (\"Total no. of alphanumerics in the string:\", count)"
   ]
  },
  {
   "cell_type": "code",
   "execution_count": 88,
   "id": "bf9640f6",
   "metadata": {},
   "outputs": [
    {
     "name": "stdout",
     "output_type": "stream",
     "text": [
      "Enter a string:This is in UPPERCASE\n",
      "Total no. of uppercase letters in the string: 10\n"
     ]
    }
   ],
   "source": [
    "# Counting total Upper Case in a string\n",
    "\n",
    "char = input(\"Enter a string:\")\n",
    "count = 0\n",
    "for i in char:\n",
    "    if (i.isupper() == True):\n",
    "        count = count + 1\n",
    "print (\"Total no. of uppercase letters in the string:\", count)"
   ]
  },
  {
   "cell_type": "code",
   "execution_count": 89,
   "id": "a10488fc",
   "metadata": {},
   "outputs": [
    {
     "name": "stdout",
     "output_type": "stream",
     "text": [
      "Enter a string:I am learning PYTHON\n",
      "Total no. of lowercase letters in the string: 10\n"
     ]
    }
   ],
   "source": [
    "# Counting total lower Case in a string\n",
    "\n",
    "char = input(\"Enter a string:\")\n",
    "count = 0\n",
    "for i in char:\n",
    "    if (i.islower() == True):\n",
    "        count = count + 1\n",
    "print (\"Total no. of lowercase letters in the string:\", count)"
   ]
  },
  {
   "cell_type": "code",
   "execution_count": 94,
   "id": "da4ab737",
   "metadata": {},
   "outputs": [
    {
     "name": "stdout",
     "output_type": "stream",
     "text": [
      "Before sorting: [1, 4, 8, 9, 0, 3, 2]\n",
      "After sorting: [0, 1, 2, 3, 4, 8, 9]\n"
     ]
    }
   ],
   "source": [
    "# Bubble sort in python\n",
    "\n",
    "def bubbleSort(a):\n",
    "    l = len(a)\n",
    "    for i in range (0, l-1):\n",
    "        for j in range (l-1):\n",
    "            if (a[j] > a[j+1]):\n",
    "                temp = a[j]\n",
    "                a[j] = a[j+1]\n",
    "                a[j+1] = temp\n",
    "                 \n",
    "    return a\n",
    "\n",
    "arr = [1, 4, 8, 9, 0, 3, 2]\n",
    "print (\"Before sorting:\", arr)\n",
    "print (\"After sorting:\", bubbleSort(arr))\n",
    "    "
   ]
  },
  {
   "cell_type": "code",
   "execution_count": 101,
   "id": "b7848b4b",
   "metadata": {},
   "outputs": [
    {
     "name": "stdout",
     "output_type": "stream",
     "text": [
      "Given list: [2, 4, 6, 8, 10, 12]\n",
      "Product of each pair: [8, 12, 16, 20, 24, 24, 32, 40, 48, 48, 60, 72, 80, 96, 120]\n"
     ]
    }
   ],
   "source": [
    "# Compute the product of every pair of numbers from two lists\n",
    "\n",
    "l = [2, 4, 6, 8, 10, 12]\n",
    "p = []\n",
    "#product = 0\n",
    "for i in range(0, len(l)):\n",
    "    for j in range(i+1, len(l)):\n",
    "        product = l[i] * l[j]\n",
    "        p.append(product)\n",
    "print (\"Given list:\", l)\n",
    "print (\"Product of each pair:\", p)"
   ]
  },
  {
   "cell_type": "code",
   "execution_count": 109,
   "id": "8284bf69",
   "metadata": {},
   "outputs": [
    {
     "name": "stdout",
     "output_type": "stream",
     "text": [
      "Given lists: [2, 3, 4, 5, 6] [7, 8, 9, 10, 11]\n",
      "Product of the lists: [14, 24, 36, 50, 66]\n"
     ]
    }
   ],
   "source": [
    "l1 = [2, 3, 4, 5, 6]\n",
    "l2 = [7, 8, 9, 10, 11]\n",
    "l3 = []\n",
    "for i in range(len(l1)):\n",
    "    l3.append(l1[i] * l2[i])\n",
    "print (\"Given lists:\", l1, l2)\n",
    "print (\"Product of the lists:\", l3)"
   ]
  },
  {
   "cell_type": "code",
   "execution_count": 112,
   "id": "12f56594",
   "metadata": {},
   "outputs": [
    {
     "name": "stdout",
     "output_type": "stream",
     "text": [
      "Given lists: [2, 3, 4, 5, 6] [7, 8, 9, 10, 11]\n",
      "Sum of the list: [9, 11, 13, 15, 17]\n"
     ]
    }
   ],
   "source": [
    "# Calculate the sum of every pair of numbers from two lists\n",
    "\n",
    "l1 = [2, 3, 4, 5, 6]\n",
    "l2 = [7, 8, 9, 10, 11]\n",
    "l3 = []\n",
    "for i in range(len(l1)):\n",
    "    l3.append(l1[i] + l2[i])\n",
    "print (\"Given lists:\", l1, l2)\n",
    "print (\"Sum of the list:\", l3)"
   ]
  },
  {
   "cell_type": "code",
   "execution_count": 116,
   "id": "9f89bd4b",
   "metadata": {},
   "outputs": [
    {
     "name": "stdout",
     "output_type": "stream",
     "text": [
      "Given lists: [2, 3, 4, 5, 6] [7, 8, 9]\n",
      "Sum of the list: [9, 10, 11, 10, 11, 12, 11, 12, 13, 12, 13, 14, 13, 14, 15]\n"
     ]
    }
   ],
   "source": [
    "l1 = [2, 3, 4, 5, 6]\n",
    "l2 = [7, 8, 9]\n",
    "l3 = []\n",
    "for i in range(len(l1)):\n",
    "    for j in range(len(l2)):\n",
    "        l3.append(l1[i] + l2[j])\n",
    "print (\"Given lists:\", l1, l2)\n",
    "print (\"Sum of the list:\", l3)"
   ]
  },
  {
   "cell_type": "code",
   "execution_count": 128,
   "id": "85c36399",
   "metadata": {},
   "outputs": [
    {
     "name": "stdout",
     "output_type": "stream",
     "text": [
      "List 1: [2, 3, 4, 5, 6, 8]\n",
      "6 12 20 30 48 \n",
      "List 2: [7, 8, 9, 10, 11, 13]\n",
      "56 72 90 110 143 "
     ]
    }
   ],
   "source": [
    "# Calculate the pair-wise product of two lists\n",
    "\n",
    "def pairProd(a):\n",
    "    n = len(a)\n",
    "    prod = 1\n",
    "    for i in range(n - 1):\n",
    "        prod = a[i] * a[i+1]\n",
    "        print (prod, end = \" \")\n",
    "\n",
    "l1 = [2, 3, 4, 5, 6, 8]\n",
    "l2 = [7, 8, 9, 10, 11, 13]\n",
    "print (\"List 1:\", l1)\n",
    "pairProd(l1)\n",
    "print (\"\\nList 2:\", l2)\n",
    "pairProd(l2)"
   ]
  },
  {
   "cell_type": "code",
   "execution_count": 129,
   "id": "0823812e",
   "metadata": {},
   "outputs": [
    {
     "name": "stdout",
     "output_type": "stream",
     "text": [
      "Given stack: [1, 2, 3, 4, 5, 6]\n",
      "Last element removed: [1, 2, 3, 4, 5]\n"
     ]
    }
   ],
   "source": [
    "# Remove the last element from the stack\n",
    "\n",
    "stack = [1, 2, 3, 4, 5, 6]\n",
    "print (\"Given stack:\", stack)\n",
    "stack.pop()\n",
    "print (\"Last element removed:\", stack)"
   ]
  },
  {
   "cell_type": "code",
   "execution_count": null,
   "id": "ca6c191d",
   "metadata": {},
   "outputs": [],
   "source": []
  }
 ],
 "metadata": {
  "kernelspec": {
   "display_name": "Python 3",
   "language": "python",
   "name": "python3"
  },
  "language_info": {
   "codemirror_mode": {
    "name": "ipython",
    "version": 3
   },
   "file_extension": ".py",
   "mimetype": "text/x-python",
   "name": "python",
   "nbconvert_exporter": "python",
   "pygments_lexer": "ipython3",
   "version": "3.9.1"
  }
 },
 "nbformat": 4,
 "nbformat_minor": 5
}
